{
 "cells": [
  {
   "cell_type": "markdown",
   "metadata": {},
   "source": [
    "# Install pkgs"
   ]
  },
  {
   "cell_type": "markdown",
   "metadata": {},
   "source": [
    "**Note:** This is training notebook only. Inference ain't included in . \n",
    "Anybody who wants to use this notebook for inference purposes is most welcome."
   ]
  },
  {
   "cell_type": "code",
   "execution_count": 1,
   "metadata": {},
   "outputs": [],
   "source": [
    "import os\n",
    "import shutil\n",
    "import numpy as np\n",
    "from pathlib import Path\n",
    "import torch\n",
    "import torchinfo\n",
    "import zarr, copick\n",
    "from tqdm import tqdm\n",
    "from monai.data import DataLoader, Dataset, CacheDataset, decollate_batch\n",
    "from monai.transforms import (\n",
    "    Compose, \n",
    "    EnsureChannelFirstd, \n",
    "    Orientationd,  \n",
    "    AsDiscrete,  \n",
    "    RandFlipd, \n",
    "    RandRotate90d, \n",
    "    NormalizeIntensityd,\n",
    "    RandCropByLabelClassesd,\n",
    ")\n",
    "from monai.networks.nets import UNet\n",
    "from monai.losses import DiceLoss, FocalLoss, TverskyLoss\n",
    "from monai.metrics import DiceMetric, ConfusionMatrixMetric\n",
    "import mlflow\n",
    "import mlflow.pytorch\n",
    "from copick_utils.segmentation import segmentation_from_picks\n",
    "import copick_utils.writers.write as write\n",
    "from collections import defaultdict"
   ]
  },
  {
   "cell_type": "code",
   "execution_count": 2,
   "metadata": {},
   "outputs": [],
   "source": [
    "path = '/media/max1024/Extreme SSD/Kaggle/czii-cryo-et-object-identification/'\n",
    "output_path = path + 'output/'"
   ]
  },
  {
   "cell_type": "code",
   "execution_count": 3,
   "metadata": {
    "scrolled": true
   },
   "outputs": [
    {
     "name": "stdout",
     "output_type": "stream",
     "text": [
      "Copied /media/max1024/Extreme SSD/Kaggle/czii-cryo-et-object-identification/train/overlay/ExperimentRuns/TS_5_4/Picks/apo-ferritin.json to /media/max1024/Extreme SSD/Kaggle/czii-cryo-et-object-identification/output/overlay/ExperimentRuns/TS_5_4/Picks/curation_0_apo-ferritin.json\n",
      "Copied /media/max1024/Extreme SSD/Kaggle/czii-cryo-et-object-identification/train/overlay/ExperimentRuns/TS_5_4/Picks/beta-amylase.json to /media/max1024/Extreme SSD/Kaggle/czii-cryo-et-object-identification/output/overlay/ExperimentRuns/TS_5_4/Picks/curation_0_beta-amylase.json\n",
      "Copied /media/max1024/Extreme SSD/Kaggle/czii-cryo-et-object-identification/train/overlay/ExperimentRuns/TS_5_4/Picks/beta-galactosidase.json to /media/max1024/Extreme SSD/Kaggle/czii-cryo-et-object-identification/output/overlay/ExperimentRuns/TS_5_4/Picks/curation_0_beta-galactosidase.json\n",
      "Copied /media/max1024/Extreme SSD/Kaggle/czii-cryo-et-object-identification/train/overlay/ExperimentRuns/TS_5_4/Picks/ribosome.json to /media/max1024/Extreme SSD/Kaggle/czii-cryo-et-object-identification/output/overlay/ExperimentRuns/TS_5_4/Picks/curation_0_ribosome.json\n",
      "Copied /media/max1024/Extreme SSD/Kaggle/czii-cryo-et-object-identification/train/overlay/ExperimentRuns/TS_5_4/Picks/thyroglobulin.json to /media/max1024/Extreme SSD/Kaggle/czii-cryo-et-object-identification/output/overlay/ExperimentRuns/TS_5_4/Picks/curation_0_thyroglobulin.json\n",
      "Copied /media/max1024/Extreme SSD/Kaggle/czii-cryo-et-object-identification/train/overlay/ExperimentRuns/TS_5_4/Picks/virus-like-particle.json to /media/max1024/Extreme SSD/Kaggle/czii-cryo-et-object-identification/output/overlay/ExperimentRuns/TS_5_4/Picks/curation_0_virus-like-particle.json\n",
      "Copied /media/max1024/Extreme SSD/Kaggle/czii-cryo-et-object-identification/train/overlay/ExperimentRuns/TS_69_2/Picks/apo-ferritin.json to /media/max1024/Extreme SSD/Kaggle/czii-cryo-et-object-identification/output/overlay/ExperimentRuns/TS_69_2/Picks/curation_0_apo-ferritin.json\n",
      "Copied /media/max1024/Extreme SSD/Kaggle/czii-cryo-et-object-identification/train/overlay/ExperimentRuns/TS_69_2/Picks/beta-amylase.json to /media/max1024/Extreme SSD/Kaggle/czii-cryo-et-object-identification/output/overlay/ExperimentRuns/TS_69_2/Picks/curation_0_beta-amylase.json\n",
      "Copied /media/max1024/Extreme SSD/Kaggle/czii-cryo-et-object-identification/train/overlay/ExperimentRuns/TS_69_2/Picks/beta-galactosidase.json to /media/max1024/Extreme SSD/Kaggle/czii-cryo-et-object-identification/output/overlay/ExperimentRuns/TS_69_2/Picks/curation_0_beta-galactosidase.json\n",
      "Copied /media/max1024/Extreme SSD/Kaggle/czii-cryo-et-object-identification/train/overlay/ExperimentRuns/TS_69_2/Picks/ribosome.json to /media/max1024/Extreme SSD/Kaggle/czii-cryo-et-object-identification/output/overlay/ExperimentRuns/TS_69_2/Picks/curation_0_ribosome.json\n",
      "Copied /media/max1024/Extreme SSD/Kaggle/czii-cryo-et-object-identification/train/overlay/ExperimentRuns/TS_69_2/Picks/thyroglobulin.json to /media/max1024/Extreme SSD/Kaggle/czii-cryo-et-object-identification/output/overlay/ExperimentRuns/TS_69_2/Picks/curation_0_thyroglobulin.json\n",
      "Copied /media/max1024/Extreme SSD/Kaggle/czii-cryo-et-object-identification/train/overlay/ExperimentRuns/TS_69_2/Picks/virus-like-particle.json to /media/max1024/Extreme SSD/Kaggle/czii-cryo-et-object-identification/output/overlay/ExperimentRuns/TS_69_2/Picks/curation_0_virus-like-particle.json\n",
      "Copied /media/max1024/Extreme SSD/Kaggle/czii-cryo-et-object-identification/train/overlay/ExperimentRuns/TS_6_4/Picks/apo-ferritin.json to /media/max1024/Extreme SSD/Kaggle/czii-cryo-et-object-identification/output/overlay/ExperimentRuns/TS_6_4/Picks/curation_0_apo-ferritin.json\n",
      "Copied /media/max1024/Extreme SSD/Kaggle/czii-cryo-et-object-identification/train/overlay/ExperimentRuns/TS_6_4/Picks/beta-amylase.json to /media/max1024/Extreme SSD/Kaggle/czii-cryo-et-object-identification/output/overlay/ExperimentRuns/TS_6_4/Picks/curation_0_beta-amylase.json\n",
      "Copied /media/max1024/Extreme SSD/Kaggle/czii-cryo-et-object-identification/train/overlay/ExperimentRuns/TS_6_4/Picks/beta-galactosidase.json to /media/max1024/Extreme SSD/Kaggle/czii-cryo-et-object-identification/output/overlay/ExperimentRuns/TS_6_4/Picks/curation_0_beta-galactosidase.json\n",
      "Copied /media/max1024/Extreme SSD/Kaggle/czii-cryo-et-object-identification/train/overlay/ExperimentRuns/TS_6_4/Picks/ribosome.json to /media/max1024/Extreme SSD/Kaggle/czii-cryo-et-object-identification/output/overlay/ExperimentRuns/TS_6_4/Picks/curation_0_ribosome.json\n",
      "Copied /media/max1024/Extreme SSD/Kaggle/czii-cryo-et-object-identification/train/overlay/ExperimentRuns/TS_6_4/Picks/thyroglobulin.json to /media/max1024/Extreme SSD/Kaggle/czii-cryo-et-object-identification/output/overlay/ExperimentRuns/TS_6_4/Picks/curation_0_thyroglobulin.json\n",
      "Copied /media/max1024/Extreme SSD/Kaggle/czii-cryo-et-object-identification/train/overlay/ExperimentRuns/TS_6_4/Picks/virus-like-particle.json to /media/max1024/Extreme SSD/Kaggle/czii-cryo-et-object-identification/output/overlay/ExperimentRuns/TS_6_4/Picks/curation_0_virus-like-particle.json\n",
      "Copied /media/max1024/Extreme SSD/Kaggle/czii-cryo-et-object-identification/train/overlay/ExperimentRuns/TS_6_6/Picks/apo-ferritin.json to /media/max1024/Extreme SSD/Kaggle/czii-cryo-et-object-identification/output/overlay/ExperimentRuns/TS_6_6/Picks/curation_0_apo-ferritin.json\n",
      "Copied /media/max1024/Extreme SSD/Kaggle/czii-cryo-et-object-identification/train/overlay/ExperimentRuns/TS_6_6/Picks/beta-amylase.json to /media/max1024/Extreme SSD/Kaggle/czii-cryo-et-object-identification/output/overlay/ExperimentRuns/TS_6_6/Picks/curation_0_beta-amylase.json\n",
      "Copied /media/max1024/Extreme SSD/Kaggle/czii-cryo-et-object-identification/train/overlay/ExperimentRuns/TS_6_6/Picks/beta-galactosidase.json to /media/max1024/Extreme SSD/Kaggle/czii-cryo-et-object-identification/output/overlay/ExperimentRuns/TS_6_6/Picks/curation_0_beta-galactosidase.json\n",
      "Copied /media/max1024/Extreme SSD/Kaggle/czii-cryo-et-object-identification/train/overlay/ExperimentRuns/TS_6_6/Picks/ribosome.json to /media/max1024/Extreme SSD/Kaggle/czii-cryo-et-object-identification/output/overlay/ExperimentRuns/TS_6_6/Picks/curation_0_ribosome.json\n",
      "Copied /media/max1024/Extreme SSD/Kaggle/czii-cryo-et-object-identification/train/overlay/ExperimentRuns/TS_6_6/Picks/thyroglobulin.json to /media/max1024/Extreme SSD/Kaggle/czii-cryo-et-object-identification/output/overlay/ExperimentRuns/TS_6_6/Picks/curation_0_thyroglobulin.json\n",
      "Copied /media/max1024/Extreme SSD/Kaggle/czii-cryo-et-object-identification/train/overlay/ExperimentRuns/TS_6_6/Picks/virus-like-particle.json to /media/max1024/Extreme SSD/Kaggle/czii-cryo-et-object-identification/output/overlay/ExperimentRuns/TS_6_6/Picks/curation_0_virus-like-particle.json\n",
      "Copied /media/max1024/Extreme SSD/Kaggle/czii-cryo-et-object-identification/train/overlay/ExperimentRuns/TS_73_6/Picks/apo-ferritin.json to /media/max1024/Extreme SSD/Kaggle/czii-cryo-et-object-identification/output/overlay/ExperimentRuns/TS_73_6/Picks/curation_0_apo-ferritin.json\n",
      "Copied /media/max1024/Extreme SSD/Kaggle/czii-cryo-et-object-identification/train/overlay/ExperimentRuns/TS_73_6/Picks/beta-amylase.json to /media/max1024/Extreme SSD/Kaggle/czii-cryo-et-object-identification/output/overlay/ExperimentRuns/TS_73_6/Picks/curation_0_beta-amylase.json\n",
      "Copied /media/max1024/Extreme SSD/Kaggle/czii-cryo-et-object-identification/train/overlay/ExperimentRuns/TS_73_6/Picks/beta-galactosidase.json to /media/max1024/Extreme SSD/Kaggle/czii-cryo-et-object-identification/output/overlay/ExperimentRuns/TS_73_6/Picks/curation_0_beta-galactosidase.json\n",
      "Copied /media/max1024/Extreme SSD/Kaggle/czii-cryo-et-object-identification/train/overlay/ExperimentRuns/TS_73_6/Picks/ribosome.json to /media/max1024/Extreme SSD/Kaggle/czii-cryo-et-object-identification/output/overlay/ExperimentRuns/TS_73_6/Picks/curation_0_ribosome.json\n",
      "Copied /media/max1024/Extreme SSD/Kaggle/czii-cryo-et-object-identification/train/overlay/ExperimentRuns/TS_73_6/Picks/thyroglobulin.json to /media/max1024/Extreme SSD/Kaggle/czii-cryo-et-object-identification/output/overlay/ExperimentRuns/TS_73_6/Picks/curation_0_thyroglobulin.json\n",
      "Copied /media/max1024/Extreme SSD/Kaggle/czii-cryo-et-object-identification/train/overlay/ExperimentRuns/TS_73_6/Picks/virus-like-particle.json to /media/max1024/Extreme SSD/Kaggle/czii-cryo-et-object-identification/output/overlay/ExperimentRuns/TS_73_6/Picks/curation_0_virus-like-particle.json\n",
      "Copied /media/max1024/Extreme SSD/Kaggle/czii-cryo-et-object-identification/train/overlay/ExperimentRuns/TS_86_3/Picks/apo-ferritin.json to /media/max1024/Extreme SSD/Kaggle/czii-cryo-et-object-identification/output/overlay/ExperimentRuns/TS_86_3/Picks/curation_0_apo-ferritin.json\n",
      "Copied /media/max1024/Extreme SSD/Kaggle/czii-cryo-et-object-identification/train/overlay/ExperimentRuns/TS_86_3/Picks/beta-amylase.json to /media/max1024/Extreme SSD/Kaggle/czii-cryo-et-object-identification/output/overlay/ExperimentRuns/TS_86_3/Picks/curation_0_beta-amylase.json\n",
      "Copied /media/max1024/Extreme SSD/Kaggle/czii-cryo-et-object-identification/train/overlay/ExperimentRuns/TS_86_3/Picks/beta-galactosidase.json to /media/max1024/Extreme SSD/Kaggle/czii-cryo-et-object-identification/output/overlay/ExperimentRuns/TS_86_3/Picks/curation_0_beta-galactosidase.json\n",
      "Copied /media/max1024/Extreme SSD/Kaggle/czii-cryo-et-object-identification/train/overlay/ExperimentRuns/TS_86_3/Picks/ribosome.json to /media/max1024/Extreme SSD/Kaggle/czii-cryo-et-object-identification/output/overlay/ExperimentRuns/TS_86_3/Picks/curation_0_ribosome.json\n",
      "Copied /media/max1024/Extreme SSD/Kaggle/czii-cryo-et-object-identification/train/overlay/ExperimentRuns/TS_86_3/Picks/thyroglobulin.json to /media/max1024/Extreme SSD/Kaggle/czii-cryo-et-object-identification/output/overlay/ExperimentRuns/TS_86_3/Picks/curation_0_thyroglobulin.json\n",
      "Copied /media/max1024/Extreme SSD/Kaggle/czii-cryo-et-object-identification/train/overlay/ExperimentRuns/TS_86_3/Picks/virus-like-particle.json to /media/max1024/Extreme SSD/Kaggle/czii-cryo-et-object-identification/output/overlay/ExperimentRuns/TS_86_3/Picks/curation_0_virus-like-particle.json\n",
      "Copied /media/max1024/Extreme SSD/Kaggle/czii-cryo-et-object-identification/train/overlay/ExperimentRuns/TS_99_9/Picks/apo-ferritin.json to /media/max1024/Extreme SSD/Kaggle/czii-cryo-et-object-identification/output/overlay/ExperimentRuns/TS_99_9/Picks/curation_0_apo-ferritin.json\n",
      "Copied /media/max1024/Extreme SSD/Kaggle/czii-cryo-et-object-identification/train/overlay/ExperimentRuns/TS_99_9/Picks/beta-amylase.json to /media/max1024/Extreme SSD/Kaggle/czii-cryo-et-object-identification/output/overlay/ExperimentRuns/TS_99_9/Picks/curation_0_beta-amylase.json\n",
      "Copied /media/max1024/Extreme SSD/Kaggle/czii-cryo-et-object-identification/train/overlay/ExperimentRuns/TS_99_9/Picks/beta-galactosidase.json to /media/max1024/Extreme SSD/Kaggle/czii-cryo-et-object-identification/output/overlay/ExperimentRuns/TS_99_9/Picks/curation_0_beta-galactosidase.json\n",
      "Copied /media/max1024/Extreme SSD/Kaggle/czii-cryo-et-object-identification/train/overlay/ExperimentRuns/TS_99_9/Picks/ribosome.json to /media/max1024/Extreme SSD/Kaggle/czii-cryo-et-object-identification/output/overlay/ExperimentRuns/TS_99_9/Picks/curation_0_ribosome.json\n",
      "Copied /media/max1024/Extreme SSD/Kaggle/czii-cryo-et-object-identification/train/overlay/ExperimentRuns/TS_99_9/Picks/thyroglobulin.json to /media/max1024/Extreme SSD/Kaggle/czii-cryo-et-object-identification/output/overlay/ExperimentRuns/TS_99_9/Picks/curation_0_thyroglobulin.json\n",
      "Copied /media/max1024/Extreme SSD/Kaggle/czii-cryo-et-object-identification/train/overlay/ExperimentRuns/TS_99_9/Picks/virus-like-particle.json to /media/max1024/Extreme SSD/Kaggle/czii-cryo-et-object-identification/output/overlay/ExperimentRuns/TS_99_9/Picks/curation_0_virus-like-particle.json\n"
     ]
    }
   ],
   "source": [
    "# Make a copick project\n",
    "\n",
    "config_blob = \"\"\"{\n",
    "    \"name\": \"czii_cryoet_mlchallenge_2024\",\n",
    "    \"description\": \"2024 CZII CryoET ML Challenge training data.\",\n",
    "    \"version\": \"1.0.0\",\n",
    "\n",
    "    \"pickable_objects\": [\n",
    "        {\n",
    "            \"name\": \"apo-ferritin\",\n",
    "            \"is_particle\": true,\n",
    "            \"pdb_id\": \"4V1W\",\n",
    "            \"label\": 1,\n",
    "            \"color\": [  0, 117, 220, 128],\n",
    "            \"radius\": 60,\n",
    "            \"map_threshold\": 0.0418\n",
    "        },\n",
    "        {\n",
    "            \"name\": \"beta-galactosidase\",\n",
    "            \"is_particle\": true,\n",
    "            \"pdb_id\": \"6X1Q\",\n",
    "            \"label\": 3,\n",
    "            \"color\": [ 76,   0,  92, 128],\n",
    "            \"radius\": 90,\n",
    "            \"map_threshold\": 0.0578\n",
    "        },\n",
    "        {\n",
    "            \"name\": \"ribosome\",\n",
    "            \"is_particle\": true,\n",
    "            \"pdb_id\": \"6EK0\",\n",
    "            \"label\": 4,\n",
    "            \"color\": [  0,  92,  49, 128],\n",
    "            \"radius\": 150,\n",
    "            \"map_threshold\": 0.0374\n",
    "        },\n",
    "        {\n",
    "            \"name\": \"thyroglobulin\",\n",
    "            \"is_particle\": true,\n",
    "            \"pdb_id\": \"6SCJ\",\n",
    "            \"label\": 5,\n",
    "            \"color\": [ 43, 206,  72, 128],\n",
    "            \"radius\": 130,\n",
    "            \"map_threshold\": 0.0278\n",
    "        },\n",
    "        {\n",
    "            \"name\": \"virus-like-particle\",\n",
    "            \"is_particle\": true,\n",
    "            \"label\": 6,\n",
    "            \"color\": [255, 204, 153, 128],\n",
    "            \"radius\": 135,\n",
    "            \"map_threshold\": 0.201\n",
    "        },\n",
    "        {\n",
    "            \"name\": \"membrane\",\n",
    "            \"is_particle\": false,\n",
    "            \"label\": 8,\n",
    "            \"color\": [100, 100, 100, 128]\n",
    "        },\n",
    "        {\n",
    "            \"name\": \"background\",\n",
    "            \"is_particle\": false,\n",
    "            \"label\": 9,\n",
    "            \"color\": [10, 150, 200, 128]\n",
    "        }\n",
    "    ],\n",
    "\n",
    "    \"overlay_root\": \"/media/max1024/Extreme SSD/Kaggle/czii-cryo-et-object-identification/output/overlay\",\n",
    "\n",
    "    \"overlay_fs_args\": {\n",
    "        \"auto_mkdir\": true\n",
    "    },\n",
    "\n",
    "    \"static_root\": \"/media/max1024/Extreme SSD/Kaggle/czii-cryo-et-object-identification/train/static\"\n",
    "}\"\"\"\n",
    "\n",
    "copick_config_path = path + \"output/copick.config\"\n",
    "output_overlay = path + \"output/overlay\"\n",
    "\n",
    "with open(copick_config_path, \"w\") as f:\n",
    "    f.write(config_blob)\n",
    "    \n",
    "# Update the overlay\n",
    "# Define source and destination directories\n",
    "source_dir = path + 'train/overlay'\n",
    "destination_dir = path + 'output/overlay'\n",
    "\n",
    "# Walk through the source directory\n",
    "for root, dirs, files in os.walk(source_dir):\n",
    "    # Create corresponding subdirectories in the destination\n",
    "    relative_path = os.path.relpath(root, source_dir)\n",
    "    target_dir = os.path.join(destination_dir, relative_path)\n",
    "    os.makedirs(target_dir, exist_ok=True)\n",
    "    \n",
    "    # Copy and rename each file\n",
    "    for file in files:\n",
    "        if file.startswith(\"curation_0_\"):\n",
    "            new_filename = file\n",
    "        else:\n",
    "            new_filename = f\"curation_0_{file}\"\n",
    "            \n",
    "        \n",
    "        # Define full paths for the source and destination files\n",
    "        source_file = os.path.join(root, file)\n",
    "        destination_file = os.path.join(target_dir, new_filename)\n",
    "        \n",
    "        # Copy the file with the new name\n",
    "        shutil.copy2(source_file, destination_file)\n",
    "        print(f\"Copied {source_file} to {destination_file}\")"
   ]
  },
  {
   "cell_type": "markdown",
   "metadata": {},
   "source": [
    "# Prepare the dataset\n",
    "## 1. Get copick root"
   ]
  },
  {
   "cell_type": "code",
   "execution_count": 4,
   "metadata": {},
   "outputs": [],
   "source": [
    "root = copick.from_file(copick_config_path)\n",
    "\n",
    "copick_user_name = \"copickUtils\"\n",
    "copick_segmentation_name = \"paintedPicks\"\n",
    "voxel_size = 10\n",
    "tomo_type = \"denoised\""
   ]
  },
  {
   "cell_type": "markdown",
   "metadata": {},
   "source": [
    "## 2. Generate multi-class segmentation masks from picks, and saved them to the copick overlay directory (one-time)"
   ]
  },
  {
   "cell_type": "code",
   "execution_count": 5,
   "metadata": {},
   "outputs": [
    {
     "name": "stderr",
     "output_type": "stream",
     "text": [
      "100%|██████████████████████████████████████████████████████████████████| 7/7 [00:04<00:00,  1.63it/s]\n"
     ]
    }
   ],
   "source": [
    "# Just do this once\n",
    "generate_masks = True\n",
    "\n",
    "if generate_masks:\n",
    "    target_objects = defaultdict(dict)\n",
    "    for object in root.pickable_objects:\n",
    "        if object.is_particle:\n",
    "            target_objects[object.name]['label'] = object.label\n",
    "            target_objects[object.name]['radius'] = object.radius\n",
    "\n",
    "\n",
    "    for run in tqdm(root.runs):\n",
    "        tomo = run.get_voxel_spacing(10)\n",
    "        tomo = tomo.get_tomograms(tomo_type)[0].numpy()\n",
    "        target = np.zeros(tomo.shape, dtype=np.uint8)\n",
    "        for pickable_object in root.pickable_objects:\n",
    "            pick = run.get_picks(object_name=pickable_object.name, user_id=\"curation\")\n",
    "            if len(pick):  \n",
    "                target = segmentation_from_picks.from_picks(pick[0], \n",
    "                                                            target, \n",
    "                                                            target_objects[pickable_object.name]['radius'],# * 0.8,\n",
    "                                                            target_objects[pickable_object.name]['label']\n",
    "                                                            )\n",
    "        write.segmentation(run, target, copick_user_name, name=copick_segmentation_name)"
   ]
  },
  {
   "cell_type": "markdown",
   "metadata": {},
   "source": [
    "## 3. Get tomograms and their segmentaion masks (from picks) arrays"
   ]
  },
  {
   "cell_type": "code",
   "execution_count": 6,
   "metadata": {},
   "outputs": [
    {
     "name": "stderr",
     "output_type": "stream",
     "text": [
      "100%|██████████████████████████████████████████████████████████████████| 7/7 [00:02<00:00,  2.66it/s]\n"
     ]
    },
    {
     "name": "stdout",
     "output_type": "stream",
     "text": [
      "[0 1 3 4 5 6]\n"
     ]
    }
   ],
   "source": [
    "data_dicts = []\n",
    "for run in tqdm(root.runs):\n",
    "    tomogram = run.get_voxel_spacing(voxel_size).get_tomograms(tomo_type)[0].numpy()\n",
    "    segmentation = run.get_segmentations(name=copick_segmentation_name, user_id=copick_user_name, voxel_size=voxel_size, is_multilabel=True)[0].numpy()\n",
    "    data_dicts.append({\"image\": tomogram, \"label\": segmentation})\n",
    "    \n",
    "print(np.unique(data_dicts[0]['label']))"
   ]
  },
  {
   "cell_type": "markdown",
   "metadata": {},
   "source": [
    "## 4. Visualize the tomogram and painted segmentation from ground-truth picks"
   ]
  },
  {
   "cell_type": "code",
   "execution_count": 7,
   "metadata": {},
   "outputs": [
    {
     "data": {
      "image/png": "[encoded data removed]",
      "text/plain": [
       "<Figure size 1500x500 with 2 Axes>"
      ]
     },
     "metadata": {},
     "output_type": "display_data"
    }
   ],
   "source": [
    "import matplotlib.pyplot as plt\n",
    "\n",
    "# Plot the images\n",
    "plt.figure(figsize=(15, 5))\n",
    "\n",
    "plt.subplot(1, 2, 1)\n",
    "plt.title('Tomogram')\n",
    "plt.imshow(data_dicts[0]['image'][100],cmap='gray')\n",
    "plt.axis('off')\n",
    "\n",
    "plt.subplot(1, 2, 2)\n",
    "plt.title('Painted Segmentation from Picks')\n",
    "plt.imshow(data_dicts[0]['label'][100], cmap='viridis')\n",
    "plt.axis('off')\n",
    "\n",
    "plt.tight_layout()\n",
    "plt.show()\n"
   ]
  },
  {
   "cell_type": "markdown",
   "metadata": {},
   "source": [
    "## 5. Prepare dataloaders"
   ]
  },
  {
   "cell_type": "code",
   "execution_count": 8,
   "metadata": {},
   "outputs": [
    {
     "name": "stdout",
     "output_type": "stream",
     "text": [
      "Number of training samples: 5\n",
      "Number of validation samples: 2\n"
     ]
    },
    {
     "name": "stderr",
     "output_type": "stream",
     "text": [
      "Loading dataset: 100%|█████████████████████████████████████████████████| 5/5 [00:00<00:00,  9.79it/s]\n",
      "Loading dataset: 100%|█████████████████████████████████████████████████| 2/2 [00:00<00:00, 10.19it/s]\n"
     ]
    }
   ],
   "source": [
    "my_num_samples = 16\n",
    "train_batch_size = 1\n",
    "val_batch_size = 1\n",
    "\n",
    "train_files, val_files = data_dicts[:5], data_dicts[5:7]\n",
    "print(f\"Number of training samples: {len(train_files)}\")\n",
    "print(f\"Number of validation samples: {len(val_files)}\")\n",
    "\n",
    "# Non-random transforms to be cached\n",
    "non_random_transforms = Compose([\n",
    "    EnsureChannelFirstd(keys=[\"image\", \"label\"], channel_dim=\"no_channel\"),\n",
    "    NormalizeIntensityd(keys=\"image\"),\n",
    "    Orientationd(keys=[\"image\", \"label\"], axcodes=\"RAS\")\n",
    "])\n",
    "\n",
    "# Random transforms to be applied during training\n",
    "random_transforms = Compose([\n",
    "    RandCropByLabelClassesd(\n",
    "        keys=[\"image\", \"label\"],\n",
    "        label_key=\"label\",\n",
    "        spatial_size=[96, 96, 96],\n",
    "        num_classes=8,\n",
    "        num_samples=my_num_samples\n",
    "    ),\n",
    "    RandRotate90d(keys=[\"image\", \"label\"], prob=0.5, spatial_axes=[0, 2]),\n",
    "    RandFlipd(keys=[\"image\", \"label\"], prob=0.5, spatial_axis=0),    \n",
    "])\n",
    "\n",
    "# Create the cached dataset with non-random transforms\n",
    "train_ds = CacheDataset(data=train_files, transform=non_random_transforms, cache_rate=1.0)\n",
    "\n",
    "# Wrap the cached dataset to apply random transforms during iteration\n",
    "train_ds = Dataset(data=train_ds, transform=random_transforms)\n",
    "\n",
    "# DataLoader remains the same\n",
    "train_loader = DataLoader(\n",
    "    train_ds,\n",
    "    batch_size=train_batch_size,\n",
    "    shuffle=True,\n",
    "    num_workers=4,\n",
    "    pin_memory=torch.cuda.is_available()\n",
    ")\n",
    "\n",
    "# Validation transforms\n",
    "val_transforms = Compose([\n",
    "    EnsureChannelFirstd(keys=[\"image\", \"label\"], channel_dim=\"no_channel\"),\n",
    "    NormalizeIntensityd(keys=\"image\"),\n",
    "    RandCropByLabelClassesd(\n",
    "        keys=[\"image\", \"label\"],\n",
    "        label_key=\"label\",\n",
    "        spatial_size=[96, 96, 96],\n",
    "        num_classes=8,\n",
    "        num_samples=my_num_samples,  # Use 1 to get a single, consistent crop per image\n",
    "    ),\n",
    "])\n",
    "\n",
    "# Create validation dataset\n",
    "val_ds = CacheDataset(data=val_files, transform=non_random_transforms, cache_rate=1.0)\n",
    "\n",
    "# Wrap the cached dataset to apply random transforms during iteration\n",
    "val_ds = Dataset(data=val_ds, transform=random_transforms)\n",
    "\n",
    "# Create validation DataLoader\n",
    "val_loader = DataLoader(\n",
    "    val_ds,\n",
    "    batch_size=val_batch_size,\n",
    "    num_workers=4,\n",
    "    pin_memory=torch.cuda.is_available(),\n",
    "    shuffle=False,  # Ensure the data order remains consistent\n",
    ")"
   ]
  },
  {
   "cell_type": "markdown",
   "metadata": {},
   "source": [
    "## Model setup"
   ]
  },
  {
   "cell_type": "code",
   "execution_count": 9,
   "metadata": {},
   "outputs": [
    {
     "name": "stdout",
     "output_type": "stream",
     "text": [
      "cuda\n"
     ]
    }
   ],
   "source": [
    "device = torch.device('cuda' if torch.cuda.is_available() else 'cpu')\n",
    "print(device)\n",
    "# Create UNet, DiceLoss and Adam optimizer\n",
    "model = UNet(\n",
    "    spatial_dims=3,\n",
    "    in_channels=1,\n",
    "    out_channels=len(root.pickable_objects)+1,\n",
    "    channels=(48, 64, 80, 80),\n",
    "    strides=(2, 2, 1),\n",
    "    num_res_units=1,\n",
    ").to(device)\n",
    "\n",
    "lr = 1e-3\n",
    "optimizer = torch.optim.Adam(model.parameters(), lr)\n",
    "#loss_function = DiceLoss(include_background=True, to_onehot_y=True, softmax=True)  # softmax=True for multiclass\n",
    "loss_function = TverskyLoss(include_background=True, to_onehot_y=True, softmax=True)  # softmax=True for multiclass\n",
    "dice_metric = DiceMetric(include_background=False, reduction=\"mean\", ignore_empty=True)  # must use onehot for multiclass\n",
    "recall_metric = ConfusionMatrixMetric(include_background=False, metric_name=\"recall\", reduction=\"None\")"
   ]
  },
  {
   "cell_type": "code",
   "execution_count": 10,
   "metadata": {},
   "outputs": [],
   "source": [
    "post_pred = AsDiscrete(argmax=True, to_onehot=len(root.pickable_objects)+1)\n",
    "post_label = AsDiscrete(to_onehot=len(root.pickable_objects)+1)\n",
    "\n",
    "def train(train_loader, model, loss_function, metrics_function, optimizer, max_epochs=25):\n",
    "    val_interval = 2\n",
    "    best_metric = -1\n",
    "    best_metric_epoch = -1\n",
    "    epoch_loss_values = []\n",
    "    metric_values = []\n",
    "    for epoch in range(max_epochs):\n",
    "        print(\"-\" * 10)\n",
    "        print(f\"epoch {epoch + 1}/{max_epochs}\")\n",
    "        model.train()\n",
    "        epoch_loss = 0\n",
    "        step = 0\n",
    "        for batch_data in train_loader:\n",
    "            step += 1\n",
    "            inputs = batch_data[\"image\"].to(device)\n",
    "            labels = batch_data[\"label\"].to(device)\n",
    "            optimizer.zero_grad()\n",
    "            outputs = model(inputs)\n",
    "            loss = loss_function(outputs, labels)\n",
    "            loss.backward()\n",
    "            optimizer.step()\n",
    "            epoch_loss += loss.item()\n",
    "            print(f\"batch {step}/{len(train_ds) // train_loader.batch_size}, \" f\"train_loss: {loss.item():.4f}\")\n",
    "        epoch_loss /= step\n",
    "        epoch_loss_values.append(epoch_loss)\n",
    "        print(f\"epoch {epoch + 1} average loss: {epoch_loss:.4f}\")\n",
    "        mlflow.log_metric(\"train_loss\", epoch_loss, step=epoch+1)\n",
    "\n",
    "        if (epoch + 1) % val_interval == 0:\n",
    "            model.eval()\n",
    "            with torch.no_grad():\n",
    "                for val_data in val_loader:\n",
    "                    val_inputs = val_data[\"image\"].to(device)\n",
    "                    val_labels = val_data[\"label\"].to(device)\n",
    "                    val_outputs = model(val_inputs)\n",
    "                    metric_val_outputs = [post_pred(i) for i in decollate_batch(val_outputs)]\n",
    "                    metric_val_labels = [post_label(i) for i in decollate_batch(val_labels)]\n",
    "                    \n",
    "                    \n",
    "                    # compute metric for current iteration\n",
    "                    metrics_function(y_pred=metric_val_outputs, y=metric_val_labels)\n",
    "\n",
    "                metrics = metrics_function.aggregate(reduction=\"mean_batch\")\n",
    "                metric_per_class = [\"{:.4g}\".format(x) for x in metrics]\n",
    "                metric = torch.mean(metrics).numpy(force=True)\n",
    "                mlflow.log_metric(\"validation metric\", metric, step=epoch+1)\n",
    "                for i,m in enumerate(metrics):\n",
    "                    mlflow.log_metric(f\"validation metric class {i+1}\", m, step=epoch+1)\n",
    "                metrics_function.reset()\n",
    "\n",
    "                metric_values.append(metric)\n",
    "                if metric > best_metric:\n",
    "                    best_metric = metric\n",
    "                    best_metric_epoch = epoch + 1\n",
    "                    torch.save(model.state_dict(), os.path.join('./', \"best_metric_model.pth\"))\n",
    "                    \n",
    "                    print(\"saved new best metric model\")\n",
    "                print(\n",
    "                    f\"current epoch: {epoch + 1} current mean recall per class: {', '.join(metric_per_class)}\"\n",
    "                    f\"\\nbest mean recall: {best_metric:.4f} \"\n",
    "                    f\"at epoch: {best_metric_epoch}\"\n",
    "                )"
   ]
  },
  {
   "cell_type": "markdown",
   "metadata": {},
   "source": [
    "## Training and tracking"
   ]
  },
  {
   "cell_type": "code",
   "execution_count": 11,
   "metadata": {
    "scrolled": true
   },
   "outputs": [
    {
     "name": "stdout",
     "output_type": "stream",
     "text": [
      "----------\n",
      "epoch 1/50\n"
     ]
    },
    {
     "name": "stderr",
     "output_type": "stream",
     "text": [
      "/home/max1024/venvs/ml/lib/python3.12/site-packages/monai/transforms/utils.py:743: UserWarning: no available indices of class 2 to crop, setting the crop ratio of this class to zero.\n",
      "  warnings.warn(\n",
      "/home/max1024/venvs/ml/lib/python3.12/site-packages/monai/transforms/utils.py:743: UserWarning: no available indices of class 7 to crop, setting the crop ratio of this class to zero.\n",
      "  warnings.warn(\n",
      "/home/max1024/venvs/ml/lib/python3.12/site-packages/monai/transforms/utils.py:743: UserWarning: no available indices of class 2 to crop, setting the crop ratio of this class to zero.\n",
      "  warnings.warn(\n",
      "/home/max1024/venvs/ml/lib/python3.12/site-packages/monai/transforms/utils.py:743: UserWarning: no available indices of class 7 to crop, setting the crop ratio of this class to zero.\n",
      "  warnings.warn(\n",
      "/home/max1024/venvs/ml/lib/python3.12/site-packages/monai/transforms/utils.py:743: UserWarning: no available indices of class 2 to crop, setting the crop ratio of this class to zero.\n",
      "  warnings.warn(\n",
      "/home/max1024/venvs/ml/lib/python3.12/site-packages/monai/transforms/utils.py:743: UserWarning: no available indices of class 7 to crop, setting the crop ratio of this class to zero.\n",
      "  warnings.warn(\n",
      "/home/max1024/venvs/ml/lib/python3.12/site-packages/monai/transforms/utils.py:743: UserWarning: no available indices of class 2 to crop, setting the crop ratio of this class to zero.\n",
      "  warnings.warn(\n",
      "/home/max1024/venvs/ml/lib/python3.12/site-packages/monai/transforms/utils.py:743: UserWarning: no available indices of class 7 to crop, setting the crop ratio of this class to zero.\n",
      "  warnings.warn(\n"
     ]
    },
    {
     "name": "stdout",
     "output_type": "stream",
     "text": [
      "batch 1/5, train_loss: 0.9611\n",
      "batch 2/5, train_loss: 0.9532\n",
      "batch 3/5, train_loss: 0.9496\n",
      "batch 4/5, train_loss: 0.9463\n",
      "batch 5/5, train_loss: 0.9474\n",
      "epoch 1 average loss: 0.9515\n",
      "----------\n",
      "epoch 2/50\n"
     ]
    },
    {
     "name": "stderr",
     "output_type": "stream",
     "text": [
      "/home/max1024/venvs/ml/lib/python3.12/site-packages/monai/transforms/utils.py:743: UserWarning: no available indices of class 2 to crop, setting the crop ratio of this class to zero.\n",
      "  warnings.warn(\n",
      "/home/max1024/venvs/ml/lib/python3.12/site-packages/monai/transforms/utils.py:743: UserWarning: no available indices of class 2 to crop, setting the crop ratio of this class to zero.\n",
      "  warnings.warn(\n",
      "/home/max1024/venvs/ml/lib/python3.12/site-packages/monai/transforms/utils.py:743: UserWarning: no available indices of class 7 to crop, setting the crop ratio of this class to zero.\n",
      "  warnings.warn(\n",
      "/home/max1024/venvs/ml/lib/python3.12/site-packages/monai/transforms/utils.py:743: UserWarning: no available indices of class 7 to crop, setting the crop ratio of this class to zero.\n",
      "  warnings.warn(\n",
      "/home/max1024/venvs/ml/lib/python3.12/site-packages/monai/transforms/utils.py:743: UserWarning: no available indices of class 2 to crop, setting the crop ratio of this class to zero.\n",
      "  warnings.warn(\n",
      "/home/max1024/venvs/ml/lib/python3.12/site-packages/monai/transforms/utils.py:743: UserWarning: no available indices of class 2 to crop, setting the crop ratio of this class to zero.\n",
      "  warnings.warn(\n",
      "/home/max1024/venvs/ml/lib/python3.12/site-packages/monai/transforms/utils.py:743: UserWarning: no available indices of class 7 to crop, setting the crop ratio of this class to zero.\n",
      "  warnings.warn(\n",
      "/home/max1024/venvs/ml/lib/python3.12/site-packages/monai/transforms/utils.py:743: UserWarning: no available indices of class 7 to crop, setting the crop ratio of this class to zero.\n",
      "  warnings.warn(\n"
     ]
    },
    {
     "name": "stdout",
     "output_type": "stream",
     "text": [
      "batch 1/5, train_loss: 0.9317\n",
      "batch 2/5, train_loss: 0.9299\n",
      "batch 3/5, train_loss: 0.9251\n",
      "batch 4/5, train_loss: 0.9128\n",
      "batch 5/5, train_loss: 0.9184\n",
      "epoch 2 average loss: 0.9236\n"
     ]
    },
    {
     "name": "stderr",
     "output_type": "stream",
     "text": [
      "/home/max1024/venvs/ml/lib/python3.12/site-packages/monai/transforms/utils.py:743: UserWarning: no available indices of class 2 to crop, setting the crop ratio of this class to zero.\n",
      "  warnings.warn(\n",
      "/home/max1024/venvs/ml/lib/python3.12/site-packages/monai/transforms/utils.py:743: UserWarning: no available indices of class 7 to crop, setting the crop ratio of this class to zero.\n",
      "  warnings.warn(\n",
      "/home/max1024/venvs/ml/lib/python3.12/site-packages/monai/transforms/utils.py:743: UserWarning: no available indices of class 2 to crop, setting the crop ratio of this class to zero.\n",
      "  warnings.warn(\n",
      "/home/max1024/venvs/ml/lib/python3.12/site-packages/monai/transforms/utils.py:743: UserWarning: no available indices of class 7 to crop, setting the crop ratio of this class to zero.\n",
      "  warnings.warn(\n"
     ]
    },
    {
     "name": "stdout",
     "output_type": "stream",
     "text": [
      "saved new best metric model\n",
      "current epoch: 2 current mean recall per class: 0.002689, 0, 0.002423, 0.3405, 0.01526, 0.02516, 0\n",
      "best mean recall: 0.0552 at epoch: 2\n",
      "----------\n",
      "epoch 3/50\n"
     ]
    },
    {
     "name": "stderr",
     "output_type": "stream",
     "text": [
      "/home/max1024/venvs/ml/lib/python3.12/site-packages/monai/transforms/utils.py:743: UserWarning: no available indices of class 2 to crop, setting the crop ratio of this class to zero.\n",
      "  warnings.warn(\n",
      "/home/max1024/venvs/ml/lib/python3.12/site-packages/monai/transforms/utils.py:743: UserWarning: no available indices of class 7 to crop, setting the crop ratio of this class to zero.\n",
      "  warnings.warn(\n",
      "/home/max1024/venvs/ml/lib/python3.12/site-packages/monai/transforms/utils.py:743: UserWarning: no available indices of class 2 to crop, setting the crop ratio of this class to zero.\n",
      "  warnings.warn(\n",
      "/home/max1024/venvs/ml/lib/python3.12/site-packages/monai/transforms/utils.py:743: UserWarning: no available indices of class 7 to crop, setting the crop ratio of this class to zero.\n",
      "  warnings.warn(\n",
      "/home/max1024/venvs/ml/lib/python3.12/site-packages/monai/transforms/utils.py:743: UserWarning: no available indices of class 2 to crop, setting the crop ratio of this class to zero.\n",
      "  warnings.warn(\n",
      "/home/max1024/venvs/ml/lib/python3.12/site-packages/monai/transforms/utils.py:743: UserWarning: no available indices of class 7 to crop, setting the crop ratio of this class to zero.\n",
      "  warnings.warn(\n",
      "/home/max1024/venvs/ml/lib/python3.12/site-packages/monai/transforms/utils.py:743: UserWarning: no available indices of class 2 to crop, setting the crop ratio of this class to zero.\n",
      "  warnings.warn(\n",
      "/home/max1024/venvs/ml/lib/python3.12/site-packages/monai/transforms/utils.py:743: UserWarning: no available indices of class 7 to crop, setting the crop ratio of this class to zero.\n",
      "  warnings.warn(\n"
     ]
    },
    {
     "name": "stdout",
     "output_type": "stream",
     "text": [
      "batch 1/5, train_loss: 0.9054\n",
      "batch 2/5, train_loss: 0.8959\n",
      "batch 3/5, train_loss: 0.9019\n",
      "batch 4/5, train_loss: 0.9042\n",
      "batch 5/5, train_loss: 0.9071\n",
      "epoch 3 average loss: 0.9029\n",
      "----------\n",
      "epoch 4/50\n"
     ]
    },
    {
     "name": "stderr",
     "output_type": "stream",
     "text": [
      "/home/max1024/venvs/ml/lib/python3.12/site-packages/monai/transforms/utils.py:743: UserWarning: no available indices of class 2 to crop, setting the crop ratio of this class to zero.\n",
      "  warnings.warn(\n",
      "/home/max1024/venvs/ml/lib/python3.12/site-packages/monai/transforms/utils.py:743: UserWarning: no available indices of class 2 to crop, setting the crop ratio of this class to zero.\n",
      "  warnings.warn(\n",
      "/home/max1024/venvs/ml/lib/python3.12/site-packages/monai/transforms/utils.py:743: UserWarning: no available indices of class 7 to crop, setting the crop ratio of this class to zero.\n",
      "  warnings.warn(\n",
      "/home/max1024/venvs/ml/lib/python3.12/site-packages/monai/transforms/utils.py:743: UserWarning: no available indices of class 7 to crop, setting the crop ratio of this class to zero.\n",
      "  warnings.warn(\n",
      "/home/max1024/venvs/ml/lib/python3.12/site-packages/monai/transforms/utils.py:743: UserWarning: no available indices of class 2 to crop, setting the crop ratio of this class to zero.\n",
      "  warnings.warn(\n",
      "/home/max1024/venvs/ml/lib/python3.12/site-packages/monai/transforms/utils.py:743: UserWarning: no available indices of class 7 to crop, setting the crop ratio of this class to zero.\n",
      "  warnings.warn(\n",
      "/home/max1024/venvs/ml/lib/python3.12/site-packages/monai/transforms/utils.py:743: UserWarning: no available indices of class 2 to crop, setting the crop ratio of this class to zero.\n",
      "  warnings.warn(\n",
      "/home/max1024/venvs/ml/lib/python3.12/site-packages/monai/transforms/utils.py:743: UserWarning: no available indices of class 7 to crop, setting the crop ratio of this class to zero.\n",
      "  warnings.warn(\n"
     ]
    },
    {
     "name": "stdout",
     "output_type": "stream",
     "text": [
      "batch 1/5, train_loss: 0.8908\n",
      "batch 2/5, train_loss: 0.8759\n",
      "batch 3/5, train_loss: 0.8881\n",
      "batch 4/5, train_loss: 0.8864\n",
      "batch 5/5, train_loss: 0.8791\n",
      "epoch 4 average loss: 0.8841\n"
     ]
    },
    {
     "name": "stderr",
     "output_type": "stream",
     "text": [
      "/home/max1024/venvs/ml/lib/python3.12/site-packages/monai/transforms/utils.py:743: UserWarning: no available indices of class 2 to crop, setting the crop ratio of this class to zero.\n",
      "  warnings.warn(\n",
      "/home/max1024/venvs/ml/lib/python3.12/site-packages/monai/transforms/utils.py:743: UserWarning: no available indices of class 7 to crop, setting the crop ratio of this class to zero.\n",
      "  warnings.warn(\n",
      "/home/max1024/venvs/ml/lib/python3.12/site-packages/monai/transforms/utils.py:743: UserWarning: no available indices of class 2 to crop, setting the crop ratio of this class to zero.\n",
      "  warnings.warn(\n",
      "/home/max1024/venvs/ml/lib/python3.12/site-packages/monai/transforms/utils.py:743: UserWarning: no available indices of class 7 to crop, setting the crop ratio of this class to zero.\n",
      "  warnings.warn(\n"
     ]
    },
    {
     "name": "stdout",
     "output_type": "stream",
     "text": [
      "current epoch: 4 current mean recall per class: 0.007178, 0, 0.01105, 0.2749, 0.02761, 0.01158, 0\n",
      "best mean recall: 0.0552 at epoch: 2\n",
      "----------\n",
      "epoch 5/50\n"
     ]
    },
    {
     "name": "stderr",
     "output_type": "stream",
     "text": [
      "/home/max1024/venvs/ml/lib/python3.12/site-packages/monai/transforms/utils.py:743: UserWarning: no available indices of class 2 to crop, setting the crop ratio of this class to zero.\n",
      "  warnings.warn(\n",
      "/home/max1024/venvs/ml/lib/python3.12/site-packages/monai/transforms/utils.py:743: UserWarning: no available indices of class 7 to crop, setting the crop ratio of this class to zero.\n",
      "  warnings.warn(\n",
      "/home/max1024/venvs/ml/lib/python3.12/site-packages/monai/transforms/utils.py:743: UserWarning: no available indices of class 2 to crop, setting the crop ratio of this class to zero.\n",
      "  warnings.warn(\n",
      "/home/max1024/venvs/ml/lib/python3.12/site-packages/monai/transforms/utils.py:743: UserWarning: no available indices of class 2 to crop, setting the crop ratio of this class to zero.\n",
      "  warnings.warn(\n",
      "/home/max1024/venvs/ml/lib/python3.12/site-packages/monai/transforms/utils.py:743: UserWarning: no available indices of class 7 to crop, setting the crop ratio of this class to zero.\n",
      "  warnings.warn(\n",
      "/home/max1024/venvs/ml/lib/python3.12/site-packages/monai/transforms/utils.py:743: UserWarning: no available indices of class 7 to crop, setting the crop ratio of this class to zero.\n",
      "  warnings.warn(\n",
      "/home/max1024/venvs/ml/lib/python3.12/site-packages/monai/transforms/utils.py:743: UserWarning: no available indices of class 2 to crop, setting the crop ratio of this class to zero.\n",
      "  warnings.warn(\n",
      "/home/max1024/venvs/ml/lib/python3.12/site-packages/monai/transforms/utils.py:743: UserWarning: no available indices of class 7 to crop, setting the crop ratio of this class to zero.\n",
      "  warnings.warn(\n"
     ]
    },
    {
     "name": "stdout",
     "output_type": "stream",
     "text": [
      "batch 1/5, train_loss: 0.8887\n",
      "batch 2/5, train_loss: 0.8758\n",
      "batch 3/5, train_loss: 0.8738\n",
      "batch 4/5, train_loss: 0.8840\n",
      "batch 5/5, train_loss: 0.8551\n",
      "epoch 5 average loss: 0.8755\n",
      "----------\n",
      "epoch 6/50\n"
     ]
    },
    {
     "name": "stderr",
     "output_type": "stream",
     "text": [
      "/home/max1024/venvs/ml/lib/python3.12/site-packages/monai/transforms/utils.py:743: UserWarning: no available indices of class 2 to crop, setting the crop ratio of this class to zero.\n",
      "  warnings.warn(\n",
      "/home/max1024/venvs/ml/lib/python3.12/site-packages/monai/transforms/utils.py:743: UserWarning: no available indices of class 2 to crop, setting the crop ratio of this class to zero.\n",
      "  warnings.warn(\n",
      "/home/max1024/venvs/ml/lib/python3.12/site-packages/monai/transforms/utils.py:743: UserWarning: no available indices of class 7 to crop, setting the crop ratio of this class to zero.\n",
      "  warnings.warn(\n",
      "/home/max1024/venvs/ml/lib/python3.12/site-packages/monai/transforms/utils.py:743: UserWarning: no available indices of class 7 to crop, setting the crop ratio of this class to zero.\n",
      "  warnings.warn(\n",
      "/home/max1024/venvs/ml/lib/python3.12/site-packages/monai/transforms/utils.py:743: UserWarning: no available indices of class 2 to crop, setting the crop ratio of this class to zero.\n",
      "  warnings.warn(\n",
      "/home/max1024/venvs/ml/lib/python3.12/site-packages/monai/transforms/utils.py:743: UserWarning: no available indices of class 7 to crop, setting the crop ratio of this class to zero.\n",
      "  warnings.warn(\n",
      "/home/max1024/venvs/ml/lib/python3.12/site-packages/monai/transforms/utils.py:743: UserWarning: no available indices of class 2 to crop, setting the crop ratio of this class to zero.\n",
      "  warnings.warn(\n",
      "/home/max1024/venvs/ml/lib/python3.12/site-packages/monai/transforms/utils.py:743: UserWarning: no available indices of class 7 to crop, setting the crop ratio of this class to zero.\n",
      "  warnings.warn(\n"
     ]
    },
    {
     "name": "stdout",
     "output_type": "stream",
     "text": [
      "batch 1/5, train_loss: 0.8682\n",
      "batch 2/5, train_loss: 0.8589\n",
      "batch 3/5, train_loss: 0.8552\n",
      "batch 4/5, train_loss: 0.8531\n",
      "batch 5/5, train_loss: 0.8597\n",
      "epoch 6 average loss: 0.8590\n"
     ]
    },
    {
     "name": "stderr",
     "output_type": "stream",
     "text": [
      "/home/max1024/venvs/ml/lib/python3.12/site-packages/monai/transforms/utils.py:743: UserWarning: no available indices of class 2 to crop, setting the crop ratio of this class to zero.\n",
      "  warnings.warn(\n",
      "/home/max1024/venvs/ml/lib/python3.12/site-packages/monai/transforms/utils.py:743: UserWarning: no available indices of class 7 to crop, setting the crop ratio of this class to zero.\n",
      "  warnings.warn(\n",
      "/home/max1024/venvs/ml/lib/python3.12/site-packages/monai/transforms/utils.py:743: UserWarning: no available indices of class 2 to crop, setting the crop ratio of this class to zero.\n",
      "  warnings.warn(\n",
      "/home/max1024/venvs/ml/lib/python3.12/site-packages/monai/transforms/utils.py:743: UserWarning: no available indices of class 7 to crop, setting the crop ratio of this class to zero.\n",
      "  warnings.warn(\n"
     ]
    },
    {
     "name": "stdout",
     "output_type": "stream",
     "text": [
      "saved new best metric model\n",
      "current epoch: 6 current mean recall per class: 0.04902, 0, 0.04751, 0.5388, 0.06063, 0.04114, 0\n",
      "best mean recall: 0.1053 at epoch: 6\n",
      "----------\n",
      "epoch 7/50\n"
     ]
    },
    {
     "name": "stderr",
     "output_type": "stream",
     "text": [
      "/home/max1024/venvs/ml/lib/python3.12/site-packages/monai/transforms/utils.py:743: UserWarning: no available indices of class 2 to crop, setting the crop ratio of this class to zero.\n",
      "  warnings.warn(\n",
      "/home/max1024/venvs/ml/lib/python3.12/site-packages/monai/transforms/utils.py:743: UserWarning: no available indices of class 7 to crop, setting the crop ratio of this class to zero.\n",
      "  warnings.warn(\n",
      "/home/max1024/venvs/ml/lib/python3.12/site-packages/monai/transforms/utils.py:743: UserWarning: no available indices of class 2 to crop, setting the crop ratio of this class to zero.\n",
      "  warnings.warn(\n",
      "/home/max1024/venvs/ml/lib/python3.12/site-packages/monai/transforms/utils.py:743: UserWarning: no available indices of class 7 to crop, setting the crop ratio of this class to zero.\n",
      "  warnings.warn(\n",
      "/home/max1024/venvs/ml/lib/python3.12/site-packages/monai/transforms/utils.py:743: UserWarning: no available indices of class 2 to crop, setting the crop ratio of this class to zero.\n",
      "  warnings.warn(\n",
      "/home/max1024/venvs/ml/lib/python3.12/site-packages/monai/transforms/utils.py:743: UserWarning: no available indices of class 7 to crop, setting the crop ratio of this class to zero.\n",
      "  warnings.warn(\n",
      "/home/max1024/venvs/ml/lib/python3.12/site-packages/monai/transforms/utils.py:743: UserWarning: no available indices of class 2 to crop, setting the crop ratio of this class to zero.\n",
      "  warnings.warn(\n",
      "/home/max1024/venvs/ml/lib/python3.12/site-packages/monai/transforms/utils.py:743: UserWarning: no available indices of class 7 to crop, setting the crop ratio of this class to zero.\n",
      "  warnings.warn(\n"
     ]
    },
    {
     "name": "stdout",
     "output_type": "stream",
     "text": [
      "batch 1/5, train_loss: 0.8414\n",
      "batch 2/5, train_loss: 0.8527\n",
      "batch 3/5, train_loss: 0.8481\n",
      "batch 4/5, train_loss: 0.8596\n",
      "batch 5/5, train_loss: 0.8481\n",
      "epoch 7 average loss: 0.8500\n",
      "----------\n",
      "epoch 8/50\n"
     ]
    },
    {
     "name": "stderr",
     "output_type": "stream",
     "text": [
      "/home/max1024/venvs/ml/lib/python3.12/site-packages/monai/transforms/utils.py:743: UserWarning: no available indices of class 2 to crop, setting the crop ratio of this class to zero.\n",
      "  warnings.warn(\n",
      "/home/max1024/venvs/ml/lib/python3.12/site-packages/monai/transforms/utils.py:743: UserWarning: no available indices of class 7 to crop, setting the crop ratio of this class to zero.\n",
      "  warnings.warn(\n",
      "/home/max1024/venvs/ml/lib/python3.12/site-packages/monai/transforms/utils.py:743: UserWarning: no available indices of class 2 to crop, setting the crop ratio of this class to zero.\n",
      "  warnings.warn(\n",
      "/home/max1024/venvs/ml/lib/python3.12/site-packages/monai/transforms/utils.py:743: UserWarning: no available indices of class 2 to crop, setting the crop ratio of this class to zero.\n",
      "  warnings.warn(\n",
      "/home/max1024/venvs/ml/lib/python3.12/site-packages/monai/transforms/utils.py:743: UserWarning: no available indices of class 7 to crop, setting the crop ratio of this class to zero.\n",
      "  warnings.warn(\n",
      "/home/max1024/venvs/ml/lib/python3.12/site-packages/monai/transforms/utils.py:743: UserWarning: no available indices of class 7 to crop, setting the crop ratio of this class to zero.\n",
      "  warnings.warn(\n",
      "/home/max1024/venvs/ml/lib/python3.12/site-packages/monai/transforms/utils.py:743: UserWarning: no available indices of class 2 to crop, setting the crop ratio of this class to zero.\n",
      "  warnings.warn(\n",
      "/home/max1024/venvs/ml/lib/python3.12/site-packages/monai/transforms/utils.py:743: UserWarning: no available indices of class 7 to crop, setting the crop ratio of this class to zero.\n",
      "  warnings.warn(\n"
     ]
    },
    {
     "name": "stdout",
     "output_type": "stream",
     "text": [
      "batch 1/5, train_loss: 0.8359\n",
      "batch 2/5, train_loss: 0.8476\n",
      "batch 3/5, train_loss: 0.8507\n",
      "batch 4/5, train_loss: 0.8570\n",
      "batch 5/5, train_loss: 0.8328\n",
      "epoch 8 average loss: 0.8448\n"
     ]
    },
    {
     "name": "stderr",
     "output_type": "stream",
     "text": [
      "/home/max1024/venvs/ml/lib/python3.12/site-packages/monai/transforms/utils.py:743: UserWarning: no available indices of class 2 to crop, setting the crop ratio of this class to zero.\n",
      "  warnings.warn(\n",
      "/home/max1024/venvs/ml/lib/python3.12/site-packages/monai/transforms/utils.py:743: UserWarning: no available indices of class 7 to crop, setting the crop ratio of this class to zero.\n",
      "  warnings.warn(\n",
      "/home/max1024/venvs/ml/lib/python3.12/site-packages/monai/transforms/utils.py:743: UserWarning: no available indices of class 2 to crop, setting the crop ratio of this class to zero.\n",
      "  warnings.warn(\n",
      "/home/max1024/venvs/ml/lib/python3.12/site-packages/monai/transforms/utils.py:743: UserWarning: no available indices of class 7 to crop, setting the crop ratio of this class to zero.\n",
      "  warnings.warn(\n"
     ]
    },
    {
     "name": "stdout",
     "output_type": "stream",
     "text": [
      "current epoch: 8 current mean recall per class: 0.03665, 0, 0.01006, 0.4216, 0.03748, 0.02253, 0\n",
      "best mean recall: 0.1053 at epoch: 6\n",
      "----------\n",
      "epoch 9/50\n"
     ]
    },
    {
     "name": "stderr",
     "output_type": "stream",
     "text": [
      "/home/max1024/venvs/ml/lib/python3.12/site-packages/monai/transforms/utils.py:743: UserWarning: no available indices of class 2 to crop, setting the crop ratio of this class to zero.\n",
      "  warnings.warn(\n",
      "/home/max1024/venvs/ml/lib/python3.12/site-packages/monai/transforms/utils.py:743: UserWarning: no available indices of class 7 to crop, setting the crop ratio of this class to zero.\n",
      "  warnings.warn(\n",
      "/home/max1024/venvs/ml/lib/python3.12/site-packages/monai/transforms/utils.py:743: UserWarning: no available indices of class 2 to crop, setting the crop ratio of this class to zero.\n",
      "  warnings.warn(\n",
      "/home/max1024/venvs/ml/lib/python3.12/site-packages/monai/transforms/utils.py:743: UserWarning: no available indices of class 7 to crop, setting the crop ratio of this class to zero.\n",
      "  warnings.warn(\n",
      "/home/max1024/venvs/ml/lib/python3.12/site-packages/monai/transforms/utils.py:743: UserWarning: no available indices of class 2 to crop, setting the crop ratio of this class to zero.\n",
      "  warnings.warn(\n",
      "/home/max1024/venvs/ml/lib/python3.12/site-packages/monai/transforms/utils.py:743: UserWarning: no available indices of class 7 to crop, setting the crop ratio of this class to zero.\n",
      "  warnings.warn(\n",
      "/home/max1024/venvs/ml/lib/python3.12/site-packages/monai/transforms/utils.py:743: UserWarning: no available indices of class 2 to crop, setting the crop ratio of this class to zero.\n",
      "  warnings.warn(\n",
      "/home/max1024/venvs/ml/lib/python3.12/site-packages/monai/transforms/utils.py:743: UserWarning: no available indices of class 7 to crop, setting the crop ratio of this class to zero.\n",
      "  warnings.warn(\n"
     ]
    },
    {
     "name": "stdout",
     "output_type": "stream",
     "text": [
      "batch 1/5, train_loss: 0.8542\n",
      "batch 2/5, train_loss: 0.8352\n",
      "batch 3/5, train_loss: 0.8441\n",
      "batch 4/5, train_loss: 0.8428\n",
      "batch 5/5, train_loss: 0.8418\n",
      "epoch 9 average loss: 0.8436\n",
      "----------\n",
      "epoch 10/50\n"
     ]
    },
    {
     "name": "stderr",
     "output_type": "stream",
     "text": [
      "/home/max1024/venvs/ml/lib/python3.12/site-packages/monai/transforms/utils.py:743: UserWarning: no available indices of class 2 to crop, setting the crop ratio of this class to zero.\n",
      "  warnings.warn(\n",
      "/home/max1024/venvs/ml/lib/python3.12/site-packages/monai/transforms/utils.py:743: UserWarning: no available indices of class 7 to crop, setting the crop ratio of this class to zero.\n",
      "  warnings.warn(\n",
      "/home/max1024/venvs/ml/lib/python3.12/site-packages/monai/transforms/utils.py:743: UserWarning: no available indices of class 2 to crop, setting the crop ratio of this class to zero.\n",
      "  warnings.warn(\n",
      "/home/max1024/venvs/ml/lib/python3.12/site-packages/monai/transforms/utils.py:743: UserWarning: no available indices of class 7 to crop, setting the crop ratio of this class to zero.\n",
      "  warnings.warn(\n",
      "/home/max1024/venvs/ml/lib/python3.12/site-packages/monai/transforms/utils.py:743: UserWarning: no available indices of class 2 to crop, setting the crop ratio of this class to zero.\n",
      "  warnings.warn(\n",
      "/home/max1024/venvs/ml/lib/python3.12/site-packages/monai/transforms/utils.py:743: UserWarning: no available indices of class 7 to crop, setting the crop ratio of this class to zero.\n",
      "  warnings.warn(\n",
      "/home/max1024/venvs/ml/lib/python3.12/site-packages/monai/transforms/utils.py:743: UserWarning: no available indices of class 2 to crop, setting the crop ratio of this class to zero.\n",
      "  warnings.warn(\n",
      "/home/max1024/venvs/ml/lib/python3.12/site-packages/monai/transforms/utils.py:743: UserWarning: no available indices of class 7 to crop, setting the crop ratio of this class to zero.\n",
      "  warnings.warn(\n"
     ]
    },
    {
     "name": "stdout",
     "output_type": "stream",
     "text": [
      "batch 1/5, train_loss: 0.8545\n",
      "batch 2/5, train_loss: 0.8503\n",
      "batch 3/5, train_loss: 0.8419\n",
      "batch 4/5, train_loss: 0.8392\n",
      "batch 5/5, train_loss: 0.8507\n",
      "epoch 10 average loss: 0.8473\n"
     ]
    },
    {
     "name": "stderr",
     "output_type": "stream",
     "text": [
      "/home/max1024/venvs/ml/lib/python3.12/site-packages/monai/transforms/utils.py:743: UserWarning: no available indices of class 2 to crop, setting the crop ratio of this class to zero.\n",
      "  warnings.warn(\n",
      "/home/max1024/venvs/ml/lib/python3.12/site-packages/monai/transforms/utils.py:743: UserWarning: no available indices of class 7 to crop, setting the crop ratio of this class to zero.\n",
      "  warnings.warn(\n",
      "/home/max1024/venvs/ml/lib/python3.12/site-packages/monai/transforms/utils.py:743: UserWarning: no available indices of class 2 to crop, setting the crop ratio of this class to zero.\n",
      "  warnings.warn(\n",
      "/home/max1024/venvs/ml/lib/python3.12/site-packages/monai/transforms/utils.py:743: UserWarning: no available indices of class 7 to crop, setting the crop ratio of this class to zero.\n",
      "  warnings.warn(\n"
     ]
    },
    {
     "name": "stdout",
     "output_type": "stream",
     "text": [
      "current epoch: 10 current mean recall per class: 0.03368, 0, 0.0158, 0.4552, 0.04303, 0.05495, 0\n",
      "best mean recall: 0.1053 at epoch: 6\n",
      "----------\n",
      "epoch 11/50\n"
     ]
    },
    {
     "name": "stderr",
     "output_type": "stream",
     "text": [
      "/home/max1024/venvs/ml/lib/python3.12/site-packages/monai/transforms/utils.py:743: UserWarning: no available indices of class 2 to crop, setting the crop ratio of this class to zero.\n",
      "  warnings.warn(\n",
      "/home/max1024/venvs/ml/lib/python3.12/site-packages/monai/transforms/utils.py:743: UserWarning: no available indices of class 7 to crop, setting the crop ratio of this class to zero.\n",
      "  warnings.warn(\n",
      "/home/max1024/venvs/ml/lib/python3.12/site-packages/monai/transforms/utils.py:743: UserWarning: no available indices of class 2 to crop, setting the crop ratio of this class to zero.\n",
      "  warnings.warn(\n",
      "/home/max1024/venvs/ml/lib/python3.12/site-packages/monai/transforms/utils.py:743: UserWarning: no available indices of class 7 to crop, setting the crop ratio of this class to zero.\n",
      "  warnings.warn(\n",
      "/home/max1024/venvs/ml/lib/python3.12/site-packages/monai/transforms/utils.py:743: UserWarning: no available indices of class 2 to crop, setting the crop ratio of this class to zero.\n",
      "  warnings.warn(\n",
      "/home/max1024/venvs/ml/lib/python3.12/site-packages/monai/transforms/utils.py:743: UserWarning: no available indices of class 7 to crop, setting the crop ratio of this class to zero.\n",
      "  warnings.warn(\n",
      "/home/max1024/venvs/ml/lib/python3.12/site-packages/monai/transforms/utils.py:743: UserWarning: no available indices of class 2 to crop, setting the crop ratio of this class to zero.\n",
      "  warnings.warn(\n",
      "/home/max1024/venvs/ml/lib/python3.12/site-packages/monai/transforms/utils.py:743: UserWarning: no available indices of class 7 to crop, setting the crop ratio of this class to zero.\n",
      "  warnings.warn(\n"
     ]
    },
    {
     "name": "stdout",
     "output_type": "stream",
     "text": [
      "batch 1/5, train_loss: 0.8308\n",
      "batch 2/5, train_loss: 0.8433\n",
      "batch 3/5, train_loss: 0.8365\n",
      "batch 4/5, train_loss: 0.8173\n",
      "batch 5/5, train_loss: 0.8530\n",
      "epoch 11 average loss: 0.8362\n",
      "----------\n",
      "epoch 12/50\n"
     ]
    },
    {
     "name": "stderr",
     "output_type": "stream",
     "text": [
      "/home/max1024/venvs/ml/lib/python3.12/site-packages/monai/transforms/utils.py:743: UserWarning: no available indices of class 2 to crop, setting the crop ratio of this class to zero.\n",
      "  warnings.warn(\n",
      "/home/max1024/venvs/ml/lib/python3.12/site-packages/monai/transforms/utils.py:743: UserWarning: no available indices of class 7 to crop, setting the crop ratio of this class to zero.\n",
      "  warnings.warn(\n",
      "/home/max1024/venvs/ml/lib/python3.12/site-packages/monai/transforms/utils.py:743: UserWarning: no available indices of class 2 to crop, setting the crop ratio of this class to zero.\n",
      "  warnings.warn(\n",
      "/home/max1024/venvs/ml/lib/python3.12/site-packages/monai/transforms/utils.py:743: UserWarning: no available indices of class 7 to crop, setting the crop ratio of this class to zero.\n",
      "  warnings.warn(\n",
      "/home/max1024/venvs/ml/lib/python3.12/site-packages/monai/transforms/utils.py:743: UserWarning: no available indices of class 2 to crop, setting the crop ratio of this class to zero.\n",
      "  warnings.warn(\n",
      "/home/max1024/venvs/ml/lib/python3.12/site-packages/monai/transforms/utils.py:743: UserWarning: no available indices of class 7 to crop, setting the crop ratio of this class to zero.\n",
      "  warnings.warn(\n",
      "/home/max1024/venvs/ml/lib/python3.12/site-packages/monai/transforms/utils.py:743: UserWarning: no available indices of class 2 to crop, setting the crop ratio of this class to zero.\n",
      "  warnings.warn(\n",
      "/home/max1024/venvs/ml/lib/python3.12/site-packages/monai/transforms/utils.py:743: UserWarning: no available indices of class 7 to crop, setting the crop ratio of this class to zero.\n",
      "  warnings.warn(\n"
     ]
    },
    {
     "name": "stdout",
     "output_type": "stream",
     "text": [
      "batch 1/5, train_loss: 0.8344\n",
      "batch 2/5, train_loss: 0.8163\n",
      "batch 3/5, train_loss: 0.8299\n",
      "batch 4/5, train_loss: 0.8311\n",
      "batch 5/5, train_loss: 0.8283\n",
      "epoch 12 average loss: 0.8280\n"
     ]
    },
    {
     "name": "stderr",
     "output_type": "stream",
     "text": [
      "/home/max1024/venvs/ml/lib/python3.12/site-packages/monai/transforms/utils.py:743: UserWarning: no available indices of class 2 to crop, setting the crop ratio of this class to zero.\n",
      "  warnings.warn(\n",
      "/home/max1024/venvs/ml/lib/python3.12/site-packages/monai/transforms/utils.py:743: UserWarning: no available indices of class 7 to crop, setting the crop ratio of this class to zero.\n",
      "  warnings.warn(\n",
      "/home/max1024/venvs/ml/lib/python3.12/site-packages/monai/transforms/utils.py:743: UserWarning: no available indices of class 2 to crop, setting the crop ratio of this class to zero.\n",
      "  warnings.warn(\n",
      "/home/max1024/venvs/ml/lib/python3.12/site-packages/monai/transforms/utils.py:743: UserWarning: no available indices of class 7 to crop, setting the crop ratio of this class to zero.\n",
      "  warnings.warn(\n"
     ]
    },
    {
     "name": "stdout",
     "output_type": "stream",
     "text": [
      "saved new best metric model\n",
      "current epoch: 12 current mean recall per class: 0.05397, 0, 0.04121, 0.5267, 0.1071, 0.1803, 0\n",
      "best mean recall: 0.1299 at epoch: 12\n",
      "----------\n",
      "epoch 13/50\n"
     ]
    },
    {
     "name": "stderr",
     "output_type": "stream",
     "text": [
      "/home/max1024/venvs/ml/lib/python3.12/site-packages/monai/transforms/utils.py:743: UserWarning: no available indices of class 2 to crop, setting the crop ratio of this class to zero.\n",
      "  warnings.warn(\n",
      "/home/max1024/venvs/ml/lib/python3.12/site-packages/monai/transforms/utils.py:743: UserWarning: no available indices of class 7 to crop, setting the crop ratio of this class to zero.\n",
      "  warnings.warn(\n",
      "/home/max1024/venvs/ml/lib/python3.12/site-packages/monai/transforms/utils.py:743: UserWarning: no available indices of class 2 to crop, setting the crop ratio of this class to zero.\n",
      "  warnings.warn(\n",
      "/home/max1024/venvs/ml/lib/python3.12/site-packages/monai/transforms/utils.py:743: UserWarning: no available indices of class 2 to crop, setting the crop ratio of this class to zero.\n",
      "  warnings.warn(\n",
      "/home/max1024/venvs/ml/lib/python3.12/site-packages/monai/transforms/utils.py:743: UserWarning: no available indices of class 7 to crop, setting the crop ratio of this class to zero.\n",
      "  warnings.warn(\n",
      "/home/max1024/venvs/ml/lib/python3.12/site-packages/monai/transforms/utils.py:743: UserWarning: no available indices of class 2 to crop, setting the crop ratio of this class to zero.\n",
      "  warnings.warn(\n",
      "/home/max1024/venvs/ml/lib/python3.12/site-packages/monai/transforms/utils.py:743: UserWarning: no available indices of class 7 to crop, setting the crop ratio of this class to zero.\n",
      "  warnings.warn(\n",
      "/home/max1024/venvs/ml/lib/python3.12/site-packages/monai/transforms/utils.py:743: UserWarning: no available indices of class 7 to crop, setting the crop ratio of this class to zero.\n",
      "  warnings.warn(\n"
     ]
    },
    {
     "name": "stdout",
     "output_type": "stream",
     "text": [
      "batch 1/5, train_loss: 0.8167\n",
      "batch 2/5, train_loss: 0.8359\n",
      "batch 3/5, train_loss: 0.8217\n",
      "batch 4/5, train_loss: 0.8312\n",
      "batch 5/5, train_loss: 0.8148\n",
      "epoch 13 average loss: 0.8241\n",
      "----------\n",
      "epoch 14/50\n"
     ]
    },
    {
     "name": "stderr",
     "output_type": "stream",
     "text": [
      "/home/max1024/venvs/ml/lib/python3.12/site-packages/monai/transforms/utils.py:743: UserWarning: no available indices of class 2 to crop, setting the crop ratio of this class to zero.\n",
      "  warnings.warn(\n",
      "/home/max1024/venvs/ml/lib/python3.12/site-packages/monai/transforms/utils.py:743: UserWarning: no available indices of class 7 to crop, setting the crop ratio of this class to zero.\n",
      "  warnings.warn(\n",
      "/home/max1024/venvs/ml/lib/python3.12/site-packages/monai/transforms/utils.py:743: UserWarning: no available indices of class 2 to crop, setting the crop ratio of this class to zero.\n",
      "  warnings.warn(\n",
      "/home/max1024/venvs/ml/lib/python3.12/site-packages/monai/transforms/utils.py:743: UserWarning: no available indices of class 7 to crop, setting the crop ratio of this class to zero.\n",
      "  warnings.warn(\n",
      "/home/max1024/venvs/ml/lib/python3.12/site-packages/monai/transforms/utils.py:743: UserWarning: no available indices of class 2 to crop, setting the crop ratio of this class to zero.\n",
      "  warnings.warn(\n",
      "/home/max1024/venvs/ml/lib/python3.12/site-packages/monai/transforms/utils.py:743: UserWarning: no available indices of class 7 to crop, setting the crop ratio of this class to zero.\n",
      "  warnings.warn(\n",
      "/home/max1024/venvs/ml/lib/python3.12/site-packages/monai/transforms/utils.py:743: UserWarning: no available indices of class 2 to crop, setting the crop ratio of this class to zero.\n",
      "  warnings.warn(\n",
      "/home/max1024/venvs/ml/lib/python3.12/site-packages/monai/transforms/utils.py:743: UserWarning: no available indices of class 7 to crop, setting the crop ratio of this class to zero.\n",
      "  warnings.warn(\n"
     ]
    },
    {
     "name": "stdout",
     "output_type": "stream",
     "text": [
      "batch 1/5, train_loss: 0.8217\n",
      "batch 2/5, train_loss: 0.8255\n",
      "batch 3/5, train_loss: 0.8190\n",
      "batch 4/5, train_loss: 0.8223\n",
      "batch 5/5, train_loss: 0.8224\n",
      "epoch 14 average loss: 0.8222\n"
     ]
    },
    {
     "name": "stderr",
     "output_type": "stream",
     "text": [
      "/home/max1024/venvs/ml/lib/python3.12/site-packages/monai/transforms/utils.py:743: UserWarning: no available indices of class 2 to crop, setting the crop ratio of this class to zero.\n",
      "  warnings.warn(\n",
      "/home/max1024/venvs/ml/lib/python3.12/site-packages/monai/transforms/utils.py:743: UserWarning: no available indices of class 7 to crop, setting the crop ratio of this class to zero.\n",
      "  warnings.warn(\n",
      "/home/max1024/venvs/ml/lib/python3.12/site-packages/monai/transforms/utils.py:743: UserWarning: no available indices of class 2 to crop, setting the crop ratio of this class to zero.\n",
      "  warnings.warn(\n",
      "/home/max1024/venvs/ml/lib/python3.12/site-packages/monai/transforms/utils.py:743: UserWarning: no available indices of class 7 to crop, setting the crop ratio of this class to zero.\n",
      "  warnings.warn(\n"
     ]
    },
    {
     "name": "stdout",
     "output_type": "stream",
     "text": [
      "current epoch: 14 current mean recall per class: 0.05635, 0, 0.0456, 0.5199, 0.1124, 0.1514, 0\n",
      "best mean recall: 0.1299 at epoch: 12\n",
      "----------\n",
      "epoch 15/50\n"
     ]
    },
    {
     "name": "stderr",
     "output_type": "stream",
     "text": [
      "/home/max1024/venvs/ml/lib/python3.12/site-packages/monai/transforms/utils.py:743: UserWarning: no available indices of class 2 to crop, setting the crop ratio of this class to zero.\n",
      "  warnings.warn(\n",
      "/home/max1024/venvs/ml/lib/python3.12/site-packages/monai/transforms/utils.py:743: UserWarning: no available indices of class 7 to crop, setting the crop ratio of this class to zero.\n",
      "  warnings.warn(\n",
      "/home/max1024/venvs/ml/lib/python3.12/site-packages/monai/transforms/utils.py:743: UserWarning: no available indices of class 2 to crop, setting the crop ratio of this class to zero.\n",
      "  warnings.warn(\n",
      "/home/max1024/venvs/ml/lib/python3.12/site-packages/monai/transforms/utils.py:743: UserWarning: no available indices of class 7 to crop, setting the crop ratio of this class to zero.\n",
      "  warnings.warn(\n",
      "/home/max1024/venvs/ml/lib/python3.12/site-packages/monai/transforms/utils.py:743: UserWarning: no available indices of class 2 to crop, setting the crop ratio of this class to zero.\n",
      "  warnings.warn(\n",
      "/home/max1024/venvs/ml/lib/python3.12/site-packages/monai/transforms/utils.py:743: UserWarning: no available indices of class 7 to crop, setting the crop ratio of this class to zero.\n",
      "  warnings.warn(\n",
      "/home/max1024/venvs/ml/lib/python3.12/site-packages/monai/transforms/utils.py:743: UserWarning: no available indices of class 2 to crop, setting the crop ratio of this class to zero.\n",
      "  warnings.warn(\n",
      "/home/max1024/venvs/ml/lib/python3.12/site-packages/monai/transforms/utils.py:743: UserWarning: no available indices of class 7 to crop, setting the crop ratio of this class to zero.\n",
      "  warnings.warn(\n"
     ]
    },
    {
     "name": "stdout",
     "output_type": "stream",
     "text": [
      "batch 1/5, train_loss: 0.8370\n",
      "batch 2/5, train_loss: 0.8215\n",
      "batch 3/5, train_loss: 0.8226\n",
      "batch 4/5, train_loss: 0.8113\n",
      "batch 5/5, train_loss: 0.8183\n",
      "epoch 15 average loss: 0.8221\n",
      "----------\n",
      "epoch 16/50\n"
     ]
    },
    {
     "name": "stderr",
     "output_type": "stream",
     "text": [
      "/home/max1024/venvs/ml/lib/python3.12/site-packages/monai/transforms/utils.py:743: UserWarning: no available indices of class 2 to crop, setting the crop ratio of this class to zero.\n",
      "  warnings.warn(\n",
      "/home/max1024/venvs/ml/lib/python3.12/site-packages/monai/transforms/utils.py:743: UserWarning: no available indices of class 7 to crop, setting the crop ratio of this class to zero.\n",
      "  warnings.warn(\n",
      "/home/max1024/venvs/ml/lib/python3.12/site-packages/monai/transforms/utils.py:743: UserWarning: no available indices of class 2 to crop, setting the crop ratio of this class to zero.\n",
      "  warnings.warn(\n",
      "/home/max1024/venvs/ml/lib/python3.12/site-packages/monai/transforms/utils.py:743: UserWarning: no available indices of class 7 to crop, setting the crop ratio of this class to zero.\n",
      "  warnings.warn(\n",
      "/home/max1024/venvs/ml/lib/python3.12/site-packages/monai/transforms/utils.py:743: UserWarning: no available indices of class 2 to crop, setting the crop ratio of this class to zero.\n",
      "  warnings.warn(\n",
      "/home/max1024/venvs/ml/lib/python3.12/site-packages/monai/transforms/utils.py:743: UserWarning: no available indices of class 7 to crop, setting the crop ratio of this class to zero.\n",
      "  warnings.warn(\n",
      "/home/max1024/venvs/ml/lib/python3.12/site-packages/monai/transforms/utils.py:743: UserWarning: no available indices of class 2 to crop, setting the crop ratio of this class to zero.\n",
      "  warnings.warn(\n",
      "/home/max1024/venvs/ml/lib/python3.12/site-packages/monai/transforms/utils.py:743: UserWarning: no available indices of class 7 to crop, setting the crop ratio of this class to zero.\n",
      "  warnings.warn(\n"
     ]
    },
    {
     "name": "stdout",
     "output_type": "stream",
     "text": [
      "batch 1/5, train_loss: 0.8393\n",
      "batch 2/5, train_loss: 0.8198\n",
      "batch 3/5, train_loss: 0.8278\n",
      "batch 4/5, train_loss: 0.8217\n",
      "batch 5/5, train_loss: 0.8198\n",
      "epoch 16 average loss: 0.8257\n"
     ]
    },
    {
     "name": "stderr",
     "output_type": "stream",
     "text": [
      "/home/max1024/venvs/ml/lib/python3.12/site-packages/monai/transforms/utils.py:743: UserWarning: no available indices of class 2 to crop, setting the crop ratio of this class to zero.\n",
      "  warnings.warn(\n",
      "/home/max1024/venvs/ml/lib/python3.12/site-packages/monai/transforms/utils.py:743: UserWarning: no available indices of class 7 to crop, setting the crop ratio of this class to zero.\n",
      "  warnings.warn(\n",
      "/home/max1024/venvs/ml/lib/python3.12/site-packages/monai/transforms/utils.py:743: UserWarning: no available indices of class 2 to crop, setting the crop ratio of this class to zero.\n",
      "  warnings.warn(\n",
      "/home/max1024/venvs/ml/lib/python3.12/site-packages/monai/transforms/utils.py:743: UserWarning: no available indices of class 7 to crop, setting the crop ratio of this class to zero.\n",
      "  warnings.warn(\n"
     ]
    },
    {
     "name": "stdout",
     "output_type": "stream",
     "text": [
      "saved new best metric model\n",
      "current epoch: 16 current mean recall per class: 0.0924, 0, 0.0334, 0.4613, 0.09978, 0.3542, 0\n",
      "best mean recall: 0.1487 at epoch: 16\n",
      "----------\n",
      "epoch 17/50\n"
     ]
    },
    {
     "name": "stderr",
     "output_type": "stream",
     "text": [
      "/home/max1024/venvs/ml/lib/python3.12/site-packages/monai/transforms/utils.py:743: UserWarning: no available indices of class 2 to crop, setting the crop ratio of this class to zero.\n",
      "  warnings.warn(\n",
      "/home/max1024/venvs/ml/lib/python3.12/site-packages/monai/transforms/utils.py:743: UserWarning: no available indices of class 2 to crop, setting the crop ratio of this class to zero.\n",
      "  warnings.warn(\n",
      "/home/max1024/venvs/ml/lib/python3.12/site-packages/monai/transforms/utils.py:743: UserWarning: no available indices of class 7 to crop, setting the crop ratio of this class to zero.\n",
      "  warnings.warn(\n",
      "/home/max1024/venvs/ml/lib/python3.12/site-packages/monai/transforms/utils.py:743: UserWarning: no available indices of class 7 to crop, setting the crop ratio of this class to zero.\n",
      "  warnings.warn(\n",
      "/home/max1024/venvs/ml/lib/python3.12/site-packages/monai/transforms/utils.py:743: UserWarning: no available indices of class 2 to crop, setting the crop ratio of this class to zero.\n",
      "  warnings.warn(\n",
      "/home/max1024/venvs/ml/lib/python3.12/site-packages/monai/transforms/utils.py:743: UserWarning: no available indices of class 7 to crop, setting the crop ratio of this class to zero.\n",
      "  warnings.warn(\n",
      "/home/max1024/venvs/ml/lib/python3.12/site-packages/monai/transforms/utils.py:743: UserWarning: no available indices of class 2 to crop, setting the crop ratio of this class to zero.\n",
      "  warnings.warn(\n",
      "/home/max1024/venvs/ml/lib/python3.12/site-packages/monai/transforms/utils.py:743: UserWarning: no available indices of class 7 to crop, setting the crop ratio of this class to zero.\n",
      "  warnings.warn(\n"
     ]
    },
    {
     "name": "stdout",
     "output_type": "stream",
     "text": [
      "batch 1/5, train_loss: 0.8140\n",
      "batch 2/5, train_loss: 0.8201\n",
      "batch 3/5, train_loss: 0.8095\n",
      "batch 4/5, train_loss: 0.8198\n",
      "batch 5/5, train_loss: 0.8133\n",
      "epoch 17 average loss: 0.8153\n",
      "----------\n",
      "epoch 18/50\n"
     ]
    },
    {
     "name": "stderr",
     "output_type": "stream",
     "text": [
      "/home/max1024/venvs/ml/lib/python3.12/site-packages/monai/transforms/utils.py:743: UserWarning: no available indices of class 2 to crop, setting the crop ratio of this class to zero.\n",
      "  warnings.warn(\n",
      "/home/max1024/venvs/ml/lib/python3.12/site-packages/monai/transforms/utils.py:743: UserWarning: no available indices of class 7 to crop, setting the crop ratio of this class to zero.\n",
      "  warnings.warn(\n",
      "/home/max1024/venvs/ml/lib/python3.12/site-packages/monai/transforms/utils.py:743: UserWarning: no available indices of class 2 to crop, setting the crop ratio of this class to zero.\n",
      "  warnings.warn(\n",
      "/home/max1024/venvs/ml/lib/python3.12/site-packages/monai/transforms/utils.py:743: UserWarning: no available indices of class 7 to crop, setting the crop ratio of this class to zero.\n",
      "  warnings.warn(\n",
      "/home/max1024/venvs/ml/lib/python3.12/site-packages/monai/transforms/utils.py:743: UserWarning: no available indices of class 2 to crop, setting the crop ratio of this class to zero.\n",
      "  warnings.warn(\n",
      "/home/max1024/venvs/ml/lib/python3.12/site-packages/monai/transforms/utils.py:743: UserWarning: no available indices of class 7 to crop, setting the crop ratio of this class to zero.\n",
      "  warnings.warn(\n",
      "/home/max1024/venvs/ml/lib/python3.12/site-packages/monai/transforms/utils.py:743: UserWarning: no available indices of class 2 to crop, setting the crop ratio of this class to zero.\n",
      "  warnings.warn(\n",
      "/home/max1024/venvs/ml/lib/python3.12/site-packages/monai/transforms/utils.py:743: UserWarning: no available indices of class 7 to crop, setting the crop ratio of this class to zero.\n",
      "  warnings.warn(\n"
     ]
    },
    {
     "name": "stdout",
     "output_type": "stream",
     "text": [
      "batch 1/5, train_loss: 0.8305\n",
      "batch 2/5, train_loss: 0.8074\n",
      "batch 3/5, train_loss: 0.8181\n",
      "batch 4/5, train_loss: 0.8194\n",
      "batch 5/5, train_loss: 0.7962\n",
      "epoch 18 average loss: 0.8143\n"
     ]
    },
    {
     "name": "stderr",
     "output_type": "stream",
     "text": [
      "/home/max1024/venvs/ml/lib/python3.12/site-packages/monai/transforms/utils.py:743: UserWarning: no available indices of class 2 to crop, setting the crop ratio of this class to zero.\n",
      "  warnings.warn(\n",
      "/home/max1024/venvs/ml/lib/python3.12/site-packages/monai/transforms/utils.py:743: UserWarning: no available indices of class 7 to crop, setting the crop ratio of this class to zero.\n",
      "  warnings.warn(\n",
      "/home/max1024/venvs/ml/lib/python3.12/site-packages/monai/transforms/utils.py:743: UserWarning: no available indices of class 2 to crop, setting the crop ratio of this class to zero.\n",
      "  warnings.warn(\n",
      "/home/max1024/venvs/ml/lib/python3.12/site-packages/monai/transforms/utils.py:743: UserWarning: no available indices of class 7 to crop, setting the crop ratio of this class to zero.\n",
      "  warnings.warn(\n"
     ]
    },
    {
     "name": "stdout",
     "output_type": "stream",
     "text": [
      "current epoch: 18 current mean recall per class: 0.05316, 0, 0.04933, 0.5468, 0.1294, 0.1711, 0\n",
      "best mean recall: 0.1487 at epoch: 16\n",
      "----------\n",
      "epoch 19/50\n"
     ]
    },
    {
     "name": "stderr",
     "output_type": "stream",
     "text": [
      "/home/max1024/venvs/ml/lib/python3.12/site-packages/monai/transforms/utils.py:743: UserWarning: no available indices of class 2 to crop, setting the crop ratio of this class to zero.\n",
      "  warnings.warn(\n",
      "/home/max1024/venvs/ml/lib/python3.12/site-packages/monai/transforms/utils.py:743: UserWarning: no available indices of class 7 to crop, setting the crop ratio of this class to zero.\n",
      "  warnings.warn(\n",
      "/home/max1024/venvs/ml/lib/python3.12/site-packages/monai/transforms/utils.py:743: UserWarning: no available indices of class 2 to crop, setting the crop ratio of this class to zero.\n",
      "  warnings.warn(\n",
      "/home/max1024/venvs/ml/lib/python3.12/site-packages/monai/transforms/utils.py:743: UserWarning: no available indices of class 7 to crop, setting the crop ratio of this class to zero.\n",
      "  warnings.warn(\n",
      "/home/max1024/venvs/ml/lib/python3.12/site-packages/monai/transforms/utils.py:743: UserWarning: no available indices of class 2 to crop, setting the crop ratio of this class to zero.\n",
      "  warnings.warn(\n",
      "/home/max1024/venvs/ml/lib/python3.12/site-packages/monai/transforms/utils.py:743: UserWarning: no available indices of class 7 to crop, setting the crop ratio of this class to zero.\n",
      "  warnings.warn(\n",
      "/home/max1024/venvs/ml/lib/python3.12/site-packages/monai/transforms/utils.py:743: UserWarning: no available indices of class 2 to crop, setting the crop ratio of this class to zero.\n",
      "  warnings.warn(\n",
      "/home/max1024/venvs/ml/lib/python3.12/site-packages/monai/transforms/utils.py:743: UserWarning: no available indices of class 7 to crop, setting the crop ratio of this class to zero.\n",
      "  warnings.warn(\n"
     ]
    },
    {
     "name": "stdout",
     "output_type": "stream",
     "text": [
      "batch 1/5, train_loss: 0.8020\n",
      "batch 2/5, train_loss: 0.8094\n",
      "batch 3/5, train_loss: 0.8245\n",
      "batch 4/5, train_loss: 0.7891\n",
      "batch 5/5, train_loss: 0.8286\n",
      "epoch 19 average loss: 0.8107\n",
      "----------\n",
      "epoch 20/50\n"
     ]
    },
    {
     "name": "stderr",
     "output_type": "stream",
     "text": [
      "/home/max1024/venvs/ml/lib/python3.12/site-packages/monai/transforms/utils.py:743: UserWarning: no available indices of class 2 to crop, setting the crop ratio of this class to zero.\n",
      "  warnings.warn(\n",
      "/home/max1024/venvs/ml/lib/python3.12/site-packages/monai/transforms/utils.py:743: UserWarning: no available indices of class 7 to crop, setting the crop ratio of this class to zero.\n",
      "  warnings.warn(\n",
      "/home/max1024/venvs/ml/lib/python3.12/site-packages/monai/transforms/utils.py:743: UserWarning: no available indices of class 2 to crop, setting the crop ratio of this class to zero.\n",
      "  warnings.warn(\n",
      "/home/max1024/venvs/ml/lib/python3.12/site-packages/monai/transforms/utils.py:743: UserWarning: no available indices of class 2 to crop, setting the crop ratio of this class to zero.\n",
      "  warnings.warn(\n",
      "/home/max1024/venvs/ml/lib/python3.12/site-packages/monai/transforms/utils.py:743: UserWarning: no available indices of class 2 to crop, setting the crop ratio of this class to zero.\n",
      "  warnings.warn(\n",
      "/home/max1024/venvs/ml/lib/python3.12/site-packages/monai/transforms/utils.py:743: UserWarning: no available indices of class 7 to crop, setting the crop ratio of this class to zero.\n",
      "  warnings.warn(\n",
      "/home/max1024/venvs/ml/lib/python3.12/site-packages/monai/transforms/utils.py:743: UserWarning: no available indices of class 7 to crop, setting the crop ratio of this class to zero.\n",
      "  warnings.warn(\n",
      "/home/max1024/venvs/ml/lib/python3.12/site-packages/monai/transforms/utils.py:743: UserWarning: no available indices of class 7 to crop, setting the crop ratio of this class to zero.\n",
      "  warnings.warn(\n"
     ]
    },
    {
     "name": "stdout",
     "output_type": "stream",
     "text": [
      "batch 1/5, train_loss: 0.8225\n",
      "batch 2/5, train_loss: 0.7953\n",
      "batch 3/5, train_loss: 0.8271\n",
      "batch 4/5, train_loss: 0.8082\n",
      "batch 5/5, train_loss: 0.8084\n",
      "epoch 20 average loss: 0.8123\n"
     ]
    },
    {
     "name": "stderr",
     "output_type": "stream",
     "text": [
      "/home/max1024/venvs/ml/lib/python3.12/site-packages/monai/transforms/utils.py:743: UserWarning: no available indices of class 2 to crop, setting the crop ratio of this class to zero.\n",
      "  warnings.warn(\n",
      "/home/max1024/venvs/ml/lib/python3.12/site-packages/monai/transforms/utils.py:743: UserWarning: no available indices of class 7 to crop, setting the crop ratio of this class to zero.\n",
      "  warnings.warn(\n",
      "/home/max1024/venvs/ml/lib/python3.12/site-packages/monai/transforms/utils.py:743: UserWarning: no available indices of class 2 to crop, setting the crop ratio of this class to zero.\n",
      "  warnings.warn(\n",
      "/home/max1024/venvs/ml/lib/python3.12/site-packages/monai/transforms/utils.py:743: UserWarning: no available indices of class 7 to crop, setting the crop ratio of this class to zero.\n",
      "  warnings.warn(\n"
     ]
    },
    {
     "name": "stdout",
     "output_type": "stream",
     "text": [
      "saved new best metric model\n",
      "current epoch: 20 current mean recall per class: 0.0632, 0, 0.05542, 0.4979, 0.1392, 0.4195, 0\n",
      "best mean recall: 0.1679 at epoch: 20\n",
      "----------\n",
      "epoch 21/50\n"
     ]
    },
    {
     "name": "stderr",
     "output_type": "stream",
     "text": [
      "/home/max1024/venvs/ml/lib/python3.12/site-packages/monai/transforms/utils.py:743: UserWarning: no available indices of class 2 to crop, setting the crop ratio of this class to zero.\n",
      "  warnings.warn(\n",
      "/home/max1024/venvs/ml/lib/python3.12/site-packages/monai/transforms/utils.py:743: UserWarning: no available indices of class 7 to crop, setting the crop ratio of this class to zero.\n",
      "  warnings.warn(\n",
      "/home/max1024/venvs/ml/lib/python3.12/site-packages/monai/transforms/utils.py:743: UserWarning: no available indices of class 2 to crop, setting the crop ratio of this class to zero.\n",
      "  warnings.warn(\n",
      "/home/max1024/venvs/ml/lib/python3.12/site-packages/monai/transforms/utils.py:743: UserWarning: no available indices of class 7 to crop, setting the crop ratio of this class to zero.\n",
      "  warnings.warn(\n",
      "/home/max1024/venvs/ml/lib/python3.12/site-packages/monai/transforms/utils.py:743: UserWarning: no available indices of class 2 to crop, setting the crop ratio of this class to zero.\n",
      "  warnings.warn(\n",
      "/home/max1024/venvs/ml/lib/python3.12/site-packages/monai/transforms/utils.py:743: UserWarning: no available indices of class 2 to crop, setting the crop ratio of this class to zero.\n",
      "  warnings.warn(\n",
      "/home/max1024/venvs/ml/lib/python3.12/site-packages/monai/transforms/utils.py:743: UserWarning: no available indices of class 7 to crop, setting the crop ratio of this class to zero.\n",
      "  warnings.warn(\n",
      "/home/max1024/venvs/ml/lib/python3.12/site-packages/monai/transforms/utils.py:743: UserWarning: no available indices of class 7 to crop, setting the crop ratio of this class to zero.\n",
      "  warnings.warn(\n"
     ]
    },
    {
     "name": "stdout",
     "output_type": "stream",
     "text": [
      "batch 1/5, train_loss: 0.8034\n",
      "batch 2/5, train_loss: 0.8076\n",
      "batch 3/5, train_loss: 0.8029\n",
      "batch 4/5, train_loss: 0.8177\n",
      "batch 5/5, train_loss: 0.8027\n",
      "epoch 21 average loss: 0.8069\n",
      "----------\n",
      "epoch 22/50\n"
     ]
    },
    {
     "name": "stderr",
     "output_type": "stream",
     "text": [
      "/home/max1024/venvs/ml/lib/python3.12/site-packages/monai/transforms/utils.py:743: UserWarning: no available indices of class 2 to crop, setting the crop ratio of this class to zero.\n",
      "  warnings.warn(\n",
      "/home/max1024/venvs/ml/lib/python3.12/site-packages/monai/transforms/utils.py:743: UserWarning: no available indices of class 2 to crop, setting the crop ratio of this class to zero.\n",
      "  warnings.warn(\n",
      "/home/max1024/venvs/ml/lib/python3.12/site-packages/monai/transforms/utils.py:743: UserWarning: no available indices of class 7 to crop, setting the crop ratio of this class to zero.\n",
      "  warnings.warn(\n",
      "/home/max1024/venvs/ml/lib/python3.12/site-packages/monai/transforms/utils.py:743: UserWarning: no available indices of class 7 to crop, setting the crop ratio of this class to zero.\n",
      "  warnings.warn(\n",
      "/home/max1024/venvs/ml/lib/python3.12/site-packages/monai/transforms/utils.py:743: UserWarning: no available indices of class 2 to crop, setting the crop ratio of this class to zero.\n",
      "  warnings.warn(\n",
      "/home/max1024/venvs/ml/lib/python3.12/site-packages/monai/transforms/utils.py:743: UserWarning: no available indices of class 7 to crop, setting the crop ratio of this class to zero.\n",
      "  warnings.warn(\n",
      "/home/max1024/venvs/ml/lib/python3.12/site-packages/monai/transforms/utils.py:743: UserWarning: no available indices of class 2 to crop, setting the crop ratio of this class to zero.\n",
      "  warnings.warn(\n",
      "/home/max1024/venvs/ml/lib/python3.12/site-packages/monai/transforms/utils.py:743: UserWarning: no available indices of class 7 to crop, setting the crop ratio of this class to zero.\n",
      "  warnings.warn(\n"
     ]
    },
    {
     "name": "stdout",
     "output_type": "stream",
     "text": [
      "batch 1/5, train_loss: 0.8208\n",
      "batch 2/5, train_loss: 0.7892\n",
      "batch 3/5, train_loss: 0.8119\n",
      "batch 4/5, train_loss: 0.8098\n",
      "batch 5/5, train_loss: 0.8213\n",
      "epoch 22 average loss: 0.8106\n"
     ]
    },
    {
     "name": "stderr",
     "output_type": "stream",
     "text": [
      "/home/max1024/venvs/ml/lib/python3.12/site-packages/monai/transforms/utils.py:743: UserWarning: no available indices of class 2 to crop, setting the crop ratio of this class to zero.\n",
      "  warnings.warn(\n",
      "/home/max1024/venvs/ml/lib/python3.12/site-packages/monai/transforms/utils.py:743: UserWarning: no available indices of class 7 to crop, setting the crop ratio of this class to zero.\n",
      "  warnings.warn(\n",
      "/home/max1024/venvs/ml/lib/python3.12/site-packages/monai/transforms/utils.py:743: UserWarning: no available indices of class 2 to crop, setting the crop ratio of this class to zero.\n",
      "  warnings.warn(\n",
      "/home/max1024/venvs/ml/lib/python3.12/site-packages/monai/transforms/utils.py:743: UserWarning: no available indices of class 7 to crop, setting the crop ratio of this class to zero.\n",
      "  warnings.warn(\n"
     ]
    },
    {
     "name": "stdout",
     "output_type": "stream",
     "text": [
      "current epoch: 22 current mean recall per class: 0.08048, 0, 0.06646, 0.483, 0.1363, 0.3614, 0\n",
      "best mean recall: 0.1679 at epoch: 20\n",
      "----------\n",
      "epoch 23/50\n"
     ]
    },
    {
     "name": "stderr",
     "output_type": "stream",
     "text": [
      "/home/max1024/venvs/ml/lib/python3.12/site-packages/monai/transforms/utils.py:743: UserWarning: no available indices of class 2 to crop, setting the crop ratio of this class to zero.\n",
      "  warnings.warn(\n",
      "/home/max1024/venvs/ml/lib/python3.12/site-packages/monai/transforms/utils.py:743: UserWarning: no available indices of class 7 to crop, setting the crop ratio of this class to zero.\n",
      "  warnings.warn(\n",
      "/home/max1024/venvs/ml/lib/python3.12/site-packages/monai/transforms/utils.py:743: UserWarning: no available indices of class 2 to crop, setting the crop ratio of this class to zero.\n",
      "  warnings.warn(\n",
      "/home/max1024/venvs/ml/lib/python3.12/site-packages/monai/transforms/utils.py:743: UserWarning: no available indices of class 7 to crop, setting the crop ratio of this class to zero.\n",
      "  warnings.warn(\n",
      "/home/max1024/venvs/ml/lib/python3.12/site-packages/monai/transforms/utils.py:743: UserWarning: no available indices of class 2 to crop, setting the crop ratio of this class to zero.\n",
      "  warnings.warn(\n",
      "/home/max1024/venvs/ml/lib/python3.12/site-packages/monai/transforms/utils.py:743: UserWarning: no available indices of class 7 to crop, setting the crop ratio of this class to zero.\n",
      "  warnings.warn(\n",
      "/home/max1024/venvs/ml/lib/python3.12/site-packages/monai/transforms/utils.py:743: UserWarning: no available indices of class 2 to crop, setting the crop ratio of this class to zero.\n",
      "  warnings.warn(\n",
      "/home/max1024/venvs/ml/lib/python3.12/site-packages/monai/transforms/utils.py:743: UserWarning: no available indices of class 7 to crop, setting the crop ratio of this class to zero.\n",
      "  warnings.warn(\n"
     ]
    },
    {
     "name": "stdout",
     "output_type": "stream",
     "text": [
      "batch 1/5, train_loss: 0.8017\n",
      "batch 2/5, train_loss: 0.8070\n",
      "batch 3/5, train_loss: 0.7951\n",
      "batch 4/5, train_loss: 0.8008\n",
      "batch 5/5, train_loss: 0.8175\n",
      "epoch 23 average loss: 0.8044\n",
      "----------\n",
      "epoch 24/50\n"
     ]
    },
    {
     "name": "stderr",
     "output_type": "stream",
     "text": [
      "/home/max1024/venvs/ml/lib/python3.12/site-packages/monai/transforms/utils.py:743: UserWarning: no available indices of class 2 to crop, setting the crop ratio of this class to zero.\n",
      "  warnings.warn(\n",
      "/home/max1024/venvs/ml/lib/python3.12/site-packages/monai/transforms/utils.py:743: UserWarning: no available indices of class 2 to crop, setting the crop ratio of this class to zero.\n",
      "  warnings.warn(\n",
      "/home/max1024/venvs/ml/lib/python3.12/site-packages/monai/transforms/utils.py:743: UserWarning: no available indices of class 7 to crop, setting the crop ratio of this class to zero.\n",
      "  warnings.warn(\n",
      "/home/max1024/venvs/ml/lib/python3.12/site-packages/monai/transforms/utils.py:743: UserWarning: no available indices of class 2 to crop, setting the crop ratio of this class to zero.\n",
      "  warnings.warn(\n",
      "/home/max1024/venvs/ml/lib/python3.12/site-packages/monai/transforms/utils.py:743: UserWarning: no available indices of class 7 to crop, setting the crop ratio of this class to zero.\n",
      "  warnings.warn(\n",
      "/home/max1024/venvs/ml/lib/python3.12/site-packages/monai/transforms/utils.py:743: UserWarning: no available indices of class 2 to crop, setting the crop ratio of this class to zero.\n",
      "  warnings.warn(\n",
      "/home/max1024/venvs/ml/lib/python3.12/site-packages/monai/transforms/utils.py:743: UserWarning: no available indices of class 7 to crop, setting the crop ratio of this class to zero.\n",
      "  warnings.warn(\n",
      "/home/max1024/venvs/ml/lib/python3.12/site-packages/monai/transforms/utils.py:743: UserWarning: no available indices of class 7 to crop, setting the crop ratio of this class to zero.\n",
      "  warnings.warn(\n"
     ]
    },
    {
     "name": "stdout",
     "output_type": "stream",
     "text": [
      "batch 1/5, train_loss: 0.7940\n",
      "batch 2/5, train_loss: 0.8025\n",
      "batch 3/5, train_loss: 0.7939\n",
      "batch 4/5, train_loss: 0.8153\n",
      "batch 5/5, train_loss: 0.8136\n",
      "epoch 24 average loss: 0.8038\n"
     ]
    },
    {
     "name": "stderr",
     "output_type": "stream",
     "text": [
      "/home/max1024/venvs/ml/lib/python3.12/site-packages/monai/transforms/utils.py:743: UserWarning: no available indices of class 2 to crop, setting the crop ratio of this class to zero.\n",
      "  warnings.warn(\n",
      "/home/max1024/venvs/ml/lib/python3.12/site-packages/monai/transforms/utils.py:743: UserWarning: no available indices of class 7 to crop, setting the crop ratio of this class to zero.\n",
      "  warnings.warn(\n",
      "/home/max1024/venvs/ml/lib/python3.12/site-packages/monai/transforms/utils.py:743: UserWarning: no available indices of class 2 to crop, setting the crop ratio of this class to zero.\n",
      "  warnings.warn(\n",
      "/home/max1024/venvs/ml/lib/python3.12/site-packages/monai/transforms/utils.py:743: UserWarning: no available indices of class 7 to crop, setting the crop ratio of this class to zero.\n",
      "  warnings.warn(\n"
     ]
    },
    {
     "name": "stdout",
     "output_type": "stream",
     "text": [
      "saved new best metric model\n",
      "current epoch: 24 current mean recall per class: 0.1094, 0, 0.07731, 0.512, 0.1823, 0.5009, 0\n",
      "best mean recall: 0.1974 at epoch: 24\n",
      "----------\n",
      "epoch 25/50\n"
     ]
    },
    {
     "name": "stderr",
     "output_type": "stream",
     "text": [
      "/home/max1024/venvs/ml/lib/python3.12/site-packages/monai/transforms/utils.py:743: UserWarning: no available indices of class 2 to crop, setting the crop ratio of this class to zero.\n",
      "  warnings.warn(\n",
      "/home/max1024/venvs/ml/lib/python3.12/site-packages/monai/transforms/utils.py:743: UserWarning: no available indices of class 7 to crop, setting the crop ratio of this class to zero.\n",
      "  warnings.warn(\n",
      "/home/max1024/venvs/ml/lib/python3.12/site-packages/monai/transforms/utils.py:743: UserWarning: no available indices of class 2 to crop, setting the crop ratio of this class to zero.\n",
      "  warnings.warn(\n",
      "/home/max1024/venvs/ml/lib/python3.12/site-packages/monai/transforms/utils.py:743: UserWarning: no available indices of class 2 to crop, setting the crop ratio of this class to zero.\n",
      "  warnings.warn(\n",
      "/home/max1024/venvs/ml/lib/python3.12/site-packages/monai/transforms/utils.py:743: UserWarning: no available indices of class 7 to crop, setting the crop ratio of this class to zero.\n",
      "  warnings.warn(\n",
      "/home/max1024/venvs/ml/lib/python3.12/site-packages/monai/transforms/utils.py:743: UserWarning: no available indices of class 7 to crop, setting the crop ratio of this class to zero.\n",
      "  warnings.warn(\n",
      "/home/max1024/venvs/ml/lib/python3.12/site-packages/monai/transforms/utils.py:743: UserWarning: no available indices of class 2 to crop, setting the crop ratio of this class to zero.\n",
      "  warnings.warn(\n",
      "/home/max1024/venvs/ml/lib/python3.12/site-packages/monai/transforms/utils.py:743: UserWarning: no available indices of class 7 to crop, setting the crop ratio of this class to zero.\n",
      "  warnings.warn(\n"
     ]
    },
    {
     "name": "stdout",
     "output_type": "stream",
     "text": [
      "batch 1/5, train_loss: 0.8341\n",
      "batch 2/5, train_loss: 0.8066\n",
      "batch 3/5, train_loss: 0.8055\n",
      "batch 4/5, train_loss: 0.8144\n",
      "batch 5/5, train_loss: 0.8206\n",
      "epoch 25 average loss: 0.8162\n",
      "----------\n",
      "epoch 26/50\n"
     ]
    },
    {
     "name": "stderr",
     "output_type": "stream",
     "text": [
      "/home/max1024/venvs/ml/lib/python3.12/site-packages/monai/transforms/utils.py:743: UserWarning: no available indices of class 2 to crop, setting the crop ratio of this class to zero.\n",
      "  warnings.warn(\n",
      "/home/max1024/venvs/ml/lib/python3.12/site-packages/monai/transforms/utils.py:743: UserWarning: no available indices of class 7 to crop, setting the crop ratio of this class to zero.\n",
      "  warnings.warn(\n",
      "/home/max1024/venvs/ml/lib/python3.12/site-packages/monai/transforms/utils.py:743: UserWarning: no available indices of class 2 to crop, setting the crop ratio of this class to zero.\n",
      "  warnings.warn(\n",
      "/home/max1024/venvs/ml/lib/python3.12/site-packages/monai/transforms/utils.py:743: UserWarning: no available indices of class 7 to crop, setting the crop ratio of this class to zero.\n",
      "  warnings.warn(\n",
      "/home/max1024/venvs/ml/lib/python3.12/site-packages/monai/transforms/utils.py:743: UserWarning: no available indices of class 2 to crop, setting the crop ratio of this class to zero.\n",
      "  warnings.warn(\n",
      "/home/max1024/venvs/ml/lib/python3.12/site-packages/monai/transforms/utils.py:743: UserWarning: no available indices of class 7 to crop, setting the crop ratio of this class to zero.\n",
      "  warnings.warn(\n",
      "/home/max1024/venvs/ml/lib/python3.12/site-packages/monai/transforms/utils.py:743: UserWarning: no available indices of class 2 to crop, setting the crop ratio of this class to zero.\n",
      "  warnings.warn(\n",
      "/home/max1024/venvs/ml/lib/python3.12/site-packages/monai/transforms/utils.py:743: UserWarning: no available indices of class 7 to crop, setting the crop ratio of this class to zero.\n",
      "  warnings.warn(\n"
     ]
    },
    {
     "name": "stdout",
     "output_type": "stream",
     "text": [
      "batch 1/5, train_loss: 0.7994\n",
      "batch 2/5, train_loss: 0.7884\n",
      "batch 3/5, train_loss: 0.7965\n",
      "batch 4/5, train_loss: 0.8088\n",
      "batch 5/5, train_loss: 0.7655\n",
      "epoch 26 average loss: 0.7917\n"
     ]
    },
    {
     "name": "stderr",
     "output_type": "stream",
     "text": [
      "/home/max1024/venvs/ml/lib/python3.12/site-packages/monai/transforms/utils.py:743: UserWarning: no available indices of class 2 to crop, setting the crop ratio of this class to zero.\n",
      "  warnings.warn(\n",
      "/home/max1024/venvs/ml/lib/python3.12/site-packages/monai/transforms/utils.py:743: UserWarning: no available indices of class 7 to crop, setting the crop ratio of this class to zero.\n",
      "  warnings.warn(\n",
      "/home/max1024/venvs/ml/lib/python3.12/site-packages/monai/transforms/utils.py:743: UserWarning: no available indices of class 2 to crop, setting the crop ratio of this class to zero.\n",
      "  warnings.warn(\n",
      "/home/max1024/venvs/ml/lib/python3.12/site-packages/monai/transforms/utils.py:743: UserWarning: no available indices of class 7 to crop, setting the crop ratio of this class to zero.\n",
      "  warnings.warn(\n"
     ]
    },
    {
     "name": "stdout",
     "output_type": "stream",
     "text": [
      "current epoch: 26 current mean recall per class: 0.1059, 0, 0.09332, 0.5641, 0.1963, 0.373, 0\n",
      "best mean recall: 0.1974 at epoch: 24\n",
      "----------\n",
      "epoch 27/50\n"
     ]
    },
    {
     "name": "stderr",
     "output_type": "stream",
     "text": [
      "/home/max1024/venvs/ml/lib/python3.12/site-packages/monai/transforms/utils.py:743: UserWarning: no available indices of class 2 to crop, setting the crop ratio of this class to zero.\n",
      "  warnings.warn(\n",
      "/home/max1024/venvs/ml/lib/python3.12/site-packages/monai/transforms/utils.py:743: UserWarning: no available indices of class 7 to crop, setting the crop ratio of this class to zero.\n",
      "  warnings.warn(\n",
      "/home/max1024/venvs/ml/lib/python3.12/site-packages/monai/transforms/utils.py:743: UserWarning: no available indices of class 2 to crop, setting the crop ratio of this class to zero.\n",
      "  warnings.warn(\n",
      "/home/max1024/venvs/ml/lib/python3.12/site-packages/monai/transforms/utils.py:743: UserWarning: no available indices of class 7 to crop, setting the crop ratio of this class to zero.\n",
      "  warnings.warn(\n",
      "/home/max1024/venvs/ml/lib/python3.12/site-packages/monai/transforms/utils.py:743: UserWarning: no available indices of class 2 to crop, setting the crop ratio of this class to zero.\n",
      "  warnings.warn(\n",
      "/home/max1024/venvs/ml/lib/python3.12/site-packages/monai/transforms/utils.py:743: UserWarning: no available indices of class 7 to crop, setting the crop ratio of this class to zero.\n",
      "  warnings.warn(\n",
      "/home/max1024/venvs/ml/lib/python3.12/site-packages/monai/transforms/utils.py:743: UserWarning: no available indices of class 2 to crop, setting the crop ratio of this class to zero.\n",
      "  warnings.warn(\n",
      "/home/max1024/venvs/ml/lib/python3.12/site-packages/monai/transforms/utils.py:743: UserWarning: no available indices of class 7 to crop, setting the crop ratio of this class to zero.\n",
      "  warnings.warn(\n"
     ]
    },
    {
     "name": "stdout",
     "output_type": "stream",
     "text": [
      "batch 1/5, train_loss: 0.8140\n",
      "batch 2/5, train_loss: 0.8005\n",
      "batch 3/5, train_loss: 0.7896\n",
      "batch 4/5, train_loss: 0.8050\n",
      "batch 5/5, train_loss: 0.7880\n",
      "epoch 27 average loss: 0.7994\n",
      "----------\n",
      "epoch 28/50\n"
     ]
    },
    {
     "name": "stderr",
     "output_type": "stream",
     "text": [
      "/home/max1024/venvs/ml/lib/python3.12/site-packages/monai/transforms/utils.py:743: UserWarning: no available indices of class 2 to crop, setting the crop ratio of this class to zero.\n",
      "  warnings.warn(\n",
      "/home/max1024/venvs/ml/lib/python3.12/site-packages/monai/transforms/utils.py:743: UserWarning: no available indices of class 7 to crop, setting the crop ratio of this class to zero.\n",
      "  warnings.warn(\n",
      "/home/max1024/venvs/ml/lib/python3.12/site-packages/monai/transforms/utils.py:743: UserWarning: no available indices of class 2 to crop, setting the crop ratio of this class to zero.\n",
      "  warnings.warn(\n",
      "/home/max1024/venvs/ml/lib/python3.12/site-packages/monai/transforms/utils.py:743: UserWarning: no available indices of class 7 to crop, setting the crop ratio of this class to zero.\n",
      "  warnings.warn(\n",
      "/home/max1024/venvs/ml/lib/python3.12/site-packages/monai/transforms/utils.py:743: UserWarning: no available indices of class 2 to crop, setting the crop ratio of this class to zero.\n",
      "  warnings.warn(\n",
      "/home/max1024/venvs/ml/lib/python3.12/site-packages/monai/transforms/utils.py:743: UserWarning: no available indices of class 7 to crop, setting the crop ratio of this class to zero.\n",
      "  warnings.warn(\n",
      "/home/max1024/venvs/ml/lib/python3.12/site-packages/monai/transforms/utils.py:743: UserWarning: no available indices of class 2 to crop, setting the crop ratio of this class to zero.\n",
      "  warnings.warn(\n",
      "/home/max1024/venvs/ml/lib/python3.12/site-packages/monai/transforms/utils.py:743: UserWarning: no available indices of class 7 to crop, setting the crop ratio of this class to zero.\n",
      "  warnings.warn(\n"
     ]
    },
    {
     "name": "stdout",
     "output_type": "stream",
     "text": [
      "batch 1/5, train_loss: 0.7753\n",
      "batch 2/5, train_loss: 0.7764\n",
      "batch 3/5, train_loss: 0.7985\n",
      "batch 4/5, train_loss: 0.7951\n",
      "batch 5/5, train_loss: 0.7950\n",
      "epoch 28 average loss: 0.7881\n"
     ]
    },
    {
     "name": "stderr",
     "output_type": "stream",
     "text": [
      "/home/max1024/venvs/ml/lib/python3.12/site-packages/monai/transforms/utils.py:743: UserWarning: no available indices of class 2 to crop, setting the crop ratio of this class to zero.\n",
      "  warnings.warn(\n",
      "/home/max1024/venvs/ml/lib/python3.12/site-packages/monai/transforms/utils.py:743: UserWarning: no available indices of class 7 to crop, setting the crop ratio of this class to zero.\n",
      "  warnings.warn(\n",
      "/home/max1024/venvs/ml/lib/python3.12/site-packages/monai/transforms/utils.py:743: UserWarning: no available indices of class 2 to crop, setting the crop ratio of this class to zero.\n",
      "  warnings.warn(\n",
      "/home/max1024/venvs/ml/lib/python3.12/site-packages/monai/transforms/utils.py:743: UserWarning: no available indices of class 7 to crop, setting the crop ratio of this class to zero.\n",
      "  warnings.warn(\n"
     ]
    },
    {
     "name": "stdout",
     "output_type": "stream",
     "text": [
      "current epoch: 28 current mean recall per class: 0.1041, 0, 0.1205, 0.5174, 0.2398, 0.3685, 0\n",
      "best mean recall: 0.1974 at epoch: 24\n",
      "----------\n",
      "epoch 29/50\n"
     ]
    },
    {
     "name": "stderr",
     "output_type": "stream",
     "text": [
      "/home/max1024/venvs/ml/lib/python3.12/site-packages/monai/transforms/utils.py:743: UserWarning: no available indices of class 2 to crop, setting the crop ratio of this class to zero.\n",
      "  warnings.warn(\n",
      "/home/max1024/venvs/ml/lib/python3.12/site-packages/monai/transforms/utils.py:743: UserWarning: no available indices of class 2 to crop, setting the crop ratio of this class to zero.\n",
      "  warnings.warn(\n",
      "/home/max1024/venvs/ml/lib/python3.12/site-packages/monai/transforms/utils.py:743: UserWarning: no available indices of class 7 to crop, setting the crop ratio of this class to zero.\n",
      "  warnings.warn(\n",
      "/home/max1024/venvs/ml/lib/python3.12/site-packages/monai/transforms/utils.py:743: UserWarning: no available indices of class 7 to crop, setting the crop ratio of this class to zero.\n",
      "  warnings.warn(\n",
      "/home/max1024/venvs/ml/lib/python3.12/site-packages/monai/transforms/utils.py:743: UserWarning: no available indices of class 2 to crop, setting the crop ratio of this class to zero.\n",
      "  warnings.warn(\n",
      "/home/max1024/venvs/ml/lib/python3.12/site-packages/monai/transforms/utils.py:743: UserWarning: no available indices of class 2 to crop, setting the crop ratio of this class to zero.\n",
      "  warnings.warn(\n",
      "/home/max1024/venvs/ml/lib/python3.12/site-packages/monai/transforms/utils.py:743: UserWarning: no available indices of class 7 to crop, setting the crop ratio of this class to zero.\n",
      "  warnings.warn(\n",
      "/home/max1024/venvs/ml/lib/python3.12/site-packages/monai/transforms/utils.py:743: UserWarning: no available indices of class 7 to crop, setting the crop ratio of this class to zero.\n",
      "  warnings.warn(\n"
     ]
    },
    {
     "name": "stdout",
     "output_type": "stream",
     "text": [
      "batch 1/5, train_loss: 0.7967\n",
      "batch 2/5, train_loss: 0.7893\n",
      "batch 3/5, train_loss: 0.7648\n",
      "batch 4/5, train_loss: 0.7918\n",
      "batch 5/5, train_loss: 0.7747\n",
      "epoch 29 average loss: 0.7835\n",
      "----------\n",
      "epoch 30/50\n"
     ]
    },
    {
     "name": "stderr",
     "output_type": "stream",
     "text": [
      "/home/max1024/venvs/ml/lib/python3.12/site-packages/monai/transforms/utils.py:743: UserWarning: no available indices of class 2 to crop, setting the crop ratio of this class to zero.\n",
      "  warnings.warn(\n",
      "/home/max1024/venvs/ml/lib/python3.12/site-packages/monai/transforms/utils.py:743: UserWarning: no available indices of class 7 to crop, setting the crop ratio of this class to zero.\n",
      "  warnings.warn(\n",
      "/home/max1024/venvs/ml/lib/python3.12/site-packages/monai/transforms/utils.py:743: UserWarning: no available indices of class 2 to crop, setting the crop ratio of this class to zero.\n",
      "  warnings.warn(\n",
      "/home/max1024/venvs/ml/lib/python3.12/site-packages/monai/transforms/utils.py:743: UserWarning: no available indices of class 7 to crop, setting the crop ratio of this class to zero.\n",
      "  warnings.warn(\n",
      "/home/max1024/venvs/ml/lib/python3.12/site-packages/monai/transforms/utils.py:743: UserWarning: no available indices of class 2 to crop, setting the crop ratio of this class to zero.\n",
      "  warnings.warn(\n",
      "/home/max1024/venvs/ml/lib/python3.12/site-packages/monai/transforms/utils.py:743: UserWarning: no available indices of class 7 to crop, setting the crop ratio of this class to zero.\n",
      "  warnings.warn(\n",
      "/home/max1024/venvs/ml/lib/python3.12/site-packages/monai/transforms/utils.py:743: UserWarning: no available indices of class 2 to crop, setting the crop ratio of this class to zero.\n",
      "  warnings.warn(\n",
      "/home/max1024/venvs/ml/lib/python3.12/site-packages/monai/transforms/utils.py:743: UserWarning: no available indices of class 7 to crop, setting the crop ratio of this class to zero.\n",
      "  warnings.warn(\n"
     ]
    },
    {
     "name": "stdout",
     "output_type": "stream",
     "text": [
      "batch 1/5, train_loss: 0.7960\n",
      "batch 2/5, train_loss: 0.7607\n",
      "batch 3/5, train_loss: 0.7802\n",
      "batch 4/5, train_loss: 0.7979\n",
      "batch 5/5, train_loss: 0.7562\n",
      "epoch 30 average loss: 0.7782\n"
     ]
    },
    {
     "name": "stderr",
     "output_type": "stream",
     "text": [
      "/home/max1024/venvs/ml/lib/python3.12/site-packages/monai/transforms/utils.py:743: UserWarning: no available indices of class 2 to crop, setting the crop ratio of this class to zero.\n",
      "  warnings.warn(\n",
      "/home/max1024/venvs/ml/lib/python3.12/site-packages/monai/transforms/utils.py:743: UserWarning: no available indices of class 2 to crop, setting the crop ratio of this class to zero.\n",
      "  warnings.warn(\n",
      "/home/max1024/venvs/ml/lib/python3.12/site-packages/monai/transforms/utils.py:743: UserWarning: no available indices of class 7 to crop, setting the crop ratio of this class to zero.\n",
      "  warnings.warn(\n",
      "/home/max1024/venvs/ml/lib/python3.12/site-packages/monai/transforms/utils.py:743: UserWarning: no available indices of class 7 to crop, setting the crop ratio of this class to zero.\n",
      "  warnings.warn(\n"
     ]
    },
    {
     "name": "stdout",
     "output_type": "stream",
     "text": [
      "saved new best metric model\n",
      "current epoch: 30 current mean recall per class: 0.1465, 0, 0.1034, 0.5045, 0.2222, 0.5109, 0\n",
      "best mean recall: 0.2125 at epoch: 30\n",
      "----------\n",
      "epoch 31/50\n"
     ]
    },
    {
     "name": "stderr",
     "output_type": "stream",
     "text": [
      "/home/max1024/venvs/ml/lib/python3.12/site-packages/monai/transforms/utils.py:743: UserWarning: no available indices of class 2 to crop, setting the crop ratio of this class to zero.\n",
      "  warnings.warn(\n",
      "/home/max1024/venvs/ml/lib/python3.12/site-packages/monai/transforms/utils.py:743: UserWarning: no available indices of class 7 to crop, setting the crop ratio of this class to zero.\n",
      "  warnings.warn(\n",
      "/home/max1024/venvs/ml/lib/python3.12/site-packages/monai/transforms/utils.py:743: UserWarning: no available indices of class 2 to crop, setting the crop ratio of this class to zero.\n",
      "  warnings.warn(\n",
      "/home/max1024/venvs/ml/lib/python3.12/site-packages/monai/transforms/utils.py:743: UserWarning: no available indices of class 2 to crop, setting the crop ratio of this class to zero.\n",
      "  warnings.warn(\n",
      "/home/max1024/venvs/ml/lib/python3.12/site-packages/monai/transforms/utils.py:743: UserWarning: no available indices of class 7 to crop, setting the crop ratio of this class to zero.\n",
      "  warnings.warn(\n",
      "/home/max1024/venvs/ml/lib/python3.12/site-packages/monai/transforms/utils.py:743: UserWarning: no available indices of class 7 to crop, setting the crop ratio of this class to zero.\n",
      "  warnings.warn(\n",
      "/home/max1024/venvs/ml/lib/python3.12/site-packages/monai/transforms/utils.py:743: UserWarning: no available indices of class 2 to crop, setting the crop ratio of this class to zero.\n",
      "  warnings.warn(\n",
      "/home/max1024/venvs/ml/lib/python3.12/site-packages/monai/transforms/utils.py:743: UserWarning: no available indices of class 7 to crop, setting the crop ratio of this class to zero.\n",
      "  warnings.warn(\n"
     ]
    },
    {
     "name": "stdout",
     "output_type": "stream",
     "text": [
      "batch 1/5, train_loss: 0.7877\n",
      "batch 2/5, train_loss: 0.7856\n",
      "batch 3/5, train_loss: 0.7636\n",
      "batch 4/5, train_loss: 0.7907\n",
      "batch 5/5, train_loss: 0.7815\n",
      "epoch 31 average loss: 0.7818\n",
      "----------\n",
      "epoch 32/50\n"
     ]
    },
    {
     "name": "stderr",
     "output_type": "stream",
     "text": [
      "/home/max1024/venvs/ml/lib/python3.12/site-packages/monai/transforms/utils.py:743: UserWarning: no available indices of class 2 to crop, setting the crop ratio of this class to zero.\n",
      "  warnings.warn(\n",
      "/home/max1024/venvs/ml/lib/python3.12/site-packages/monai/transforms/utils.py:743: UserWarning: no available indices of class 7 to crop, setting the crop ratio of this class to zero.\n",
      "  warnings.warn(\n",
      "/home/max1024/venvs/ml/lib/python3.12/site-packages/monai/transforms/utils.py:743: UserWarning: no available indices of class 2 to crop, setting the crop ratio of this class to zero.\n",
      "  warnings.warn(\n",
      "/home/max1024/venvs/ml/lib/python3.12/site-packages/monai/transforms/utils.py:743: UserWarning: no available indices of class 7 to crop, setting the crop ratio of this class to zero.\n",
      "  warnings.warn(\n",
      "/home/max1024/venvs/ml/lib/python3.12/site-packages/monai/transforms/utils.py:743: UserWarning: no available indices of class 2 to crop, setting the crop ratio of this class to zero.\n",
      "  warnings.warn(\n",
      "/home/max1024/venvs/ml/lib/python3.12/site-packages/monai/transforms/utils.py:743: UserWarning: no available indices of class 7 to crop, setting the crop ratio of this class to zero.\n",
      "  warnings.warn(\n",
      "/home/max1024/venvs/ml/lib/python3.12/site-packages/monai/transforms/utils.py:743: UserWarning: no available indices of class 2 to crop, setting the crop ratio of this class to zero.\n",
      "  warnings.warn(\n",
      "/home/max1024/venvs/ml/lib/python3.12/site-packages/monai/transforms/utils.py:743: UserWarning: no available indices of class 7 to crop, setting the crop ratio of this class to zero.\n",
      "  warnings.warn(\n"
     ]
    },
    {
     "name": "stdout",
     "output_type": "stream",
     "text": [
      "batch 1/5, train_loss: 0.7597\n",
      "batch 2/5, train_loss: 0.7799\n",
      "batch 3/5, train_loss: 0.7807\n",
      "batch 4/5, train_loss: 0.7687\n",
      "batch 5/5, train_loss: 0.7960\n",
      "epoch 32 average loss: 0.7770\n"
     ]
    },
    {
     "name": "stderr",
     "output_type": "stream",
     "text": [
      "/home/max1024/venvs/ml/lib/python3.12/site-packages/monai/transforms/utils.py:743: UserWarning: no available indices of class 2 to crop, setting the crop ratio of this class to zero.\n",
      "  warnings.warn(\n",
      "/home/max1024/venvs/ml/lib/python3.12/site-packages/monai/transforms/utils.py:743: UserWarning: no available indices of class 7 to crop, setting the crop ratio of this class to zero.\n",
      "  warnings.warn(\n",
      "/home/max1024/venvs/ml/lib/python3.12/site-packages/monai/transforms/utils.py:743: UserWarning: no available indices of class 2 to crop, setting the crop ratio of this class to zero.\n",
      "  warnings.warn(\n",
      "/home/max1024/venvs/ml/lib/python3.12/site-packages/monai/transforms/utils.py:743: UserWarning: no available indices of class 7 to crop, setting the crop ratio of this class to zero.\n",
      "  warnings.warn(\n"
     ]
    },
    {
     "name": "stdout",
     "output_type": "stream",
     "text": [
      "saved new best metric model\n",
      "current epoch: 32 current mean recall per class: 0.1406, 0, 0.03978, 0.5882, 0.2137, 0.5339, 0\n",
      "best mean recall: 0.2166 at epoch: 32\n",
      "----------\n",
      "epoch 33/50\n"
     ]
    },
    {
     "name": "stderr",
     "output_type": "stream",
     "text": [
      "/home/max1024/venvs/ml/lib/python3.12/site-packages/monai/transforms/utils.py:743: UserWarning: no available indices of class 2 to crop, setting the crop ratio of this class to zero.\n",
      "  warnings.warn(\n",
      "/home/max1024/venvs/ml/lib/python3.12/site-packages/monai/transforms/utils.py:743: UserWarning: no available indices of class 7 to crop, setting the crop ratio of this class to zero.\n",
      "  warnings.warn(\n",
      "/home/max1024/venvs/ml/lib/python3.12/site-packages/monai/transforms/utils.py:743: UserWarning: no available indices of class 2 to crop, setting the crop ratio of this class to zero.\n",
      "  warnings.warn(\n",
      "/home/max1024/venvs/ml/lib/python3.12/site-packages/monai/transforms/utils.py:743: UserWarning: no available indices of class 7 to crop, setting the crop ratio of this class to zero.\n",
      "  warnings.warn(\n",
      "/home/max1024/venvs/ml/lib/python3.12/site-packages/monai/transforms/utils.py:743: UserWarning: no available indices of class 2 to crop, setting the crop ratio of this class to zero.\n",
      "  warnings.warn(\n",
      "/home/max1024/venvs/ml/lib/python3.12/site-packages/monai/transforms/utils.py:743: UserWarning: no available indices of class 7 to crop, setting the crop ratio of this class to zero.\n",
      "  warnings.warn(\n",
      "/home/max1024/venvs/ml/lib/python3.12/site-packages/monai/transforms/utils.py:743: UserWarning: no available indices of class 2 to crop, setting the crop ratio of this class to zero.\n",
      "  warnings.warn(\n",
      "/home/max1024/venvs/ml/lib/python3.12/site-packages/monai/transforms/utils.py:743: UserWarning: no available indices of class 7 to crop, setting the crop ratio of this class to zero.\n",
      "  warnings.warn(\n"
     ]
    },
    {
     "name": "stdout",
     "output_type": "stream",
     "text": [
      "batch 1/5, train_loss: 0.8094\n",
      "batch 2/5, train_loss: 0.7667\n",
      "batch 3/5, train_loss: 0.7787\n",
      "batch 4/5, train_loss: 0.7821\n",
      "batch 5/5, train_loss: 0.7754\n",
      "epoch 33 average loss: 0.7825\n",
      "----------\n",
      "epoch 34/50\n"
     ]
    },
    {
     "name": "stderr",
     "output_type": "stream",
     "text": [
      "/home/max1024/venvs/ml/lib/python3.12/site-packages/monai/transforms/utils.py:743: UserWarning: no available indices of class 2 to crop, setting the crop ratio of this class to zero.\n",
      "  warnings.warn(\n",
      "/home/max1024/venvs/ml/lib/python3.12/site-packages/monai/transforms/utils.py:743: UserWarning: no available indices of class 7 to crop, setting the crop ratio of this class to zero.\n",
      "  warnings.warn(\n",
      "/home/max1024/venvs/ml/lib/python3.12/site-packages/monai/transforms/utils.py:743: UserWarning: no available indices of class 2 to crop, setting the crop ratio of this class to zero.\n",
      "  warnings.warn(\n",
      "/home/max1024/venvs/ml/lib/python3.12/site-packages/monai/transforms/utils.py:743: UserWarning: no available indices of class 7 to crop, setting the crop ratio of this class to zero.\n",
      "  warnings.warn(\n",
      "/home/max1024/venvs/ml/lib/python3.12/site-packages/monai/transforms/utils.py:743: UserWarning: no available indices of class 2 to crop, setting the crop ratio of this class to zero.\n",
      "  warnings.warn(\n",
      "/home/max1024/venvs/ml/lib/python3.12/site-packages/monai/transforms/utils.py:743: UserWarning: no available indices of class 7 to crop, setting the crop ratio of this class to zero.\n",
      "  warnings.warn(\n",
      "/home/max1024/venvs/ml/lib/python3.12/site-packages/monai/transforms/utils.py:743: UserWarning: no available indices of class 2 to crop, setting the crop ratio of this class to zero.\n",
      "  warnings.warn(\n",
      "/home/max1024/venvs/ml/lib/python3.12/site-packages/monai/transforms/utils.py:743: UserWarning: no available indices of class 7 to crop, setting the crop ratio of this class to zero.\n",
      "  warnings.warn(\n"
     ]
    },
    {
     "name": "stdout",
     "output_type": "stream",
     "text": [
      "batch 1/5, train_loss: 0.7743\n",
      "batch 2/5, train_loss: 0.8026\n",
      "batch 3/5, train_loss: 0.7650\n",
      "batch 4/5, train_loss: 0.7865\n",
      "batch 5/5, train_loss: 0.7849\n",
      "epoch 34 average loss: 0.7827\n"
     ]
    },
    {
     "name": "stderr",
     "output_type": "stream",
     "text": [
      "/home/max1024/venvs/ml/lib/python3.12/site-packages/monai/transforms/utils.py:743: UserWarning: no available indices of class 2 to crop, setting the crop ratio of this class to zero.\n",
      "  warnings.warn(\n",
      "/home/max1024/venvs/ml/lib/python3.12/site-packages/monai/transforms/utils.py:743: UserWarning: no available indices of class 7 to crop, setting the crop ratio of this class to zero.\n",
      "  warnings.warn(\n",
      "/home/max1024/venvs/ml/lib/python3.12/site-packages/monai/transforms/utils.py:743: UserWarning: no available indices of class 2 to crop, setting the crop ratio of this class to zero.\n",
      "  warnings.warn(\n",
      "/home/max1024/venvs/ml/lib/python3.12/site-packages/monai/transforms/utils.py:743: UserWarning: no available indices of class 7 to crop, setting the crop ratio of this class to zero.\n",
      "  warnings.warn(\n"
     ]
    },
    {
     "name": "stdout",
     "output_type": "stream",
     "text": [
      "saved new best metric model\n",
      "current epoch: 34 current mean recall per class: 0.1215, 0, 0.1305, 0.4768, 0.2248, 0.5871, 0\n",
      "best mean recall: 0.2201 at epoch: 34\n",
      "----------\n",
      "epoch 35/50\n"
     ]
    },
    {
     "name": "stderr",
     "output_type": "stream",
     "text": [
      "/home/max1024/venvs/ml/lib/python3.12/site-packages/monai/transforms/utils.py:743: UserWarning: no available indices of class 2 to crop, setting the crop ratio of this class to zero.\n",
      "  warnings.warn(\n",
      "/home/max1024/venvs/ml/lib/python3.12/site-packages/monai/transforms/utils.py:743: UserWarning: no available indices of class 7 to crop, setting the crop ratio of this class to zero.\n",
      "  warnings.warn(\n",
      "/home/max1024/venvs/ml/lib/python3.12/site-packages/monai/transforms/utils.py:743: UserWarning: no available indices of class 2 to crop, setting the crop ratio of this class to zero.\n",
      "  warnings.warn(\n",
      "/home/max1024/venvs/ml/lib/python3.12/site-packages/monai/transforms/utils.py:743: UserWarning: no available indices of class 2 to crop, setting the crop ratio of this class to zero.\n",
      "  warnings.warn(\n",
      "/home/max1024/venvs/ml/lib/python3.12/site-packages/monai/transforms/utils.py:743: UserWarning: no available indices of class 7 to crop, setting the crop ratio of this class to zero.\n",
      "  warnings.warn(\n",
      "/home/max1024/venvs/ml/lib/python3.12/site-packages/monai/transforms/utils.py:743: UserWarning: no available indices of class 2 to crop, setting the crop ratio of this class to zero.\n",
      "  warnings.warn(\n",
      "/home/max1024/venvs/ml/lib/python3.12/site-packages/monai/transforms/utils.py:743: UserWarning: no available indices of class 7 to crop, setting the crop ratio of this class to zero.\n",
      "  warnings.warn(\n",
      "/home/max1024/venvs/ml/lib/python3.12/site-packages/monai/transforms/utils.py:743: UserWarning: no available indices of class 7 to crop, setting the crop ratio of this class to zero.\n",
      "  warnings.warn(\n"
     ]
    },
    {
     "name": "stdout",
     "output_type": "stream",
     "text": [
      "batch 1/5, train_loss: 0.7772\n",
      "batch 2/5, train_loss: 0.7722\n",
      "batch 3/5, train_loss: 0.7969\n",
      "batch 4/5, train_loss: 0.7950\n",
      "batch 5/5, train_loss: 0.7579\n",
      "epoch 35 average loss: 0.7798\n",
      "----------\n",
      "epoch 36/50\n"
     ]
    },
    {
     "name": "stderr",
     "output_type": "stream",
     "text": [
      "/home/max1024/venvs/ml/lib/python3.12/site-packages/monai/transforms/utils.py:743: UserWarning: no available indices of class 2 to crop, setting the crop ratio of this class to zero.\n",
      "  warnings.warn(\n",
      "/home/max1024/venvs/ml/lib/python3.12/site-packages/monai/transforms/utils.py:743: UserWarning: no available indices of class 7 to crop, setting the crop ratio of this class to zero.\n",
      "  warnings.warn(\n",
      "/home/max1024/venvs/ml/lib/python3.12/site-packages/monai/transforms/utils.py:743: UserWarning: no available indices of class 2 to crop, setting the crop ratio of this class to zero.\n",
      "  warnings.warn(\n",
      "/home/max1024/venvs/ml/lib/python3.12/site-packages/monai/transforms/utils.py:743: UserWarning: no available indices of class 2 to crop, setting the crop ratio of this class to zero.\n",
      "  warnings.warn(\n",
      "/home/max1024/venvs/ml/lib/python3.12/site-packages/monai/transforms/utils.py:743: UserWarning: no available indices of class 2 to crop, setting the crop ratio of this class to zero.\n",
      "  warnings.warn(\n",
      "/home/max1024/venvs/ml/lib/python3.12/site-packages/monai/transforms/utils.py:743: UserWarning: no available indices of class 7 to crop, setting the crop ratio of this class to zero.\n",
      "  warnings.warn(\n",
      "/home/max1024/venvs/ml/lib/python3.12/site-packages/monai/transforms/utils.py:743: UserWarning: no available indices of class 7 to crop, setting the crop ratio of this class to zero.\n",
      "  warnings.warn(\n",
      "/home/max1024/venvs/ml/lib/python3.12/site-packages/monai/transforms/utils.py:743: UserWarning: no available indices of class 7 to crop, setting the crop ratio of this class to zero.\n",
      "  warnings.warn(\n"
     ]
    },
    {
     "name": "stdout",
     "output_type": "stream",
     "text": [
      "batch 1/5, train_loss: 0.7482\n",
      "batch 2/5, train_loss: 0.7761\n",
      "batch 3/5, train_loss: 0.7892\n",
      "batch 4/5, train_loss: 0.7609\n",
      "batch 5/5, train_loss: 0.7853\n",
      "epoch 36 average loss: 0.7719\n"
     ]
    },
    {
     "name": "stderr",
     "output_type": "stream",
     "text": [
      "/home/max1024/venvs/ml/lib/python3.12/site-packages/monai/transforms/utils.py:743: UserWarning: no available indices of class 2 to crop, setting the crop ratio of this class to zero.\n",
      "  warnings.warn(\n",
      "/home/max1024/venvs/ml/lib/python3.12/site-packages/monai/transforms/utils.py:743: UserWarning: no available indices of class 7 to crop, setting the crop ratio of this class to zero.\n",
      "  warnings.warn(\n",
      "/home/max1024/venvs/ml/lib/python3.12/site-packages/monai/transforms/utils.py:743: UserWarning: no available indices of class 2 to crop, setting the crop ratio of this class to zero.\n",
      "  warnings.warn(\n",
      "/home/max1024/venvs/ml/lib/python3.12/site-packages/monai/transforms/utils.py:743: UserWarning: no available indices of class 7 to crop, setting the crop ratio of this class to zero.\n",
      "  warnings.warn(\n"
     ]
    },
    {
     "name": "stdout",
     "output_type": "stream",
     "text": [
      "saved new best metric model\n",
      "current epoch: 36 current mean recall per class: 0.2021, 0, 0.1322, 0.5554, 0.1748, 0.4968, 0\n",
      "best mean recall: 0.2230 at epoch: 36\n",
      "----------\n",
      "epoch 37/50\n"
     ]
    },
    {
     "name": "stderr",
     "output_type": "stream",
     "text": [
      "/home/max1024/venvs/ml/lib/python3.12/site-packages/monai/transforms/utils.py:743: UserWarning: no available indices of class 2 to crop, setting the crop ratio of this class to zero.\n",
      "  warnings.warn(\n",
      "/home/max1024/venvs/ml/lib/python3.12/site-packages/monai/transforms/utils.py:743: UserWarning: no available indices of class 7 to crop, setting the crop ratio of this class to zero.\n",
      "  warnings.warn(\n",
      "/home/max1024/venvs/ml/lib/python3.12/site-packages/monai/transforms/utils.py:743: UserWarning: no available indices of class 2 to crop, setting the crop ratio of this class to zero.\n",
      "  warnings.warn(\n",
      "/home/max1024/venvs/ml/lib/python3.12/site-packages/monai/transforms/utils.py:743: UserWarning: no available indices of class 7 to crop, setting the crop ratio of this class to zero.\n",
      "  warnings.warn(\n",
      "/home/max1024/venvs/ml/lib/python3.12/site-packages/monai/transforms/utils.py:743: UserWarning: no available indices of class 2 to crop, setting the crop ratio of this class to zero.\n",
      "  warnings.warn(\n",
      "/home/max1024/venvs/ml/lib/python3.12/site-packages/monai/transforms/utils.py:743: UserWarning: no available indices of class 7 to crop, setting the crop ratio of this class to zero.\n",
      "  warnings.warn(\n",
      "/home/max1024/venvs/ml/lib/python3.12/site-packages/monai/transforms/utils.py:743: UserWarning: no available indices of class 2 to crop, setting the crop ratio of this class to zero.\n",
      "  warnings.warn(\n",
      "/home/max1024/venvs/ml/lib/python3.12/site-packages/monai/transforms/utils.py:743: UserWarning: no available indices of class 7 to crop, setting the crop ratio of this class to zero.\n",
      "  warnings.warn(\n"
     ]
    },
    {
     "name": "stdout",
     "output_type": "stream",
     "text": [
      "batch 1/5, train_loss: 0.7510\n",
      "batch 2/5, train_loss: 0.7631\n",
      "batch 3/5, train_loss: 0.7942\n",
      "batch 4/5, train_loss: 0.7417\n",
      "batch 5/5, train_loss: 0.7836\n",
      "epoch 37 average loss: 0.7667\n",
      "----------\n",
      "epoch 38/50\n"
     ]
    },
    {
     "name": "stderr",
     "output_type": "stream",
     "text": [
      "/home/max1024/venvs/ml/lib/python3.12/site-packages/monai/transforms/utils.py:743: UserWarning: no available indices of class 2 to crop, setting the crop ratio of this class to zero.\n",
      "  warnings.warn(\n",
      "/home/max1024/venvs/ml/lib/python3.12/site-packages/monai/transforms/utils.py:743: UserWarning: no available indices of class 7 to crop, setting the crop ratio of this class to zero.\n",
      "  warnings.warn(\n",
      "/home/max1024/venvs/ml/lib/python3.12/site-packages/monai/transforms/utils.py:743: UserWarning: no available indices of class 2 to crop, setting the crop ratio of this class to zero.\n",
      "  warnings.warn(\n",
      "/home/max1024/venvs/ml/lib/python3.12/site-packages/monai/transforms/utils.py:743: UserWarning: no available indices of class 7 to crop, setting the crop ratio of this class to zero.\n",
      "  warnings.warn(\n",
      "/home/max1024/venvs/ml/lib/python3.12/site-packages/monai/transforms/utils.py:743: UserWarning: no available indices of class 2 to crop, setting the crop ratio of this class to zero.\n",
      "  warnings.warn(\n",
      "/home/max1024/venvs/ml/lib/python3.12/site-packages/monai/transforms/utils.py:743: UserWarning: no available indices of class 7 to crop, setting the crop ratio of this class to zero.\n",
      "  warnings.warn(\n",
      "/home/max1024/venvs/ml/lib/python3.12/site-packages/monai/transforms/utils.py:743: UserWarning: no available indices of class 2 to crop, setting the crop ratio of this class to zero.\n",
      "  warnings.warn(\n",
      "/home/max1024/venvs/ml/lib/python3.12/site-packages/monai/transforms/utils.py:743: UserWarning: no available indices of class 7 to crop, setting the crop ratio of this class to zero.\n",
      "  warnings.warn(\n"
     ]
    },
    {
     "name": "stdout",
     "output_type": "stream",
     "text": [
      "batch 1/5, train_loss: 0.7747\n",
      "batch 2/5, train_loss: 0.7817\n",
      "batch 3/5, train_loss: 0.7810\n",
      "batch 4/5, train_loss: 0.7526\n",
      "batch 5/5, train_loss: 0.7856\n",
      "epoch 38 average loss: 0.7751\n"
     ]
    },
    {
     "name": "stderr",
     "output_type": "stream",
     "text": [
      "/home/max1024/venvs/ml/lib/python3.12/site-packages/monai/transforms/utils.py:743: UserWarning: no available indices of class 2 to crop, setting the crop ratio of this class to zero.\n",
      "  warnings.warn(\n",
      "/home/max1024/venvs/ml/lib/python3.12/site-packages/monai/transforms/utils.py:743: UserWarning: no available indices of class 7 to crop, setting the crop ratio of this class to zero.\n",
      "  warnings.warn(\n",
      "/home/max1024/venvs/ml/lib/python3.12/site-packages/monai/transforms/utils.py:743: UserWarning: no available indices of class 2 to crop, setting the crop ratio of this class to zero.\n",
      "  warnings.warn(\n",
      "/home/max1024/venvs/ml/lib/python3.12/site-packages/monai/transforms/utils.py:743: UserWarning: no available indices of class 7 to crop, setting the crop ratio of this class to zero.\n",
      "  warnings.warn(\n"
     ]
    },
    {
     "name": "stdout",
     "output_type": "stream",
     "text": [
      "saved new best metric model\n",
      "current epoch: 38 current mean recall per class: 0.1804, 0, 0.1562, 0.6315, 0.2715, 0.613, 0\n",
      "best mean recall: 0.2647 at epoch: 38\n",
      "----------\n",
      "epoch 39/50\n"
     ]
    },
    {
     "name": "stderr",
     "output_type": "stream",
     "text": [
      "/home/max1024/venvs/ml/lib/python3.12/site-packages/monai/transforms/utils.py:743: UserWarning: no available indices of class 2 to crop, setting the crop ratio of this class to zero.\n",
      "  warnings.warn(\n",
      "/home/max1024/venvs/ml/lib/python3.12/site-packages/monai/transforms/utils.py:743: UserWarning: no available indices of class 7 to crop, setting the crop ratio of this class to zero.\n",
      "  warnings.warn(\n",
      "/home/max1024/venvs/ml/lib/python3.12/site-packages/monai/transforms/utils.py:743: UserWarning: no available indices of class 2 to crop, setting the crop ratio of this class to zero.\n",
      "  warnings.warn(\n",
      "/home/max1024/venvs/ml/lib/python3.12/site-packages/monai/transforms/utils.py:743: UserWarning: no available indices of class 2 to crop, setting the crop ratio of this class to zero.\n",
      "  warnings.warn(\n",
      "/home/max1024/venvs/ml/lib/python3.12/site-packages/monai/transforms/utils.py:743: UserWarning: no available indices of class 7 to crop, setting the crop ratio of this class to zero.\n",
      "  warnings.warn(\n",
      "/home/max1024/venvs/ml/lib/python3.12/site-packages/monai/transforms/utils.py:743: UserWarning: no available indices of class 7 to crop, setting the crop ratio of this class to zero.\n",
      "  warnings.warn(\n",
      "/home/max1024/venvs/ml/lib/python3.12/site-packages/monai/transforms/utils.py:743: UserWarning: no available indices of class 2 to crop, setting the crop ratio of this class to zero.\n",
      "  warnings.warn(\n",
      "/home/max1024/venvs/ml/lib/python3.12/site-packages/monai/transforms/utils.py:743: UserWarning: no available indices of class 7 to crop, setting the crop ratio of this class to zero.\n",
      "  warnings.warn(\n"
     ]
    },
    {
     "name": "stdout",
     "output_type": "stream",
     "text": [
      "batch 1/5, train_loss: 0.7801\n",
      "batch 2/5, train_loss: 0.7605\n",
      "batch 3/5, train_loss: 0.7818\n",
      "batch 4/5, train_loss: 0.7752\n",
      "batch 5/5, train_loss: 0.8044\n",
      "epoch 39 average loss: 0.7804\n",
      "----------\n",
      "epoch 40/50\n"
     ]
    },
    {
     "name": "stderr",
     "output_type": "stream",
     "text": [
      "/home/max1024/venvs/ml/lib/python3.12/site-packages/monai/transforms/utils.py:743: UserWarning: no available indices of class 2 to crop, setting the crop ratio of this class to zero.\n",
      "  warnings.warn(\n",
      "/home/max1024/venvs/ml/lib/python3.12/site-packages/monai/transforms/utils.py:743: UserWarning: no available indices of class 7 to crop, setting the crop ratio of this class to zero.\n",
      "  warnings.warn(\n",
      "/home/max1024/venvs/ml/lib/python3.12/site-packages/monai/transforms/utils.py:743: UserWarning: no available indices of class 2 to crop, setting the crop ratio of this class to zero.\n",
      "  warnings.warn(\n",
      "/home/max1024/venvs/ml/lib/python3.12/site-packages/monai/transforms/utils.py:743: UserWarning: no available indices of class 7 to crop, setting the crop ratio of this class to zero.\n",
      "  warnings.warn(\n",
      "/home/max1024/venvs/ml/lib/python3.12/site-packages/monai/transforms/utils.py:743: UserWarning: no available indices of class 2 to crop, setting the crop ratio of this class to zero.\n",
      "  warnings.warn(\n",
      "/home/max1024/venvs/ml/lib/python3.12/site-packages/monai/transforms/utils.py:743: UserWarning: no available indices of class 7 to crop, setting the crop ratio of this class to zero.\n",
      "  warnings.warn(\n",
      "/home/max1024/venvs/ml/lib/python3.12/site-packages/monai/transforms/utils.py:743: UserWarning: no available indices of class 2 to crop, setting the crop ratio of this class to zero.\n",
      "  warnings.warn(\n",
      "/home/max1024/venvs/ml/lib/python3.12/site-packages/monai/transforms/utils.py:743: UserWarning: no available indices of class 7 to crop, setting the crop ratio of this class to zero.\n",
      "  warnings.warn(\n"
     ]
    },
    {
     "name": "stdout",
     "output_type": "stream",
     "text": [
      "batch 1/5, train_loss: 0.7897\n",
      "batch 2/5, train_loss: 0.7898\n",
      "batch 3/5, train_loss: 0.7798\n",
      "batch 4/5, train_loss: 0.7612\n",
      "batch 5/5, train_loss: 0.7610\n",
      "epoch 40 average loss: 0.7763\n"
     ]
    },
    {
     "name": "stderr",
     "output_type": "stream",
     "text": [
      "/home/max1024/venvs/ml/lib/python3.12/site-packages/monai/transforms/utils.py:743: UserWarning: no available indices of class 2 to crop, setting the crop ratio of this class to zero.\n",
      "  warnings.warn(\n",
      "/home/max1024/venvs/ml/lib/python3.12/site-packages/monai/transforms/utils.py:743: UserWarning: no available indices of class 7 to crop, setting the crop ratio of this class to zero.\n",
      "  warnings.warn(\n",
      "/home/max1024/venvs/ml/lib/python3.12/site-packages/monai/transforms/utils.py:743: UserWarning: no available indices of class 2 to crop, setting the crop ratio of this class to zero.\n",
      "  warnings.warn(\n",
      "/home/max1024/venvs/ml/lib/python3.12/site-packages/monai/transforms/utils.py:743: UserWarning: no available indices of class 7 to crop, setting the crop ratio of this class to zero.\n",
      "  warnings.warn(\n"
     ]
    },
    {
     "name": "stdout",
     "output_type": "stream",
     "text": [
      "current epoch: 40 current mean recall per class: 0.1448, 0, 0.1195, 0.5499, 0.2228, 0.6089, 0\n",
      "best mean recall: 0.2647 at epoch: 38\n",
      "----------\n",
      "epoch 41/50\n"
     ]
    },
    {
     "name": "stderr",
     "output_type": "stream",
     "text": [
      "/home/max1024/venvs/ml/lib/python3.12/site-packages/monai/transforms/utils.py:743: UserWarning: no available indices of class 2 to crop, setting the crop ratio of this class to zero.\n",
      "  warnings.warn(\n",
      "/home/max1024/venvs/ml/lib/python3.12/site-packages/monai/transforms/utils.py:743: UserWarning: no available indices of class 7 to crop, setting the crop ratio of this class to zero.\n",
      "  warnings.warn(\n",
      "/home/max1024/venvs/ml/lib/python3.12/site-packages/monai/transforms/utils.py:743: UserWarning: no available indices of class 2 to crop, setting the crop ratio of this class to zero.\n",
      "  warnings.warn(\n",
      "/home/max1024/venvs/ml/lib/python3.12/site-packages/monai/transforms/utils.py:743: UserWarning: no available indices of class 7 to crop, setting the crop ratio of this class to zero.\n",
      "  warnings.warn(\n",
      "/home/max1024/venvs/ml/lib/python3.12/site-packages/monai/transforms/utils.py:743: UserWarning: no available indices of class 2 to crop, setting the crop ratio of this class to zero.\n",
      "  warnings.warn(\n",
      "/home/max1024/venvs/ml/lib/python3.12/site-packages/monai/transforms/utils.py:743: UserWarning: no available indices of class 2 to crop, setting the crop ratio of this class to zero.\n",
      "  warnings.warn(\n",
      "/home/max1024/venvs/ml/lib/python3.12/site-packages/monai/transforms/utils.py:743: UserWarning: no available indices of class 7 to crop, setting the crop ratio of this class to zero.\n",
      "  warnings.warn(\n",
      "/home/max1024/venvs/ml/lib/python3.12/site-packages/monai/transforms/utils.py:743: UserWarning: no available indices of class 7 to crop, setting the crop ratio of this class to zero.\n",
      "  warnings.warn(\n"
     ]
    },
    {
     "name": "stdout",
     "output_type": "stream",
     "text": [
      "batch 1/5, train_loss: 0.7594\n",
      "batch 2/5, train_loss: 0.7653\n",
      "batch 3/5, train_loss: 0.7666\n",
      "batch 4/5, train_loss: 0.7753\n",
      "batch 5/5, train_loss: 0.7589\n",
      "epoch 41 average loss: 0.7651\n",
      "----------\n",
      "epoch 42/50\n"
     ]
    },
    {
     "name": "stderr",
     "output_type": "stream",
     "text": [
      "/home/max1024/venvs/ml/lib/python3.12/site-packages/monai/transforms/utils.py:743: UserWarning: no available indices of class 2 to crop, setting the crop ratio of this class to zero.\n",
      "  warnings.warn(\n",
      "/home/max1024/venvs/ml/lib/python3.12/site-packages/monai/transforms/utils.py:743: UserWarning: no available indices of class 7 to crop, setting the crop ratio of this class to zero.\n",
      "  warnings.warn(\n",
      "/home/max1024/venvs/ml/lib/python3.12/site-packages/monai/transforms/utils.py:743: UserWarning: no available indices of class 2 to crop, setting the crop ratio of this class to zero.\n",
      "  warnings.warn(\n",
      "/home/max1024/venvs/ml/lib/python3.12/site-packages/monai/transforms/utils.py:743: UserWarning: no available indices of class 7 to crop, setting the crop ratio of this class to zero.\n",
      "  warnings.warn(\n",
      "/home/max1024/venvs/ml/lib/python3.12/site-packages/monai/transforms/utils.py:743: UserWarning: no available indices of class 2 to crop, setting the crop ratio of this class to zero.\n",
      "  warnings.warn(\n",
      "/home/max1024/venvs/ml/lib/python3.12/site-packages/monai/transforms/utils.py:743: UserWarning: no available indices of class 7 to crop, setting the crop ratio of this class to zero.\n",
      "  warnings.warn(\n",
      "/home/max1024/venvs/ml/lib/python3.12/site-packages/monai/transforms/utils.py:743: UserWarning: no available indices of class 2 to crop, setting the crop ratio of this class to zero.\n",
      "  warnings.warn(\n",
      "/home/max1024/venvs/ml/lib/python3.12/site-packages/monai/transforms/utils.py:743: UserWarning: no available indices of class 7 to crop, setting the crop ratio of this class to zero.\n",
      "  warnings.warn(\n"
     ]
    },
    {
     "name": "stdout",
     "output_type": "stream",
     "text": [
      "batch 1/5, train_loss: 0.7685\n",
      "batch 2/5, train_loss: 0.7711\n",
      "batch 3/5, train_loss: 0.7537\n",
      "batch 4/5, train_loss: 0.7567\n",
      "batch 5/5, train_loss: 0.7495\n",
      "epoch 42 average loss: 0.7599\n"
     ]
    },
    {
     "name": "stderr",
     "output_type": "stream",
     "text": [
      "/home/max1024/venvs/ml/lib/python3.12/site-packages/monai/transforms/utils.py:743: UserWarning: no available indices of class 2 to crop, setting the crop ratio of this class to zero.\n",
      "  warnings.warn(\n",
      "/home/max1024/venvs/ml/lib/python3.12/site-packages/monai/transforms/utils.py:743: UserWarning: no available indices of class 7 to crop, setting the crop ratio of this class to zero.\n",
      "  warnings.warn(\n",
      "/home/max1024/venvs/ml/lib/python3.12/site-packages/monai/transforms/utils.py:743: UserWarning: no available indices of class 2 to crop, setting the crop ratio of this class to zero.\n",
      "  warnings.warn(\n",
      "/home/max1024/venvs/ml/lib/python3.12/site-packages/monai/transforms/utils.py:743: UserWarning: no available indices of class 7 to crop, setting the crop ratio of this class to zero.\n",
      "  warnings.warn(\n"
     ]
    },
    {
     "name": "stdout",
     "output_type": "stream",
     "text": [
      "current epoch: 42 current mean recall per class: 0.2062, 0, 0.1826, 0.4921, 0.2271, 0.5581, 0\n",
      "best mean recall: 0.2647 at epoch: 38\n",
      "----------\n",
      "epoch 43/50\n"
     ]
    },
    {
     "name": "stderr",
     "output_type": "stream",
     "text": [
      "/home/max1024/venvs/ml/lib/python3.12/site-packages/monai/transforms/utils.py:743: UserWarning: no available indices of class 2 to crop, setting the crop ratio of this class to zero.\n",
      "  warnings.warn(\n",
      "/home/max1024/venvs/ml/lib/python3.12/site-packages/monai/transforms/utils.py:743: UserWarning: no available indices of class 7 to crop, setting the crop ratio of this class to zero.\n",
      "  warnings.warn(\n",
      "/home/max1024/venvs/ml/lib/python3.12/site-packages/monai/transforms/utils.py:743: UserWarning: no available indices of class 2 to crop, setting the crop ratio of this class to zero.\n",
      "  warnings.warn(\n",
      "/home/max1024/venvs/ml/lib/python3.12/site-packages/monai/transforms/utils.py:743: UserWarning: no available indices of class 7 to crop, setting the crop ratio of this class to zero.\n",
      "  warnings.warn(\n",
      "/home/max1024/venvs/ml/lib/python3.12/site-packages/monai/transforms/utils.py:743: UserWarning: no available indices of class 2 to crop, setting the crop ratio of this class to zero.\n",
      "  warnings.warn(\n",
      "/home/max1024/venvs/ml/lib/python3.12/site-packages/monai/transforms/utils.py:743: UserWarning: no available indices of class 7 to crop, setting the crop ratio of this class to zero.\n",
      "  warnings.warn(\n",
      "/home/max1024/venvs/ml/lib/python3.12/site-packages/monai/transforms/utils.py:743: UserWarning: no available indices of class 2 to crop, setting the crop ratio of this class to zero.\n",
      "  warnings.warn(\n",
      "/home/max1024/venvs/ml/lib/python3.12/site-packages/monai/transforms/utils.py:743: UserWarning: no available indices of class 7 to crop, setting the crop ratio of this class to zero.\n",
      "  warnings.warn(\n"
     ]
    },
    {
     "name": "stdout",
     "output_type": "stream",
     "text": [
      "batch 1/5, train_loss: 0.7932\n",
      "batch 2/5, train_loss: 0.8203\n",
      "batch 3/5, train_loss: 0.8074\n",
      "batch 4/5, train_loss: 0.7693\n",
      "batch 5/5, train_loss: 0.7600\n",
      "epoch 43 average loss: 0.7900\n",
      "----------\n",
      "epoch 44/50\n"
     ]
    },
    {
     "name": "stderr",
     "output_type": "stream",
     "text": [
      "/home/max1024/venvs/ml/lib/python3.12/site-packages/monai/transforms/utils.py:743: UserWarning: no available indices of class 2 to crop, setting the crop ratio of this class to zero.\n",
      "  warnings.warn(\n",
      "/home/max1024/venvs/ml/lib/python3.12/site-packages/monai/transforms/utils.py:743: UserWarning: no available indices of class 7 to crop, setting the crop ratio of this class to zero.\n",
      "  warnings.warn(\n",
      "/home/max1024/venvs/ml/lib/python3.12/site-packages/monai/transforms/utils.py:743: UserWarning: no available indices of class 2 to crop, setting the crop ratio of this class to zero.\n",
      "  warnings.warn(\n",
      "/home/max1024/venvs/ml/lib/python3.12/site-packages/monai/transforms/utils.py:743: UserWarning: no available indices of class 7 to crop, setting the crop ratio of this class to zero.\n",
      "  warnings.warn(\n",
      "/home/max1024/venvs/ml/lib/python3.12/site-packages/monai/transforms/utils.py:743: UserWarning: no available indices of class 2 to crop, setting the crop ratio of this class to zero.\n",
      "  warnings.warn(\n",
      "/home/max1024/venvs/ml/lib/python3.12/site-packages/monai/transforms/utils.py:743: UserWarning: no available indices of class 7 to crop, setting the crop ratio of this class to zero.\n",
      "  warnings.warn(\n",
      "/home/max1024/venvs/ml/lib/python3.12/site-packages/monai/transforms/utils.py:743: UserWarning: no available indices of class 2 to crop, setting the crop ratio of this class to zero.\n",
      "  warnings.warn(\n",
      "/home/max1024/venvs/ml/lib/python3.12/site-packages/monai/transforms/utils.py:743: UserWarning: no available indices of class 7 to crop, setting the crop ratio of this class to zero.\n",
      "  warnings.warn(\n"
     ]
    },
    {
     "name": "stdout",
     "output_type": "stream",
     "text": [
      "batch 1/5, train_loss: 0.7661\n",
      "batch 2/5, train_loss: 0.7900\n",
      "batch 3/5, train_loss: 0.7525\n",
      "batch 4/5, train_loss: 0.7741\n",
      "batch 5/5, train_loss: 0.7556\n",
      "epoch 44 average loss: 0.7677\n"
     ]
    },
    {
     "name": "stderr",
     "output_type": "stream",
     "text": [
      "/home/max1024/venvs/ml/lib/python3.12/site-packages/monai/transforms/utils.py:743: UserWarning: no available indices of class 2 to crop, setting the crop ratio of this class to zero.\n",
      "  warnings.warn(\n",
      "/home/max1024/venvs/ml/lib/python3.12/site-packages/monai/transforms/utils.py:743: UserWarning: no available indices of class 7 to crop, setting the crop ratio of this class to zero.\n",
      "  warnings.warn(\n",
      "/home/max1024/venvs/ml/lib/python3.12/site-packages/monai/transforms/utils.py:743: UserWarning: no available indices of class 2 to crop, setting the crop ratio of this class to zero.\n",
      "  warnings.warn(\n",
      "/home/max1024/venvs/ml/lib/python3.12/site-packages/monai/transforms/utils.py:743: UserWarning: no available indices of class 7 to crop, setting the crop ratio of this class to zero.\n",
      "  warnings.warn(\n"
     ]
    },
    {
     "name": "stdout",
     "output_type": "stream",
     "text": [
      "current epoch: 44 current mean recall per class: 0.1844, 0, 0.1571, 0.5097, 0.2181, 0.4886, 0\n",
      "best mean recall: 0.2647 at epoch: 38\n",
      "----------\n",
      "epoch 45/50\n"
     ]
    },
    {
     "name": "stderr",
     "output_type": "stream",
     "text": [
      "/home/max1024/venvs/ml/lib/python3.12/site-packages/monai/transforms/utils.py:743: UserWarning: no available indices of class 2 to crop, setting the crop ratio of this class to zero.\n",
      "  warnings.warn(\n",
      "/home/max1024/venvs/ml/lib/python3.12/site-packages/monai/transforms/utils.py:743: UserWarning: no available indices of class 7 to crop, setting the crop ratio of this class to zero.\n",
      "  warnings.warn(\n",
      "/home/max1024/venvs/ml/lib/python3.12/site-packages/monai/transforms/utils.py:743: UserWarning: no available indices of class 2 to crop, setting the crop ratio of this class to zero.\n",
      "  warnings.warn(\n",
      "/home/max1024/venvs/ml/lib/python3.12/site-packages/monai/transforms/utils.py:743: UserWarning: no available indices of class 2 to crop, setting the crop ratio of this class to zero.\n",
      "  warnings.warn(\n",
      "/home/max1024/venvs/ml/lib/python3.12/site-packages/monai/transforms/utils.py:743: UserWarning: no available indices of class 7 to crop, setting the crop ratio of this class to zero.\n",
      "  warnings.warn(\n",
      "/home/max1024/venvs/ml/lib/python3.12/site-packages/monai/transforms/utils.py:743: UserWarning: no available indices of class 7 to crop, setting the crop ratio of this class to zero.\n",
      "  warnings.warn(\n",
      "/home/max1024/venvs/ml/lib/python3.12/site-packages/monai/transforms/utils.py:743: UserWarning: no available indices of class 2 to crop, setting the crop ratio of this class to zero.\n",
      "  warnings.warn(\n",
      "/home/max1024/venvs/ml/lib/python3.12/site-packages/monai/transforms/utils.py:743: UserWarning: no available indices of class 7 to crop, setting the crop ratio of this class to zero.\n",
      "  warnings.warn(\n"
     ]
    },
    {
     "name": "stdout",
     "output_type": "stream",
     "text": [
      "batch 1/5, train_loss: 0.7672\n",
      "batch 2/5, train_loss: 0.7815\n",
      "batch 3/5, train_loss: 0.7878\n",
      "batch 4/5, train_loss: 0.7708\n",
      "batch 5/5, train_loss: 0.7712\n",
      "epoch 45 average loss: 0.7757\n",
      "----------\n",
      "epoch 46/50\n"
     ]
    },
    {
     "name": "stderr",
     "output_type": "stream",
     "text": [
      "/home/max1024/venvs/ml/lib/python3.12/site-packages/monai/transforms/utils.py:743: UserWarning: no available indices of class 2 to crop, setting the crop ratio of this class to zero.\n",
      "  warnings.warn(\n",
      "/home/max1024/venvs/ml/lib/python3.12/site-packages/monai/transforms/utils.py:743: UserWarning: no available indices of class 7 to crop, setting the crop ratio of this class to zero.\n",
      "  warnings.warn(\n",
      "/home/max1024/venvs/ml/lib/python3.12/site-packages/monai/transforms/utils.py:743: UserWarning: no available indices of class 2 to crop, setting the crop ratio of this class to zero.\n",
      "  warnings.warn(\n",
      "/home/max1024/venvs/ml/lib/python3.12/site-packages/monai/transforms/utils.py:743: UserWarning: no available indices of class 7 to crop, setting the crop ratio of this class to zero.\n",
      "  warnings.warn(\n",
      "/home/max1024/venvs/ml/lib/python3.12/site-packages/monai/transforms/utils.py:743: UserWarning: no available indices of class 2 to crop, setting the crop ratio of this class to zero.\n",
      "  warnings.warn(\n",
      "/home/max1024/venvs/ml/lib/python3.12/site-packages/monai/transforms/utils.py:743: UserWarning: no available indices of class 7 to crop, setting the crop ratio of this class to zero.\n",
      "  warnings.warn(\n",
      "/home/max1024/venvs/ml/lib/python3.12/site-packages/monai/transforms/utils.py:743: UserWarning: no available indices of class 2 to crop, setting the crop ratio of this class to zero.\n",
      "  warnings.warn(\n",
      "/home/max1024/venvs/ml/lib/python3.12/site-packages/monai/transforms/utils.py:743: UserWarning: no available indices of class 7 to crop, setting the crop ratio of this class to zero.\n",
      "  warnings.warn(\n"
     ]
    },
    {
     "name": "stdout",
     "output_type": "stream",
     "text": [
      "batch 1/5, train_loss: 0.7415\n",
      "batch 2/5, train_loss: 0.7829\n",
      "batch 3/5, train_loss: 0.7875\n",
      "batch 4/5, train_loss: 0.7897\n",
      "batch 5/5, train_loss: 0.7649\n",
      "epoch 46 average loss: 0.7733\n"
     ]
    },
    {
     "name": "stderr",
     "output_type": "stream",
     "text": [
      "/home/max1024/venvs/ml/lib/python3.12/site-packages/monai/transforms/utils.py:743: UserWarning: no available indices of class 2 to crop, setting the crop ratio of this class to zero.\n",
      "  warnings.warn(\n",
      "/home/max1024/venvs/ml/lib/python3.12/site-packages/monai/transforms/utils.py:743: UserWarning: no available indices of class 7 to crop, setting the crop ratio of this class to zero.\n",
      "  warnings.warn(\n",
      "/home/max1024/venvs/ml/lib/python3.12/site-packages/monai/transforms/utils.py:743: UserWarning: no available indices of class 2 to crop, setting the crop ratio of this class to zero.\n",
      "  warnings.warn(\n",
      "/home/max1024/venvs/ml/lib/python3.12/site-packages/monai/transforms/utils.py:743: UserWarning: no available indices of class 7 to crop, setting the crop ratio of this class to zero.\n",
      "  warnings.warn(\n"
     ]
    },
    {
     "name": "stdout",
     "output_type": "stream",
     "text": [
      "current epoch: 46 current mean recall per class: 0.2071, 0, 0.2101, 0.5017, 0.2537, 0.5632, 0\n",
      "best mean recall: 0.2647 at epoch: 38\n",
      "----------\n",
      "epoch 47/50\n"
     ]
    },
    {
     "name": "stderr",
     "output_type": "stream",
     "text": [
      "/home/max1024/venvs/ml/lib/python3.12/site-packages/monai/transforms/utils.py:743: UserWarning: no available indices of class 2 to crop, setting the crop ratio of this class to zero.\n",
      "  warnings.warn(\n",
      "/home/max1024/venvs/ml/lib/python3.12/site-packages/monai/transforms/utils.py:743: UserWarning: no available indices of class 7 to crop, setting the crop ratio of this class to zero.\n",
      "  warnings.warn(\n",
      "/home/max1024/venvs/ml/lib/python3.12/site-packages/monai/transforms/utils.py:743: UserWarning: no available indices of class 2 to crop, setting the crop ratio of this class to zero.\n",
      "  warnings.warn(\n",
      "/home/max1024/venvs/ml/lib/python3.12/site-packages/monai/transforms/utils.py:743: UserWarning: no available indices of class 7 to crop, setting the crop ratio of this class to zero.\n",
      "  warnings.warn(\n",
      "/home/max1024/venvs/ml/lib/python3.12/site-packages/monai/transforms/utils.py:743: UserWarning: no available indices of class 2 to crop, setting the crop ratio of this class to zero.\n",
      "  warnings.warn(\n",
      "/home/max1024/venvs/ml/lib/python3.12/site-packages/monai/transforms/utils.py:743: UserWarning: no available indices of class 2 to crop, setting the crop ratio of this class to zero.\n",
      "  warnings.warn(\n",
      "/home/max1024/venvs/ml/lib/python3.12/site-packages/monai/transforms/utils.py:743: UserWarning: no available indices of class 7 to crop, setting the crop ratio of this class to zero.\n",
      "  warnings.warn(\n",
      "/home/max1024/venvs/ml/lib/python3.12/site-packages/monai/transforms/utils.py:743: UserWarning: no available indices of class 7 to crop, setting the crop ratio of this class to zero.\n",
      "  warnings.warn(\n"
     ]
    },
    {
     "name": "stdout",
     "output_type": "stream",
     "text": [
      "batch 1/5, train_loss: 0.7571\n",
      "batch 2/5, train_loss: 0.7386\n",
      "batch 3/5, train_loss: 0.7666\n",
      "batch 4/5, train_loss: 0.7684\n",
      "batch 5/5, train_loss: 0.7735\n",
      "epoch 47 average loss: 0.7608\n",
      "----------\n",
      "epoch 48/50\n"
     ]
    },
    {
     "name": "stderr",
     "output_type": "stream",
     "text": [
      "/home/max1024/venvs/ml/lib/python3.12/site-packages/monai/transforms/utils.py:743: UserWarning: no available indices of class 2 to crop, setting the crop ratio of this class to zero.\n",
      "  warnings.warn(\n",
      "/home/max1024/venvs/ml/lib/python3.12/site-packages/monai/transforms/utils.py:743: UserWarning: no available indices of class 2 to crop, setting the crop ratio of this class to zero.\n",
      "  warnings.warn(\n",
      "/home/max1024/venvs/ml/lib/python3.12/site-packages/monai/transforms/utils.py:743: UserWarning: no available indices of class 7 to crop, setting the crop ratio of this class to zero.\n",
      "  warnings.warn(\n",
      "/home/max1024/venvs/ml/lib/python3.12/site-packages/monai/transforms/utils.py:743: UserWarning: no available indices of class 7 to crop, setting the crop ratio of this class to zero.\n",
      "  warnings.warn(\n",
      "/home/max1024/venvs/ml/lib/python3.12/site-packages/monai/transforms/utils.py:743: UserWarning: no available indices of class 2 to crop, setting the crop ratio of this class to zero.\n",
      "  warnings.warn(\n",
      "/home/max1024/venvs/ml/lib/python3.12/site-packages/monai/transforms/utils.py:743: UserWarning: no available indices of class 2 to crop, setting the crop ratio of this class to zero.\n",
      "  warnings.warn(\n",
      "/home/max1024/venvs/ml/lib/python3.12/site-packages/monai/transforms/utils.py:743: UserWarning: no available indices of class 7 to crop, setting the crop ratio of this class to zero.\n",
      "  warnings.warn(\n",
      "/home/max1024/venvs/ml/lib/python3.12/site-packages/monai/transforms/utils.py:743: UserWarning: no available indices of class 7 to crop, setting the crop ratio of this class to zero.\n",
      "  warnings.warn(\n"
     ]
    },
    {
     "name": "stdout",
     "output_type": "stream",
     "text": [
      "batch 1/5, train_loss: 0.7673\n",
      "batch 2/5, train_loss: 0.7350\n",
      "batch 3/5, train_loss: 0.7447\n",
      "batch 4/5, train_loss: 0.7770\n",
      "batch 5/5, train_loss: 0.7692\n",
      "epoch 48 average loss: 0.7586\n"
     ]
    },
    {
     "name": "stderr",
     "output_type": "stream",
     "text": [
      "/home/max1024/venvs/ml/lib/python3.12/site-packages/monai/transforms/utils.py:743: UserWarning: no available indices of class 2 to crop, setting the crop ratio of this class to zero.\n",
      "  warnings.warn(\n",
      "/home/max1024/venvs/ml/lib/python3.12/site-packages/monai/transforms/utils.py:743: UserWarning: no available indices of class 7 to crop, setting the crop ratio of this class to zero.\n",
      "  warnings.warn(\n",
      "/home/max1024/venvs/ml/lib/python3.12/site-packages/monai/transforms/utils.py:743: UserWarning: no available indices of class 2 to crop, setting the crop ratio of this class to zero.\n",
      "  warnings.warn(\n",
      "/home/max1024/venvs/ml/lib/python3.12/site-packages/monai/transforms/utils.py:743: UserWarning: no available indices of class 7 to crop, setting the crop ratio of this class to zero.\n",
      "  warnings.warn(\n"
     ]
    },
    {
     "name": "stdout",
     "output_type": "stream",
     "text": [
      "current epoch: 48 current mean recall per class: 0.1999, 0, 0.1004, 0.5278, 0.2419, 0.397, 0\n",
      "best mean recall: 0.2647 at epoch: 38\n",
      "----------\n",
      "epoch 49/50\n"
     ]
    },
    {
     "name": "stderr",
     "output_type": "stream",
     "text": [
      "/home/max1024/venvs/ml/lib/python3.12/site-packages/monai/transforms/utils.py:743: UserWarning: no available indices of class 2 to crop, setting the crop ratio of this class to zero.\n",
      "  warnings.warn(\n",
      "/home/max1024/venvs/ml/lib/python3.12/site-packages/monai/transforms/utils.py:743: UserWarning: no available indices of class 7 to crop, setting the crop ratio of this class to zero.\n",
      "  warnings.warn(\n",
      "/home/max1024/venvs/ml/lib/python3.12/site-packages/monai/transforms/utils.py:743: UserWarning: no available indices of class 2 to crop, setting the crop ratio of this class to zero.\n",
      "  warnings.warn(\n",
      "/home/max1024/venvs/ml/lib/python3.12/site-packages/monai/transforms/utils.py:743: UserWarning: no available indices of class 2 to crop, setting the crop ratio of this class to zero.\n",
      "  warnings.warn(\n",
      "/home/max1024/venvs/ml/lib/python3.12/site-packages/monai/transforms/utils.py:743: UserWarning: no available indices of class 7 to crop, setting the crop ratio of this class to zero.\n",
      "  warnings.warn(\n",
      "/home/max1024/venvs/ml/lib/python3.12/site-packages/monai/transforms/utils.py:743: UserWarning: no available indices of class 7 to crop, setting the crop ratio of this class to zero.\n",
      "  warnings.warn(\n",
      "/home/max1024/venvs/ml/lib/python3.12/site-packages/monai/transforms/utils.py:743: UserWarning: no available indices of class 2 to crop, setting the crop ratio of this class to zero.\n",
      "  warnings.warn(\n",
      "/home/max1024/venvs/ml/lib/python3.12/site-packages/monai/transforms/utils.py:743: UserWarning: no available indices of class 7 to crop, setting the crop ratio of this class to zero.\n",
      "  warnings.warn(\n"
     ]
    },
    {
     "name": "stdout",
     "output_type": "stream",
     "text": [
      "batch 1/5, train_loss: 0.7489\n",
      "batch 2/5, train_loss: 0.8047\n",
      "batch 3/5, train_loss: 0.7932\n",
      "batch 4/5, train_loss: 0.7695\n",
      "batch 5/5, train_loss: 0.7650\n",
      "epoch 49 average loss: 0.7763\n",
      "----------\n",
      "epoch 50/50\n"
     ]
    },
    {
     "name": "stderr",
     "output_type": "stream",
     "text": [
      "/home/max1024/venvs/ml/lib/python3.12/site-packages/monai/transforms/utils.py:743: UserWarning: no available indices of class 2 to crop, setting the crop ratio of this class to zero.\n",
      "  warnings.warn(\n",
      "/home/max1024/venvs/ml/lib/python3.12/site-packages/monai/transforms/utils.py:743: UserWarning: no available indices of class 2 to crop, setting the crop ratio of this class to zero.\n",
      "  warnings.warn(\n",
      "/home/max1024/venvs/ml/lib/python3.12/site-packages/monai/transforms/utils.py:743: UserWarning: no available indices of class 7 to crop, setting the crop ratio of this class to zero.\n",
      "  warnings.warn(\n",
      "/home/max1024/venvs/ml/lib/python3.12/site-packages/monai/transforms/utils.py:743: UserWarning: no available indices of class 7 to crop, setting the crop ratio of this class to zero.\n",
      "  warnings.warn(\n",
      "/home/max1024/venvs/ml/lib/python3.12/site-packages/monai/transforms/utils.py:743: UserWarning: no available indices of class 2 to crop, setting the crop ratio of this class to zero.\n",
      "  warnings.warn(\n",
      "/home/max1024/venvs/ml/lib/python3.12/site-packages/monai/transforms/utils.py:743: UserWarning: no available indices of class 7 to crop, setting the crop ratio of this class to zero.\n",
      "  warnings.warn(\n",
      "/home/max1024/venvs/ml/lib/python3.12/site-packages/monai/transforms/utils.py:743: UserWarning: no available indices of class 2 to crop, setting the crop ratio of this class to zero.\n",
      "  warnings.warn(\n",
      "/home/max1024/venvs/ml/lib/python3.12/site-packages/monai/transforms/utils.py:743: UserWarning: no available indices of class 7 to crop, setting the crop ratio of this class to zero.\n",
      "  warnings.warn(\n"
     ]
    },
    {
     "name": "stdout",
     "output_type": "stream",
     "text": [
      "batch 1/5, train_loss: 0.7486\n",
      "batch 2/5, train_loss: 0.7626\n",
      "batch 3/5, train_loss: 0.7543\n",
      "batch 4/5, train_loss: 0.7699\n",
      "batch 5/5, train_loss: 0.7316\n",
      "epoch 50 average loss: 0.7534\n"
     ]
    },
    {
     "name": "stderr",
     "output_type": "stream",
     "text": [
      "/home/max1024/venvs/ml/lib/python3.12/site-packages/monai/transforms/utils.py:743: UserWarning: no available indices of class 2 to crop, setting the crop ratio of this class to zero.\n",
      "  warnings.warn(\n",
      "/home/max1024/venvs/ml/lib/python3.12/site-packages/monai/transforms/utils.py:743: UserWarning: no available indices of class 7 to crop, setting the crop ratio of this class to zero.\n",
      "  warnings.warn(\n",
      "/home/max1024/venvs/ml/lib/python3.12/site-packages/monai/transforms/utils.py:743: UserWarning: no available indices of class 2 to crop, setting the crop ratio of this class to zero.\n",
      "  warnings.warn(\n",
      "/home/max1024/venvs/ml/lib/python3.12/site-packages/monai/transforms/utils.py:743: UserWarning: no available indices of class 7 to crop, setting the crop ratio of this class to zero.\n",
      "  warnings.warn(\n"
     ]
    },
    {
     "name": "stdout",
     "output_type": "stream",
     "text": [
      "current epoch: 50 current mean recall per class: 0.1997, 0, 0.194, 0.5959, 0.2789, 0.4796, 0\n",
      "best mean recall: 0.2647 at epoch: 38\n"
     ]
    },
    {
     "name": "stderr",
     "output_type": "stream",
     "text": [
      "\u001b[31m2025/01/22 13:32:30 WARNING mlflow.models.model: Model logged without a signature and input example. Please set `input_example` parameter when logging the model to auto infer the model signature.\u001b[0m\n"
     ]
    }
   ],
   "source": [
    "from torchinfo import summary\n",
    "\n",
    "mlflow.end_run()\n",
    "mlflow.set_experiment('training 3D U-Net model for the cryoET ML Challenge')\n",
    "epochs = 50\n",
    "with mlflow.start_run():\n",
    "    params = {\n",
    "        \"epochs\": epochs,\n",
    "        \"learning_rate\": lr,\n",
    "        \"loss_function\": loss_function.__class__.__name__,\n",
    "        \"metric_function\": recall_metric.__class__.__name__,\n",
    "        \"optimizer\": \"Adam\",\n",
    "    }\n",
    "    # Log training parameters.\n",
    "    mlflow.log_params(params)\n",
    "\n",
    "    # Log model summary.\n",
    "    with open(\"model_summary.txt\", \"w\") as f:\n",
    "        f.write(str(summary(model)))\n",
    "    mlflow.log_artifact(\"model_summary.txt\")\n",
    "\n",
    "    train(train_loader, model, loss_function, dice_metric, optimizer, max_epochs=epochs)\n",
    "\n",
    "    # Save the trained model to MLflow.\n",
    "    mlflow.pytorch.log_model(model, \"model\")"
   ]
  },
  {
   "cell_type": "markdown",
   "metadata": {},
   "source": [
    "**Note:** Code taken from the official CZ Imaging Institute's official github page."
   ]
  }
 ],
 "metadata": {
  "kaggle": {
   "accelerator": "gpu",
   "dataSources": [
    {
     "databundleVersionId": 10033515,
     "sourceId": 84969,
     "sourceType": "competition"
    }
   ],
   "dockerImageVersionId": 30787,
   "isGpuEnabled": true,
   "isInternetEnabled": true,
   "language": "python",
   "sourceType": "notebook"
  },
  "kernelspec": {
   "display_name": "Python 3 (ipykernel)",
   "language": "python",
   "name": "python3"
  },
  "language_info": {
   "codemirror_mode": {
    "name": "ipython",
    "version": 3
   },
   "file_extension": ".py",
   "mimetype": "text/x-python",
   "name": "python",
   "nbconvert_exporter": "python",
   "pygments_lexer": "ipython3",
   "version": "3.12.8"
  }
 },
 "nbformat": 4,
 "nbformat_minor": 4
}
