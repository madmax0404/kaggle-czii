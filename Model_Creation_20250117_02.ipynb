{
 "cells": [
  {
   "cell_type": "code",
   "execution_count": null,
   "id": "73a56f5c-2016-4187-8fd9-59e706a21cc0",
   "metadata": {},
   "outputs": [],
   "source": [
    "import numpy as np\n",
    "import pandas as pd\n",
    "import polars as pl\n",
    "import os\n",
    "import gc\n",
    "import json\n",
    "import random\n",
    "from tqdm import tqdm\n",
    "import matplotlib.pyplot as plt\n",
    "import matplotlib\n",
    "import seaborn as sns\n",
    "import zarr\n",
    "\n",
    "gc.enable()\n",
    "\n",
    "pd.options.display.max_columns = None\n",
    "#pd.set_option('display.max_rows', 500)\n",
    "pd.set_option('display.max_columns', 500)\n",
    "pd.set_option('display.max_colwidth', None)\n",
    "\n",
    "#pl.Config.set_tbl_rows(-1)\n",
    "pl.Config.set_tbl_cols(-1)\n",
    "pl.Config.set_fmt_str_lengths(10000)"
   ]
  },
  {
   "cell_type": "code",
   "execution_count": null,
   "id": "28a8b1ef-922b-441e-9c7e-627e63e7dec2",
   "metadata": {},
   "outputs": [],
   "source": [
    "path = 'I:/Kaggle/czii-cryo-et-object-identification/'"
   ]
  },
  {
   "cell_type": "code",
   "execution_count": null,
   "id": "e73e4caf-f54d-45b0-a309-79669790a0f5",
   "metadata": {},
   "outputs": [],
   "source": [
    "train_data_experiment_folders_path = path + 'train/static/ExperimentRuns/'\n",
    "train_data_experiment_folders_path"
   ]
  },
  {
   "cell_type": "code",
   "execution_count": null,
   "id": "f72308ad-6777-4693-872f-10e42655eebd",
   "metadata": {},
   "outputs": [],
   "source": [
    "test_data_experiment_folders_path = path + 'test/static/ExperimentRuns/'\n",
    "test_data_experiment_folders_path"
   ]
  },
  {
   "cell_type": "code",
   "execution_count": null,
   "id": "5449f37d-8e69-4d7e-a4d3-a241ff7d8db1",
   "metadata": {},
   "outputs": [],
   "source": [
    "train_data_experiments = os.listdir(train_data_experiment_folders_path)\n",
    "train_data_experiments"
   ]
  },
  {
   "cell_type": "code",
   "execution_count": null,
   "id": "cc6c89ab-1af4-481c-ba94-b2422d198ca1",
   "metadata": {},
   "outputs": [],
   "source": [
    "test_data_experiments = os.listdir(test_data_experiment_folders_path)\n",
    "test_data_experiments"
   ]
  },
  {
   "cell_type": "code",
   "execution_count": null,
   "id": "5ec17268-7319-41e5-80cb-9369c900c92c",
   "metadata": {},
   "outputs": [],
   "source": [
    "data_dict = {}\n",
    "for experiment in tqdm(train_data_experiments):\n",
    "    image_types_dict = {}    \n",
    "    image_types_dict['denoised'] = zarr.open(train_data_experiment_folders_path + f'{experiment}/VoxelSpacing10.000/denoised.zarr', mode='r')\n",
    "    image_types_dict['iso'] = zarr.open(train_data_experiment_folders_path + f'{experiment}/VoxelSpacing10.000/isonetcorrected.zarr', mode='r')\n",
    "    image_types_dict['dcon'] = zarr.open(train_data_experiment_folders_path + f'{experiment}/VoxelSpacing10.000/ctfdeconvolved.zarr', mode='r')\n",
    "    image_types_dict['wbp'] = zarr.open(train_data_experiment_folders_path + f'{experiment}/VoxelSpacing10.000/wbp.zarr', mode='r')\n",
    "    data_dict[experiment] = image_types_dict"
   ]
  },
  {
   "cell_type": "code",
   "execution_count": null,
   "id": "c706421d-7fb6-42d1-bdcf-c233aa05947a",
   "metadata": {
    "scrolled": true
   },
   "outputs": [],
   "source": [
    "data_dict"
   ]
  },
  {
   "cell_type": "code",
   "execution_count": null,
   "id": "1d00a3b5-bc5c-4387-9fca-1bdc0cad9a20",
   "metadata": {},
   "outputs": [],
   "source": [
    "test_data_dict = {}\n",
    "for experiment in tqdm(test_data_experiments):\n",
    "    image_types_dict = {}    \n",
    "    image_types_dict['denoised'] = zarr.open(test_data_experiment_folders_path + f'{experiment}/VoxelSpacing10.000/denoised.zarr', mode='r')\n",
    "    test_data_dict[experiment] = image_types_dict"
   ]
  },
  {
   "cell_type": "code",
   "execution_count": null,
   "id": "30f8f88c-a05a-4312-b097-4942af7624b5",
   "metadata": {},
   "outputs": [],
   "source": [
    "test_data_dict"
   ]
  },
  {
   "cell_type": "code",
   "execution_count": null,
   "id": "062ee30f-b54e-4d3c-bee0-fd989ebcdfb5",
   "metadata": {},
   "outputs": [],
   "source": [
    "data_dict.keys()"
   ]
  },
  {
   "cell_type": "code",
   "execution_count": null,
   "id": "3d70bc54-bc89-43e9-b3cd-b172698c8f99",
   "metadata": {},
   "outputs": [],
   "source": [
    "train_label_experiment_folders_path = path + 'train/overlay/ExperimentRuns/'\n",
    "train_label_experiment_folders_path"
   ]
  },
  {
   "cell_type": "code",
   "execution_count": null,
   "id": "2bad6878-7787-4b5b-bd71-dce4006555c9",
   "metadata": {},
   "outputs": [],
   "source": [
    "train_label_experiments = os.listdir(train_label_experiment_folders_path)\n",
    "train_label_experiments"
   ]
  },
  {
   "cell_type": "code",
   "execution_count": null,
   "id": "ca51174e-9863-46b9-b09b-7d979e337697",
   "metadata": {},
   "outputs": [],
   "source": [
    "labels_dict = {}\n",
    "for experiment in tqdm(train_label_experiments):\n",
    "    particle_types_dict = {}\n",
    "    \n",
    "    with open(f'{train_label_experiment_folders_path}{experiment}/Picks/apo-ferritin.json') as f:\n",
    "        loaded_json = json.loads(f.read())\n",
    "    particle_types_dict['apo-ferritin'] = loaded_json\n",
    "\n",
    "    '''\n",
    "    with open(f'{train_label_experiment_folders_path}{experiment}/Picks/beta-amylase.json') as f:\n",
    "        loaded_json = json.loads(f.read())\n",
    "    particle_types_dict['beta-amylase'] = loaded_json\n",
    "    '''\n",
    "\n",
    "    with open(f'{train_label_experiment_folders_path}{experiment}/Picks/beta-galactosidase.json') as f:\n",
    "        loaded_json = json.loads(f.read())\n",
    "    particle_types_dict['beta-galactosidase'] = loaded_json\n",
    "\n",
    "    with open(f'{train_label_experiment_folders_path}{experiment}/Picks/ribosome.json') as f:\n",
    "        loaded_json = json.loads(f.read())\n",
    "    particle_types_dict['ribosome'] = loaded_json\n",
    "\n",
    "    with open(f'{train_label_experiment_folders_path}{experiment}/Picks/thyroglobulin.json') as f:\n",
    "        loaded_json = json.loads(f.read())\n",
    "    particle_types_dict['thyroglobulin'] = loaded_json\n",
    "\n",
    "    with open(f'{train_label_experiment_folders_path}{experiment}/Picks/virus-like-particle.json') as f:\n",
    "        loaded_json = json.loads(f.read())\n",
    "    particle_types_dict['virus-like-particle'] = loaded_json\n",
    "\n",
    "    labels_dict[experiment] = particle_types_dict"
   ]
  },
  {
   "cell_type": "code",
   "execution_count": null,
   "id": "76bc5527-a884-4e2d-9053-997c0608486c",
   "metadata": {
    "scrolled": true
   },
   "outputs": [],
   "source": [
    "labels_dict"
   ]
  },
  {
   "cell_type": "code",
   "execution_count": null,
   "id": "d4f8a3b6-18dc-4d9f-a8dd-e7c8584344e3",
   "metadata": {
    "scrolled": true
   },
   "outputs": [],
   "source": [
    "experiment_list = []\n",
    "particle_type_list = []\n",
    "x_list = []\n",
    "y_list = []\n",
    "z_list = []\n",
    "for experiment in tqdm(test_data_experiments):\n",
    "    #print(experiment)\n",
    "    #print(len(labels_dict[experiment]['apo-ferritin']['points']))\n",
    "    #print(type(labels_dict[experiment]['apo-ferritin']['points']))\n",
    "    #print(labels_dict[experiment]['apo-ferritin']['points'][0])\n",
    "\n",
    "    for key in labels_dict[experiment].keys():\n",
    "        #print(labels_dict[experiment][key])\n",
    "        #print(labels_dict[experiment][key]['pickable_object_name'])\n",
    "        for i in range(len(labels_dict[experiment][key]['points'])):\n",
    "            experiment_list.append(labels_dict[experiment][key]['run_name'])\n",
    "            particle_type_list.append(labels_dict[experiment][key]['pickable_object_name'])\n",
    "            x_list.append(labels_dict[experiment][key]['points'][i]['location']['x'])\n",
    "            y_list.append(labels_dict[experiment][key]['points'][i]['location']['y'])\n",
    "            z_list.append(labels_dict[experiment][key]['points'][i]['location']['z'])"
   ]
  },
  {
   "cell_type": "code",
   "execution_count": null,
   "id": "79a2e261-a62f-4aa5-ae7b-31baa3d35d4a",
   "metadata": {},
   "outputs": [],
   "source": [
    "print(len(experiment_list))\n",
    "print(len(particle_type_list))"
   ]
  },
  {
   "cell_type": "code",
   "execution_count": null,
   "id": "e69cf28d-f172-4a7e-acf2-d231f990e4d2",
   "metadata": {},
   "outputs": [],
   "source": [
    "labels_df = pd.DataFrame({'experiment':experiment_list, 'particle_type':particle_type_list, 'x':x_list, 'y':y_list, 'z':z_list})\n",
    "print(labels_df.shape)\n",
    "labels_df"
   ]
  },
  {
   "cell_type": "code",
   "execution_count": null,
   "id": "45d67c3a-9c6b-4146-87e7-baea9bc7c32c",
   "metadata": {},
   "outputs": [],
   "source": [
    "labels_df['particle_type'].nunique()"
   ]
  },
  {
   "cell_type": "code",
   "execution_count": null,
   "id": "934df4bc-3afc-4822-801a-641bf34e273a",
   "metadata": {},
   "outputs": [],
   "source": [
    "import torch\n",
    "import torch.nn as nn"
   ]
  },
  {
   "cell_type": "code",
   "execution_count": null,
   "id": "95015c4b-70fa-4597-916a-74b66a759e5d",
   "metadata": {},
   "outputs": [],
   "source": [
    "class YOLO3D(nn.Module):\n",
    "    def __init__(self, num_classes=5, num_anchors=3):\n",
    "        super(YOLO3D, self).__init__()\n",
    "        self.conv1 = nn.Conv3d(in_channels=1, out_channels=32, kernel_size=3, stride=1, padding=1)\n",
    "        self.conv2 = nn.Conv3d(32, 64, kernel_size=3, stride=1, padding=1)\n",
    "        self.conv3 = nn.Conv3d(64, 128, kernel_size=3, stride=1, padding=1)\n",
    "        self.fc = nn.Linear(128 * 4 * 4 * 4, num_classes * (7 + num_anchors))  # 3D bounding box output\n",
    "        \n",
    "    def forward(self, x):\n",
    "        x = torch.relu(self.conv1(x))\n",
    "        x = torch.relu(self.conv2(x))\n",
    "        x = torch.relu(self.conv3(x))\n",
    "        x = torch.flatten(x, start_dim=1)\n",
    "        x = self.fc(x)\n",
    "        return x"
   ]
  },
  {
   "cell_type": "code",
   "execution_count": null,
   "id": "23789a97-3865-401c-9f96-8160b84d9446",
   "metadata": {},
   "outputs": [],
   "source": [
    "# Example input: (batch_size=1, channels=1, depth=32, height=32, width=32)\n",
    "model = YOLO3D()\n",
    "dummy_input = torch.randn(1, 1, 32, 32, 32)"
   ]
  },
  {
   "cell_type": "code",
   "execution_count": null,
   "id": "4ce487b7-19ea-447d-95f5-ea33195dd1ab",
   "metadata": {},
   "outputs": [],
   "source": [
    "output = model(dummy_input)"
   ]
  },
  {
   "cell_type": "code",
   "execution_count": null,
   "id": "0d014442-6a65-4c6c-ac9a-399fd13e1d57",
   "metadata": {},
   "outputs": [],
   "source": [
    "output = model(dummy_input)\n",
    "print(output.shape)  # Should match expected output dimensions\n"
   ]
  },
  {
   "cell_type": "code",
   "execution_count": null,
   "id": "f875b199-868e-4eb6-ba63-9588d69d5f6c",
   "metadata": {},
   "outputs": [],
   "source": [
    "class YOLO3D(nn.Module):\n",
    "    def __init__(self, num_classes=5, num_anchors=3):\n",
    "        super(YOLO3D, self).__init__()\n",
    "        self.conv1 = nn.Conv3d(in_channels=1, out_channels=32, kernel_size=3, stride=1, padding=1)\n",
    "        self.conv2 = nn.Conv3d(32, 64, kernel_size=3, stride=1, padding=1)\n",
    "        self.conv3 = nn.Conv3d(64, 128, kernel_size=3, stride=1, padding=1)\n",
    "        self.num_classes = num_classes\n",
    "        self.num_anchors = num_anchors\n",
    "\n",
    "        # Placeholder FC layer (will be updated dynamically in forward())\n",
    "        self.fc = None\n",
    "\n",
    "    def forward(self, x):\n",
    "        #print(f\"Input shape: {x.shape}\")  \n",
    "\n",
    "        x = torch.relu(self.conv1(x))\n",
    "        #print(f\"After conv1: {x.shape}\")\n",
    "\n",
    "        x = torch.relu(self.conv2(x))\n",
    "        #print(f\"After conv2: {x.shape}\")\n",
    "\n",
    "        x = torch.relu(self.conv3(x))\n",
    "        #print(f\"After conv3: {x.shape}\")\n",
    "\n",
    "        x = torch.flatten(x, start_dim=1)\n",
    "        #print(f\"After flatten: {x.shape}\")\n",
    "\n",
    "        # Dynamically set FC layer the first time forward() runs\n",
    "        if self.fc is None:\n",
    "            num_features = x.shape[1]  # Get dynamic input size\n",
    "            self.fc = nn.Linear(num_features, self.num_classes * (7 + self.num_anchors))\n",
    "            self.fc = self.fc.to(x.device)  # Move FC layer to the correct device\n",
    "\n",
    "        x = self.fc(x)\n",
    "        return x"
   ]
  },
  {
   "cell_type": "code",
   "execution_count": null,
   "id": "26f21ff5-1c5f-430a-96bb-74e711fa36c9",
   "metadata": {},
   "outputs": [],
   "source": [
    "# Example input: (batch_size=1, channels=1, depth=32, height=32, width=32)\n",
    "model = YOLO3D()\n",
    "dummy_input = torch.randn(1, 1, 32, 32, 32)"
   ]
  },
  {
   "cell_type": "code",
   "execution_count": null,
   "id": "85b7db6e-cebf-485c-a403-6ec699fc867b",
   "metadata": {},
   "outputs": [],
   "source": [
    "output = model(dummy_input)\n",
    "print(output.shape)  # Expected shape: (1, num_classes * (7 + num_anchors))"
   ]
  },
  {
   "cell_type": "code",
   "execution_count": null,
   "id": "3b616bb9-5dee-4d94-a7b5-e314a0b99c2f",
   "metadata": {},
   "outputs": [],
   "source": [
    "dummy_input = torch.randn(1, 1, 50, 50, 50)"
   ]
  },
  {
   "cell_type": "code",
   "execution_count": null,
   "id": "589cf3fc-d2f8-4df7-8974-50fdee520d9e",
   "metadata": {},
   "outputs": [],
   "source": [
    "output = model(dummy_input)\n",
    "print(output.shape)  # Expected shape: (1, num_classes * (7 + num_anchors))"
   ]
  },
  {
   "cell_type": "code",
   "execution_count": null,
   "id": "b62516a4-d681-4bbc-8027-0dfc5fe7a88b",
   "metadata": {},
   "outputs": [],
   "source": [
    "dummy_input.shape"
   ]
  },
  {
   "cell_type": "code",
   "execution_count": null,
   "id": "b34f2243-02ac-4795-adfd-c59f1fe3f35a",
   "metadata": {},
   "outputs": [],
   "source": [
    "dummy_input = torch.randn(1, 1, 50, 50, 50)\n",
    "output = model(dummy_input)\n",
    "print(output.shape)  # Expected shape: (1, num_classes * (7 + num_anchors))"
   ]
  },
  {
   "cell_type": "code",
   "execution_count": null,
   "id": "4f97b801-afe8-4f56-9f1c-c29297caa831",
   "metadata": {},
   "outputs": [],
   "source": [
    "dummy_input = torch.randn(1, 1, 60, 60, 60)\n",
    "output = model(dummy_input)\n",
    "print(output.shape)  # Expected shape: (1, num_classes * (7 + num_anchors))"
   ]
  },
  {
   "cell_type": "code",
   "execution_count": null,
   "id": "3b6e336c-5f23-4d7c-bd2b-5e92757ca933",
   "metadata": {},
   "outputs": [],
   "source": [
    "# Example input: (batch_size=1, channels=1, depth=32, height=32, width=32)\n",
    "model = YOLO3D()\n",
    "dummy_input = torch.randn(1, 1, 75, 75, 75)\n",
    "output = model(dummy_input)\n",
    "print(output.shape)  # Expected shape: (1, num_classes * (7 + num_anchors))"
   ]
  },
  {
   "cell_type": "code",
   "execution_count": null,
   "id": "6cb696b2-81e5-498e-b002-a9dbd8ec3781",
   "metadata": {},
   "outputs": [],
   "source": []
  },
  {
   "cell_type": "code",
   "execution_count": null,
   "id": "575e27a7-fe47-4a3b-963e-69c40b027edd",
   "metadata": {},
   "outputs": [],
   "source": []
  },
  {
   "cell_type": "code",
   "execution_count": null,
   "id": "fbe303f1-40b1-497a-8ef8-04abb0b1305c",
   "metadata": {},
   "outputs": [],
   "source": []
  },
  {
   "cell_type": "code",
   "execution_count": null,
   "id": "a5207b76-2d78-4dfd-bd1b-372573b7070c",
   "metadata": {},
   "outputs": [],
   "source": []
  },
  {
   "cell_type": "code",
   "execution_count": null,
   "id": "f0a90bfe-eabd-4595-bf3e-fc84212ec3b9",
   "metadata": {},
   "outputs": [],
   "source": []
  },
  {
   "cell_type": "code",
   "execution_count": null,
   "id": "7d85e6ef-e9ae-47f6-8ebc-95c3d238ada3",
   "metadata": {},
   "outputs": [],
   "source": []
  },
  {
   "cell_type": "code",
   "execution_count": null,
   "id": "7bc67c5c-7580-4392-a1d2-daf4543911f5",
   "metadata": {},
   "outputs": [],
   "source": []
  },
  {
   "cell_type": "code",
   "execution_count": null,
   "id": "28cf9dcb-ca91-49be-9872-664bd07d0b79",
   "metadata": {},
   "outputs": [],
   "source": []
  },
  {
   "cell_type": "code",
   "execution_count": null,
   "id": "508c9bf7-5237-4422-aeab-565a234e7a56",
   "metadata": {},
   "outputs": [],
   "source": []
  },
  {
   "cell_type": "markdown",
   "id": "93110f21-cda5-4863-818d-1219494c1178",
   "metadata": {},
   "source": [
    "# References\n",
    "\n",
    "1. https://www.kaggle.com/code/davidlist/experiment-ts-6-4-visualization\n",
    "2. https://www.kaggle.com/code/nk35jk/3d-visualization-of-particles"
   ]
  },
  {
   "cell_type": "code",
   "execution_count": null,
   "id": "21a01ce7-7392-45dd-a898-98870c3100ff",
   "metadata": {},
   "outputs": [],
   "source": []
  }
 ],
 "metadata": {
  "kernelspec": {
   "display_name": "Python 3 (ipykernel)",
   "language": "python",
   "name": "python3"
  },
  "language_info": {
   "codemirror_mode": {
    "name": "ipython",
    "version": 3
   },
   "file_extension": ".py",
   "mimetype": "text/x-python",
   "name": "python",
   "nbconvert_exporter": "python",
   "pygments_lexer": "ipython3",
   "version": "3.11.9"
  }
 },
 "nbformat": 4,
 "nbformat_minor": 5
}
